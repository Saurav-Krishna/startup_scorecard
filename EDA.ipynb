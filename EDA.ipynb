{
 "cells": [
  {
   "cell_type": "code",
   "execution_count": 1,
   "metadata": {},
   "outputs": [],
   "source": [
    "import pandas as pd\n",
    "import warnings\n",
    "import matplotlib.pyplot as plt\n",
    "import numpy as np\n",
    "\n",
    "warnings.filterwarnings(\"ignore\")\n"
   ]
  },
  {
   "cell_type": "code",
   "execution_count": 2,
   "metadata": {},
   "outputs": [],
   "source": [
    "pd.set_option('display.max_rows',500)\n",
    "pd.set_option('display.max_columns',500)\n",
    "pd.set_option('display.width',1000)"
   ]
  },
  {
   "cell_type": "code",
   "execution_count": 3,
   "metadata": {},
   "outputs": [],
   "source": [
    "df = pd.read_excel(\"UAE_Merged_All.xlsx\")\n",
    "\n",
    "df_ = df.copy()"
   ]
  },
  {
   "cell_type": "code",
   "execution_count": 4,
   "metadata": {},
   "outputs": [
    {
     "data": {
      "text/html": [
       "<div>\n",
       "<style scoped>\n",
       "    .dataframe tbody tr th:only-of-type {\n",
       "        vertical-align: middle;\n",
       "    }\n",
       "\n",
       "    .dataframe tbody tr th {\n",
       "        vertical-align: top;\n",
       "    }\n",
       "\n",
       "    .dataframe thead th {\n",
       "        text-align: right;\n",
       "    }\n",
       "</style>\n",
       "<table border=\"1\" class=\"dataframe\">\n",
       "  <thead>\n",
       "    <tr style=\"text-align: right;\">\n",
       "      <th></th>\n",
       "      <th>Organization Name</th>\n",
       "      <th>Founded Date</th>\n",
       "      <th>Operating Status</th>\n",
       "      <th>Industries</th>\n",
       "      <th>Headquarters Location</th>\n",
       "      <th>Number of Employees</th>\n",
       "      <th>Last Funding Amount (in USD)</th>\n",
       "      <th>Column1</th>\n",
       "      <th>Last Funding Date</th>\n",
       "      <th>Founders</th>\n",
       "      <th>Number of Funding Rounds</th>\n",
       "      <th>Funding Status</th>\n",
       "      <th>Last Funding Type</th>\n",
       "      <th>Last Equity Funding Amount (in USD)</th>\n",
       "      <th>Last Equity Funding Type</th>\n",
       "      <th>Total Equity Funding Amount (in USD)</th>\n",
       "      <th>Total Funding Amount (in USD)</th>\n",
       "      <th>Top 5 Investors</th>\n",
       "      <th>Diversity Spotlight</th>\n",
       "      <th>Estimated Revenue Range</th>\n",
       "      <th>Number of Articles</th>\n",
       "    </tr>\n",
       "  </thead>\n",
       "  <tbody>\n",
       "    <tr>\n",
       "      <th>0</th>\n",
       "      <td>Kofah</td>\n",
       "      <td>2024-10-10</td>\n",
       "      <td>Active</td>\n",
       "      <td>Fashion, Gift, Marketplace</td>\n",
       "      <td>Dubai, Dubai, United Arab Emirates</td>\n",
       "      <td>1-10</td>\n",
       "      <td>NaN</td>\n",
       "      <td>124.863014</td>\n",
       "      <td>NaT</td>\n",
       "      <td>Khaled Jo</td>\n",
       "      <td>NaN</td>\n",
       "      <td>NaN</td>\n",
       "      <td>NaN</td>\n",
       "      <td>NaN</td>\n",
       "      <td>NaN</td>\n",
       "      <td>NaN</td>\n",
       "      <td>NaN</td>\n",
       "      <td>NaN</td>\n",
       "      <td>NaN</td>\n",
       "      <td>NaN</td>\n",
       "      <td>NaN</td>\n",
       "    </tr>\n",
       "    <tr>\n",
       "      <th>1</th>\n",
       "      <td>BuenAura</td>\n",
       "      <td>2024-10-07</td>\n",
       "      <td>Active</td>\n",
       "      <td>Health Care, Marketplace, Professional Service...</td>\n",
       "      <td>Dubai, Dubai, United Arab Emirates</td>\n",
       "      <td>1-10</td>\n",
       "      <td>NaN</td>\n",
       "      <td>124.854795</td>\n",
       "      <td>NaT</td>\n",
       "      <td>NaN</td>\n",
       "      <td>NaN</td>\n",
       "      <td>NaN</td>\n",
       "      <td>NaN</td>\n",
       "      <td>NaN</td>\n",
       "      <td>NaN</td>\n",
       "      <td>NaN</td>\n",
       "      <td>NaN</td>\n",
       "      <td>NaN</td>\n",
       "      <td>NaN</td>\n",
       "      <td>NaN</td>\n",
       "      <td>NaN</td>\n",
       "    </tr>\n",
       "    <tr>\n",
       "      <th>2</th>\n",
       "      <td>UX Arabic Magazine</td>\n",
       "      <td>2024-09-29</td>\n",
       "      <td>Active</td>\n",
       "      <td>EdTech, Education, Training</td>\n",
       "      <td>Dubai, Dubai, United Arab Emirates</td>\n",
       "      <td>1-10</td>\n",
       "      <td>NaN</td>\n",
       "      <td>124.832877</td>\n",
       "      <td>NaT</td>\n",
       "      <td>NaN</td>\n",
       "      <td>NaN</td>\n",
       "      <td>NaN</td>\n",
       "      <td>NaN</td>\n",
       "      <td>NaN</td>\n",
       "      <td>NaN</td>\n",
       "      <td>NaN</td>\n",
       "      <td>NaN</td>\n",
       "      <td>NaN</td>\n",
       "      <td>NaN</td>\n",
       "      <td>NaN</td>\n",
       "      <td>NaN</td>\n",
       "    </tr>\n",
       "    <tr>\n",
       "      <th>3</th>\n",
       "      <td>Majesty Experiences</td>\n",
       "      <td>2024-09-03</td>\n",
       "      <td>Active</td>\n",
       "      <td>Hospitality, Software</td>\n",
       "      <td>Dubai, Dubai, United Arab Emirates</td>\n",
       "      <td>1-10</td>\n",
       "      <td>NaN</td>\n",
       "      <td>124.761644</td>\n",
       "      <td>NaT</td>\n",
       "      <td>NaN</td>\n",
       "      <td>NaN</td>\n",
       "      <td>NaN</td>\n",
       "      <td>NaN</td>\n",
       "      <td>NaN</td>\n",
       "      <td>NaN</td>\n",
       "      <td>NaN</td>\n",
       "      <td>NaN</td>\n",
       "      <td>NaN</td>\n",
       "      <td>NaN</td>\n",
       "      <td>NaN</td>\n",
       "      <td>1.0</td>\n",
       "    </tr>\n",
       "    <tr>\n",
       "      <th>4</th>\n",
       "      <td>coins.com</td>\n",
       "      <td>2024-09-01</td>\n",
       "      <td>Active</td>\n",
       "      <td>NaN</td>\n",
       "      <td>Dubai, Dubai, United Arab Emirates</td>\n",
       "      <td>11-50</td>\n",
       "      <td>NaN</td>\n",
       "      <td>124.756164</td>\n",
       "      <td>NaT</td>\n",
       "      <td>Adam Perzow</td>\n",
       "      <td>NaN</td>\n",
       "      <td>NaN</td>\n",
       "      <td>NaN</td>\n",
       "      <td>NaN</td>\n",
       "      <td>NaN</td>\n",
       "      <td>NaN</td>\n",
       "      <td>NaN</td>\n",
       "      <td>NaN</td>\n",
       "      <td>NaN</td>\n",
       "      <td>NaN</td>\n",
       "      <td>NaN</td>\n",
       "    </tr>\n",
       "  </tbody>\n",
       "</table>\n",
       "</div>"
      ],
      "text/plain": [
       "     Organization Name Founded Date Operating Status                                         Industries               Headquarters Location Number of Employees  Last Funding Amount (in USD)     Column1 Last Funding Date     Founders  Number of Funding Rounds Funding Status Last Funding Type  Last Equity Funding Amount (in USD) Last Equity Funding Type  Total Equity Funding Amount (in USD)  Total Funding Amount (in USD) Top 5 Investors Diversity Spotlight Estimated Revenue Range  Number of Articles\n",
       "0                Kofah   2024-10-10           Active                         Fashion, Gift, Marketplace  Dubai, Dubai, United Arab Emirates                1-10                           NaN  124.863014               NaT    Khaled Jo                       NaN            NaN               NaN                                  NaN                      NaN                                   NaN                            NaN             NaN                 NaN                     NaN                 NaN\n",
       "1             BuenAura   2024-10-07           Active  Health Care, Marketplace, Professional Service...  Dubai, Dubai, United Arab Emirates                1-10                           NaN  124.854795               NaT          NaN                       NaN            NaN               NaN                                  NaN                      NaN                                   NaN                            NaN             NaN                 NaN                     NaN                 NaN\n",
       "2   UX Arabic Magazine   2024-09-29           Active                        EdTech, Education, Training  Dubai, Dubai, United Arab Emirates                1-10                           NaN  124.832877               NaT          NaN                       NaN            NaN               NaN                                  NaN                      NaN                                   NaN                            NaN             NaN                 NaN                     NaN                 NaN\n",
       "3  Majesty Experiences   2024-09-03           Active                              Hospitality, Software  Dubai, Dubai, United Arab Emirates                1-10                           NaN  124.761644               NaT          NaN                       NaN            NaN               NaN                                  NaN                      NaN                                   NaN                            NaN             NaN                 NaN                     NaN                 1.0\n",
       "4            coins.com   2024-09-01           Active                                                NaN  Dubai, Dubai, United Arab Emirates               11-50                           NaN  124.756164               NaT  Adam Perzow                       NaN            NaN               NaN                                  NaN                      NaN                                   NaN                            NaN             NaN                 NaN                     NaN                 NaN"
      ]
     },
     "execution_count": 4,
     "metadata": {},
     "output_type": "execute_result"
    }
   ],
   "source": [
    "df_.head()"
   ]
  },
  {
   "cell_type": "code",
   "execution_count": 5,
   "metadata": {},
   "outputs": [
    {
     "data": {
      "text/plain": [
       "13000"
      ]
     },
     "execution_count": 5,
     "metadata": {},
     "output_type": "execute_result"
    }
   ],
   "source": [
    "no_fund = len(df['Total Funding Amount (in USD)'].isna())\n",
    "no_fund"
   ]
  },
  {
   "cell_type": "code",
   "execution_count": 132,
   "metadata": {},
   "outputs": [
    {
     "data": {
      "text/html": [
       "<div>\n",
       "<style scoped>\n",
       "    .dataframe tbody tr th:only-of-type {\n",
       "        vertical-align: middle;\n",
       "    }\n",
       "\n",
       "    .dataframe tbody tr th {\n",
       "        vertical-align: top;\n",
       "    }\n",
       "\n",
       "    .dataframe thead th {\n",
       "        text-align: right;\n",
       "    }\n",
       "</style>\n",
       "<table border=\"1\" class=\"dataframe\">\n",
       "  <thead>\n",
       "    <tr style=\"text-align: right;\">\n",
       "      <th></th>\n",
       "      <th>count</th>\n",
       "      <th>mean</th>\n",
       "      <th>min</th>\n",
       "      <th>25%</th>\n",
       "      <th>50%</th>\n",
       "      <th>75%</th>\n",
       "      <th>max</th>\n",
       "      <th>std</th>\n",
       "    </tr>\n",
       "  </thead>\n",
       "  <tbody>\n",
       "    <tr>\n",
       "      <th>Founded Date</th>\n",
       "      <td>13000</td>\n",
       "      <td>2016-10-13 01:11:46.707692288</td>\n",
       "      <td>2010-01-01 00:00:00</td>\n",
       "      <td>2014-01-01 00:00:00</td>\n",
       "      <td>2017-01-01 00:00:00</td>\n",
       "      <td>2020-01-01 00:00:00</td>\n",
       "      <td>2024-10-10 00:00:00</td>\n",
       "      <td>NaN</td>\n",
       "    </tr>\n",
       "    <tr>\n",
       "      <th>Last Funding Amount (in USD)</th>\n",
       "      <td>1166.0</td>\n",
       "      <td>18958004.440823</td>\n",
       "      <td>1000.0</td>\n",
       "      <td>150000.0</td>\n",
       "      <td>1000000.0</td>\n",
       "      <td>3500000.0</td>\n",
       "      <td>3012770949.0</td>\n",
       "      <td>129911381.797818</td>\n",
       "    </tr>\n",
       "    <tr>\n",
       "      <th>Column1</th>\n",
       "      <td>13000.0</td>\n",
       "      <td>101.009407</td>\n",
       "      <td>0.0</td>\n",
       "      <td>112.079452</td>\n",
       "      <td>115.082192</td>\n",
       "      <td>119.084932</td>\n",
       "      <td>124.863014</td>\n",
       "      <td>39.277937</td>\n",
       "    </tr>\n",
       "    <tr>\n",
       "      <th>Last Funding Date</th>\n",
       "      <td>1775</td>\n",
       "      <td>2021-04-26 01:43:50.535211264</td>\n",
       "      <td>2010-06-23 00:00:00</td>\n",
       "      <td>2019-10-01 00:00:00</td>\n",
       "      <td>2022-02-10 00:00:00</td>\n",
       "      <td>2023-06-14 00:00:00</td>\n",
       "      <td>2024-10-20 00:00:00</td>\n",
       "      <td>NaN</td>\n",
       "    </tr>\n",
       "    <tr>\n",
       "      <th>Number of Funding Rounds</th>\n",
       "      <td>1775.0</td>\n",
       "      <td>1.801127</td>\n",
       "      <td>1.0</td>\n",
       "      <td>1.0</td>\n",
       "      <td>1.0</td>\n",
       "      <td>2.0</td>\n",
       "      <td>11.0</td>\n",
       "      <td>1.331857</td>\n",
       "    </tr>\n",
       "    <tr>\n",
       "      <th>Last Equity Funding Amount (in USD)</th>\n",
       "      <td>1134.0</td>\n",
       "      <td>12127490.648148</td>\n",
       "      <td>1000.0</td>\n",
       "      <td>200000.0</td>\n",
       "      <td>1000000.0</td>\n",
       "      <td>3500000.0</td>\n",
       "      <td>1700000000.0</td>\n",
       "      <td>88008557.248094</td>\n",
       "    </tr>\n",
       "    <tr>\n",
       "      <th>Total Equity Funding Amount (in USD)</th>\n",
       "      <td>1276.0</td>\n",
       "      <td>16947826.76489</td>\n",
       "      <td>1000.0</td>\n",
       "      <td>250000.0</td>\n",
       "      <td>1290435.0</td>\n",
       "      <td>4700000.0</td>\n",
       "      <td>2300000000.0</td>\n",
       "      <td>115883902.319516</td>\n",
       "    </tr>\n",
       "    <tr>\n",
       "      <th>Total Funding Amount (in USD)</th>\n",
       "      <td>1346.0</td>\n",
       "      <td>27956056.34101</td>\n",
       "      <td>1000.0</td>\n",
       "      <td>250000.0</td>\n",
       "      <td>1200000.0</td>\n",
       "      <td>4800000.0</td>\n",
       "      <td>3240000000.0</td>\n",
       "      <td>180679564.013879</td>\n",
       "    </tr>\n",
       "    <tr>\n",
       "      <th>Number of Articles</th>\n",
       "      <td>2119.0</td>\n",
       "      <td>11.917886</td>\n",
       "      <td>1.0</td>\n",
       "      <td>1.0</td>\n",
       "      <td>3.0</td>\n",
       "      <td>8.0</td>\n",
       "      <td>2563.0</td>\n",
       "      <td>84.306726</td>\n",
       "    </tr>\n",
       "  </tbody>\n",
       "</table>\n",
       "</div>"
      ],
      "text/plain": [
       "                                        count                           mean                  min                  25%                  50%                  75%                  max               std\n",
       "Founded Date                            13000  2016-10-13 01:11:46.707692288  2010-01-01 00:00:00  2014-01-01 00:00:00  2017-01-01 00:00:00  2020-01-01 00:00:00  2024-10-10 00:00:00               NaN\n",
       "Last Funding Amount (in USD)           1166.0                18958004.440823               1000.0             150000.0            1000000.0            3500000.0         3012770949.0  129911381.797818\n",
       "Column1                               13000.0                     101.009407                  0.0           112.079452           115.082192           119.084932           124.863014         39.277937\n",
       "Last Funding Date                        1775  2021-04-26 01:43:50.535211264  2010-06-23 00:00:00  2019-10-01 00:00:00  2022-02-10 00:00:00  2023-06-14 00:00:00  2024-10-20 00:00:00               NaN\n",
       "Number of Funding Rounds               1775.0                       1.801127                  1.0                  1.0                  1.0                  2.0                 11.0          1.331857\n",
       "Last Equity Funding Amount (in USD)    1134.0                12127490.648148               1000.0             200000.0            1000000.0            3500000.0         1700000000.0   88008557.248094\n",
       "Total Equity Funding Amount (in USD)   1276.0                 16947826.76489               1000.0             250000.0            1290435.0            4700000.0         2300000000.0  115883902.319516\n",
       "Total Funding Amount (in USD)          1346.0                 27956056.34101               1000.0             250000.0            1200000.0            4800000.0         3240000000.0  180679564.013879\n",
       "Number of Articles                     2119.0                      11.917886                  1.0                  1.0                  3.0                  8.0               2563.0         84.306726"
      ]
     },
     "execution_count": 132,
     "metadata": {},
     "output_type": "execute_result"
    }
   ],
   "source": [
    "df.describe().T"
   ]
  },
  {
   "cell_type": "code",
   "execution_count": 6,
   "metadata": {},
   "outputs": [
    {
     "data": {
      "text/plain": [
       "13000"
      ]
     },
     "execution_count": 6,
     "metadata": {},
     "output_type": "execute_result"
    }
   ],
   "source": [
    "len(df['Total Funding Amount (in USD)'])"
   ]
  },
  {
   "cell_type": "code",
   "execution_count": 7,
   "metadata": {},
   "outputs": [],
   "source": [
    "df['Investment/Not'] = df['Total Funding Amount (in USD)'].apply(lambda x: \"NO Funding\" if pd.isna(x) else \"Funding\" )"
   ]
  },
  {
   "cell_type": "code",
   "execution_count": 8,
   "metadata": {},
   "outputs": [],
   "source": [
    "# df = df.drop('Investment/Not', axis=1)\n"
   ]
  },
  {
   "cell_type": "code",
   "execution_count": 9,
   "metadata": {},
   "outputs": [],
   "source": [
    "import seaborn as sns"
   ]
  },
  {
   "cell_type": "code",
   "execution_count": 10,
   "metadata": {},
   "outputs": [
    {
     "data": {
      "image/png": "[encoded data removed]",
      "text/plain": [
       "<Figure size 640x480 with 1 Axes>"
      ]
     },
     "metadata": {},
     "output_type": "display_data"
    }
   ],
   "source": [
    "# plt.figure(20,16)\n",
    "sns.barplot(df['Investment/Not'])\n",
    "plt.title(\"Funding Status\")\n",
    "plt.xlabel(\"Funded or Not\")\n",
    "plt.show()"
   ]
  },
  {
   "cell_type": "code",
   "execution_count": 11,
   "metadata": {},
   "outputs": [
    {
     "data": {
      "text/plain": [
       "<Axes: xlabel='count', ylabel='Investment/Not'>"
      ]
     },
     "execution_count": 11,
     "metadata": {},
     "output_type": "execute_result"
    },
    {
     "data": {
      "image/png": "[encoded data removed]",
      "text/plain": [
       "<Figure size 640x480 with 1 Axes>"
      ]
     },
     "metadata": {},
     "output_type": "display_data"
    }
   ],
   "source": [
    "sns.countplot(df['Investment/Not'])"
   ]
  },
  {
   "cell_type": "code",
   "execution_count": 12,
   "metadata": {},
   "outputs": [],
   "source": [
    "# fund_count = df['Investment/Not'].value_counts()\n",
    "\n",
    "# sns.countplot(x=fund_count.index,y=fund_count.values)\n",
    "# plt.show()"
   ]
  },
  {
   "cell_type": "code",
   "execution_count": 13,
   "metadata": {},
   "outputs": [
    {
     "data": {
      "text/plain": [
       "<Axes: xlabel='count', ylabel='Operating Status'>"
      ]
     },
     "execution_count": 13,
     "metadata": {},
     "output_type": "execute_result"
    },
    {
     "data": {
      "image/png": "[encoded data removed]",
      "text/plain": [
       "<Figure size 640x480 with 1 Axes>"
      ]
     },
     "metadata": {},
     "output_type": "display_data"
    }
   ],
   "source": [
    "sns.countplot(df['Operating Status'])"
   ]
  },
  {
   "cell_type": "code",
   "execution_count": 14,
   "metadata": {},
   "outputs": [
    {
     "data": {
      "text/html": [
       "<div>\n",
       "<style scoped>\n",
       "    .dataframe tbody tr th:only-of-type {\n",
       "        vertical-align: middle;\n",
       "    }\n",
       "\n",
       "    .dataframe tbody tr th {\n",
       "        vertical-align: top;\n",
       "    }\n",
       "\n",
       "    .dataframe thead th {\n",
       "        text-align: right;\n",
       "    }\n",
       "</style>\n",
       "<table border=\"1\" class=\"dataframe\">\n",
       "  <thead>\n",
       "    <tr style=\"text-align: right;\">\n",
       "      <th></th>\n",
       "      <th>Organization Name</th>\n",
       "      <th>Founded Date</th>\n",
       "      <th>Operating Status</th>\n",
       "      <th>Industries</th>\n",
       "      <th>Headquarters Location</th>\n",
       "      <th>Number of Employees</th>\n",
       "      <th>Last Funding Amount (in USD)</th>\n",
       "      <th>Column1</th>\n",
       "      <th>Last Funding Date</th>\n",
       "      <th>Founders</th>\n",
       "      <th>Number of Funding Rounds</th>\n",
       "      <th>Funding Status</th>\n",
       "      <th>Last Funding Type</th>\n",
       "      <th>Last Equity Funding Amount (in USD)</th>\n",
       "      <th>Last Equity Funding Type</th>\n",
       "      <th>Total Equity Funding Amount (in USD)</th>\n",
       "      <th>Total Funding Amount (in USD)</th>\n",
       "      <th>Top 5 Investors</th>\n",
       "      <th>Diversity Spotlight</th>\n",
       "      <th>Estimated Revenue Range</th>\n",
       "      <th>Number of Articles</th>\n",
       "    </tr>\n",
       "    <tr>\n",
       "      <th>Investment/Not</th>\n",
       "      <th></th>\n",
       "      <th></th>\n",
       "      <th></th>\n",
       "      <th></th>\n",
       "      <th></th>\n",
       "      <th></th>\n",
       "      <th></th>\n",
       "      <th></th>\n",
       "      <th></th>\n",
       "      <th></th>\n",
       "      <th></th>\n",
       "      <th></th>\n",
       "      <th></th>\n",
       "      <th></th>\n",
       "      <th></th>\n",
       "      <th></th>\n",
       "      <th></th>\n",
       "      <th></th>\n",
       "      <th></th>\n",
       "      <th></th>\n",
       "      <th></th>\n",
       "    </tr>\n",
       "  </thead>\n",
       "  <tbody>\n",
       "    <tr>\n",
       "      <th>Funding</th>\n",
       "      <td>1346</td>\n",
       "      <td>1346</td>\n",
       "      <td>1346</td>\n",
       "      <td>1309</td>\n",
       "      <td>1346</td>\n",
       "      <td>1312</td>\n",
       "      <td>1166</td>\n",
       "      <td>1346</td>\n",
       "      <td>1346</td>\n",
       "      <td>1047</td>\n",
       "      <td>1346</td>\n",
       "      <td>1147</td>\n",
       "      <td>1346</td>\n",
       "      <td>1134</td>\n",
       "      <td>1285</td>\n",
       "      <td>1276</td>\n",
       "      <td>1346</td>\n",
       "      <td>937</td>\n",
       "      <td>1</td>\n",
       "      <td>640</td>\n",
       "      <td>785</td>\n",
       "    </tr>\n",
       "    <tr>\n",
       "      <th>NO Funding</th>\n",
       "      <td>11654</td>\n",
       "      <td>11654</td>\n",
       "      <td>11654</td>\n",
       "      <td>11145</td>\n",
       "      <td>11654</td>\n",
       "      <td>11165</td>\n",
       "      <td>0</td>\n",
       "      <td>11654</td>\n",
       "      <td>429</td>\n",
       "      <td>3447</td>\n",
       "      <td>429</td>\n",
       "      <td>429</td>\n",
       "      <td>429</td>\n",
       "      <td>0</td>\n",
       "      <td>368</td>\n",
       "      <td>0</td>\n",
       "      <td>0</td>\n",
       "      <td>323</td>\n",
       "      <td>5</td>\n",
       "      <td>5188</td>\n",
       "      <td>1334</td>\n",
       "    </tr>\n",
       "  </tbody>\n",
       "</table>\n",
       "</div>"
      ],
      "text/plain": [
       "                Organization Name  Founded Date  Operating Status  Industries  Headquarters Location  Number of Employees  Last Funding Amount (in USD)  Column1  Last Funding Date  Founders  Number of Funding Rounds  Funding Status  Last Funding Type  Last Equity Funding Amount (in USD)  Last Equity Funding Type  Total Equity Funding Amount (in USD)  Total Funding Amount (in USD)  Top 5 Investors  Diversity Spotlight  Estimated Revenue Range  Number of Articles\n",
       "Investment/Not                                                                                                                                                                                                                                                                                                                                                                                                                                                                   \n",
       "Funding                      1346          1346              1346        1309                   1346                 1312                          1166     1346               1346      1047                      1346            1147               1346                                 1134                      1285                                  1276                           1346              937                    1                      640                 785\n",
       "NO Funding                  11654         11654             11654       11145                  11654                11165                             0    11654                429      3447                       429             429                429                                    0                       368                                     0                              0              323                    5                     5188                1334"
      ]
     },
     "execution_count": 14,
     "metadata": {},
     "output_type": "execute_result"
    }
   ],
   "source": [
    "df.groupby('Investment/Not').count()"
   ]
  },
  {
   "cell_type": "code",
   "execution_count": 15,
   "metadata": {},
   "outputs": [
    {
     "data": {
      "text/plain": [
       "array(['1-10', '11-50', '51-100', nan, '101-250', '501-1000', '251-500',\n",
       "       '1001-5000', '10001+', '5001-10000'], dtype=object)"
      ]
     },
     "execution_count": 15,
     "metadata": {},
     "output_type": "execute_result"
    }
   ],
   "source": [
    "df['Number of Employees'].unique()"
   ]
  },
  {
   "cell_type": "code",
   "execution_count": 16,
   "metadata": {},
   "outputs": [],
   "source": [
    "# encoding the employees count\n",
    "\n",
    "# def encoding_emp(x):\n",
    "    # "
   ]
  },
  {
   "cell_type": "code",
   "execution_count": 17,
   "metadata": {},
   "outputs": [],
   "source": [
    "emp_dict = {\n",
    "    '1-10' : 1,\n",
    "    '11-50' : 2,\n",
    "    '51-100' : 3,\n",
    "    '101-250' : 4,\n",
    "    '251-500' : 5,\n",
    "    '501-1000' : 6,\n",
    "    '1001-5000' : 7,\n",
    "    '5001-10000' : 8,\n",
    "    '10001+' : 9\n",
    "}\n",
    "\n",
    "est_rev_dict = {\n",
    "    'Less than $1M': \"7\",\n",
    "    '$1M to $10M' : \"2\",\n",
    "    '$10M to $50M' : \"1\",\n",
    "    '$500M to $1B' : \"3\",\n",
    "    '$50M to $100M' : \"4\",\n",
    "    '$100M to $500M' : \"5\",\n",
    "    '$1B to $10B' : \"6\",\n",
    "    '$10B+' : \"8\"\n",
    "}\n",
    "\n",
    "# find the mid point then based on that categorize \n",
    "# low priority paramenter "
   ]
  },
  {
   "cell_type": "code",
   "execution_count": 18,
   "metadata": {},
   "outputs": [
    {
     "data": {
      "text/plain": [
       "array([nan, 'Less than $1M', '$1M to $10M', '$10M to $50M',\n",
       "       '$500M to $1B', '$50M to $100M', '$100M to $500M', '$1B to $10B',\n",
       "       '$10B+'], dtype=object)"
      ]
     },
     "execution_count": 18,
     "metadata": {},
     "output_type": "execute_result"
    }
   ],
   "source": [
    "df['Estimated Revenue Range'].unique()"
   ]
  },
  {
   "cell_type": "code",
   "execution_count": null,
   "metadata": {},
   "outputs": [],
   "source": []
  },
  {
   "cell_type": "code",
   "execution_count": 19,
   "metadata": {},
   "outputs": [
    {
     "data": {
      "text/plain": [
       "Organization Name                       1346\n",
       "Founded Date                            1346\n",
       "Operating Status                        1346\n",
       "Industries                              1309\n",
       "Headquarters Location                   1346\n",
       "Number of Employees                     1312\n",
       "Last Funding Amount (in USD)            1166\n",
       "Column1                                 1346\n",
       "Last Funding Date                       1346\n",
       "Founders                                1047\n",
       "Number of Funding Rounds                1346\n",
       "Funding Status                          1147\n",
       "Last Funding Type                       1346\n",
       "Last Equity Funding Amount (in USD)     1134\n",
       "Last Equity Funding Type                1285\n",
       "Total Equity Funding Amount (in USD)    1276\n",
       "Total Funding Amount (in USD)           1346\n",
       "Top 5 Investors                          937\n",
       "Diversity Spotlight                        1\n",
       "Estimated Revenue Range                  640\n",
       "Number of Articles                       785\n",
       "Investment/Not                          1346\n",
       "dtype: int64"
      ]
     },
     "execution_count": 19,
     "metadata": {},
     "output_type": "execute_result"
    }
   ],
   "source": [
    "funded_df = df[df['Investment/Not']=='Funding']\n",
    "funded_df.count()"
   ]
  },
  {
   "cell_type": "code",
   "execution_count": 20,
   "metadata": {},
   "outputs": [
    {
     "name": "stdout",
     "output_type": "stream",
     "text": [
      "Active companies : 12619 \n",
      " Closed companies : 381\n"
     ]
    }
   ],
   "source": [
    "active_comp = df[df['Operating Status']==\"Active\"]['Organization Name'].count()\n",
    "closed_comp = df[df['Operating Status']==\"Closed\"]['Organization Name'].count()\n",
    "\n",
    "print(f\"Active companies : {active_comp} \\n Closed companies : {closed_comp}\" )"
   ]
  },
  {
   "cell_type": "code",
   "execution_count": 21,
   "metadata": {},
   "outputs": [
    {
     "data": {
      "text/plain": [
       "<Axes: xlabel='count', ylabel='Operating Status'>"
      ]
     },
     "execution_count": 21,
     "metadata": {},
     "output_type": "execute_result"
    },
    {
     "data": {
      "image/png": "[encoded data removed]",
      "text/plain": [
       "<Figure size 640x480 with 1 Axes>"
      ]
     },
     "metadata": {},
     "output_type": "display_data"
    }
   ],
   "source": [
    "sns.countplot(df['Operating Status'])   # count of quantitative variables whereas barplot mean of quanititative variable."
   ]
  },
  {
   "cell_type": "markdown",
   "metadata": {},
   "source": [
    "- Active and Funded Companies are : 1257"
   ]
  },
  {
   "cell_type": "code",
   "execution_count": 22,
   "metadata": {},
   "outputs": [
    {
     "data": {
      "text/plain": [
       "np.int64(1257)"
      ]
     },
     "execution_count": 22,
     "metadata": {},
     "output_type": "execute_result"
    }
   ],
   "source": [
    "filter_df = df[(df['Operating Status'] == \"Active\") & (df['Investment/Not']=='Funding')]\n",
    "\n",
    "filter_df['Organization Name'].count()"
   ]
  },
  {
   "cell_type": "code",
   "execution_count": 23,
   "metadata": {},
   "outputs": [
    {
     "data": {
      "text/plain": [
       "np.int64(292)"
      ]
     },
     "execution_count": 23,
     "metadata": {},
     "output_type": "execute_result"
    }
   ],
   "source": [
    "filter_2 = df[(df['Operating Status']=='Closed')& (df['Investment/Not']=='NO Funding')]['Organization Name']\n",
    "\n",
    "filter_2.count()"
   ]
  },
  {
   "cell_type": "code",
   "execution_count": 24,
   "metadata": {},
   "outputs": [
    {
     "ename": "TypeError",
     "evalue": "barplot() takes from 0 to 1 positional arguments but 2 were given",
     "output_type": "error",
     "traceback": [
      "\u001b[1;31m---------------------------------------------------------------------------\u001b[0m",
      "\u001b[1;31mTypeError\u001b[0m                                 Traceback (most recent call last)",
      "Cell \u001b[1;32mIn[24], line 1\u001b[0m\n\u001b[1;32m----> 1\u001b[0m \u001b[43msns\u001b[49m\u001b[38;5;241;43m.\u001b[39;49m\u001b[43mbarplot\u001b[49m\u001b[43m(\u001b[49m\u001b[43mfilter_df\u001b[49m\u001b[43m,\u001b[49m\u001b[43mfilter_2\u001b[49m\u001b[43m)\u001b[49m\n",
      "\u001b[1;31mTypeError\u001b[0m: barplot() takes from 0 to 1 positional arguments but 2 were given"
     ]
    }
   ],
   "source": [
    "sns.barplot(filter_df,filter_2)"
   ]
  },
  {
   "cell_type": "code",
   "execution_count": 25,
   "metadata": {},
   "outputs": [
    {
     "data": {
      "text/plain": [
       "<Axes: ylabel='count'>"
      ]
     },
     "execution_count": 25,
     "metadata": {},
     "output_type": "execute_result"
    },
    {
     "data": {
      "image/png": "[encoded data removed]",
      "text/plain": [
       "<Figure size 640x480 with 1 Axes>"
      ]
     },
     "metadata": {},
     "output_type": "display_data"
    }
   ],
   "source": [
    "sns.countplot(filter_df)"
   ]
  },
  {
   "cell_type": "markdown",
   "metadata": {},
   "source": [
    "### Analysing the filter_df which are \"Active\" and are funded"
   ]
  },
  {
   "cell_type": "code",
   "execution_count": 26,
   "metadata": {},
   "outputs": [
    {
     "data": {
      "text/html": [
       "<div>\n",
       "<style scoped>\n",
       "    .dataframe tbody tr th:only-of-type {\n",
       "        vertical-align: middle;\n",
       "    }\n",
       "\n",
       "    .dataframe tbody tr th {\n",
       "        vertical-align: top;\n",
       "    }\n",
       "\n",
       "    .dataframe thead th {\n",
       "        text-align: right;\n",
       "    }\n",
       "</style>\n",
       "<table border=\"1\" class=\"dataframe\">\n",
       "  <thead>\n",
       "    <tr style=\"text-align: right;\">\n",
       "      <th></th>\n",
       "      <th>index</th>\n",
       "      <th>Organization Name</th>\n",
       "      <th>Founded Date</th>\n",
       "      <th>Operating Status</th>\n",
       "      <th>Industries</th>\n",
       "      <th>Headquarters Location</th>\n",
       "      <th>Number of Employees</th>\n",
       "      <th>Last Funding Amount (in USD)</th>\n",
       "      <th>Column1</th>\n",
       "      <th>Last Funding Date</th>\n",
       "      <th>Founders</th>\n",
       "      <th>Number of Funding Rounds</th>\n",
       "      <th>Funding Status</th>\n",
       "      <th>Last Funding Type</th>\n",
       "      <th>Last Equity Funding Amount (in USD)</th>\n",
       "      <th>Last Equity Funding Type</th>\n",
       "      <th>Total Equity Funding Amount (in USD)</th>\n",
       "      <th>Total Funding Amount (in USD)</th>\n",
       "      <th>Top 5 Investors</th>\n",
       "      <th>Diversity Spotlight</th>\n",
       "      <th>Estimated Revenue Range</th>\n",
       "      <th>Number of Articles</th>\n",
       "      <th>Investment/Not</th>\n",
       "    </tr>\n",
       "  </thead>\n",
       "  <tbody>\n",
       "    <tr>\n",
       "      <th>0</th>\n",
       "      <td>21</td>\n",
       "      <td>NogBase</td>\n",
       "      <td>2024-05-10</td>\n",
       "      <td>Active</td>\n",
       "      <td>Property Development, PropTech, SaaS, Software</td>\n",
       "      <td>Dubai, Dubai, United Arab Emirates</td>\n",
       "      <td>1-10</td>\n",
       "      <td>50000.0</td>\n",
       "      <td>0.356164</td>\n",
       "      <td>2024-01-01</td>\n",
       "      <td>Abdo Khaire</td>\n",
       "      <td>1.0</td>\n",
       "      <td>Seed</td>\n",
       "      <td>Pre-Seed</td>\n",
       "      <td>50000.0</td>\n",
       "      <td>Pre-Seed</td>\n",
       "      <td>50000.0</td>\n",
       "      <td>50000.0</td>\n",
       "      <td>NaN</td>\n",
       "      <td>NaN</td>\n",
       "      <td>NaN</td>\n",
       "      <td>NaN</td>\n",
       "      <td>Funding</td>\n",
       "    </tr>\n",
       "    <tr>\n",
       "      <th>1</th>\n",
       "      <td>42</td>\n",
       "      <td>Byzanlink</td>\n",
       "      <td>2024-01-30</td>\n",
       "      <td>Active</td>\n",
       "      <td>Blockchain, Cryptocurrency, Developer Platform...</td>\n",
       "      <td>Dubai, Dubai, United Arab Emirates</td>\n",
       "      <td>1-10</td>\n",
       "      <td>1000000.0</td>\n",
       "      <td>0.252055</td>\n",
       "      <td>2024-05-01</td>\n",
       "      <td>Anbu Kannappan</td>\n",
       "      <td>1.0</td>\n",
       "      <td>Seed</td>\n",
       "      <td>Pre-Seed</td>\n",
       "      <td>1000000.0</td>\n",
       "      <td>Pre-Seed</td>\n",
       "      <td>1000000.0</td>\n",
       "      <td>1000000.0</td>\n",
       "      <td>NaN</td>\n",
       "      <td>NaN</td>\n",
       "      <td>NaN</td>\n",
       "      <td>NaN</td>\n",
       "      <td>Funding</td>\n",
       "    </tr>\n",
       "    <tr>\n",
       "      <th>2</th>\n",
       "      <td>51</td>\n",
       "      <td>Sorbet</td>\n",
       "      <td>2024-01-09</td>\n",
       "      <td>Active</td>\n",
       "      <td>Blockchain, Cryptocurrency, Payments, SaaS, Web3</td>\n",
       "      <td>Abu Dhabi, Abu Dhabi, United Arab Emirates</td>\n",
       "      <td>1-10</td>\n",
       "      <td>180000.0</td>\n",
       "      <td>0.000000</td>\n",
       "      <td>2024-01-09</td>\n",
       "      <td>Rami Djebari</td>\n",
       "      <td>1.0</td>\n",
       "      <td>Seed</td>\n",
       "      <td>Pre-Seed</td>\n",
       "      <td>180000.0</td>\n",
       "      <td>Pre-Seed</td>\n",
       "      <td>180000.0</td>\n",
       "      <td>180000.0</td>\n",
       "      <td>Antler, Adaverse</td>\n",
       "      <td>NaN</td>\n",
       "      <td>NaN</td>\n",
       "      <td>NaN</td>\n",
       "      <td>Funding</td>\n",
       "    </tr>\n",
       "    <tr>\n",
       "      <th>3</th>\n",
       "      <td>57</td>\n",
       "      <td>Octa</td>\n",
       "      <td>2024-01-01</td>\n",
       "      <td>Active</td>\n",
       "      <td>Information Technology, Internet, Software</td>\n",
       "      <td>Abu Dhabi, Abu Dhabi, United Arab Emirates</td>\n",
       "      <td>1-10</td>\n",
       "      <td>2250000.0</td>\n",
       "      <td>0.775342</td>\n",
       "      <td>2024-10-10</td>\n",
       "      <td>Jon Edward Santillan, Nupur Mittal</td>\n",
       "      <td>1.0</td>\n",
       "      <td>Seed</td>\n",
       "      <td>Pre-Seed</td>\n",
       "      <td>2250000.0</td>\n",
       "      <td>Pre-Seed</td>\n",
       "      <td>2250000.0</td>\n",
       "      <td>2250000.0</td>\n",
       "      <td>500 Global, Quona Capital, Sukna Ventures, Plu...</td>\n",
       "      <td>NaN</td>\n",
       "      <td>NaN</td>\n",
       "      <td>NaN</td>\n",
       "      <td>Funding</td>\n",
       "    </tr>\n",
       "    <tr>\n",
       "      <th>4</th>\n",
       "      <td>58</td>\n",
       "      <td>Orbitworks</td>\n",
       "      <td>2024-01-01</td>\n",
       "      <td>Active</td>\n",
       "      <td>Manufacturing, Space Travel</td>\n",
       "      <td>Abu Dhabi, Abu Dhabi, United Arab Emirates</td>\n",
       "      <td>NaN</td>\n",
       "      <td>100000000.0</td>\n",
       "      <td>0.652055</td>\n",
       "      <td>2024-08-26</td>\n",
       "      <td>NaN</td>\n",
       "      <td>1.0</td>\n",
       "      <td>NaN</td>\n",
       "      <td>Corporate Round</td>\n",
       "      <td>100000000.0</td>\n",
       "      <td>Corporate Round</td>\n",
       "      <td>100000000.0</td>\n",
       "      <td>100000000.0</td>\n",
       "      <td>Loft Orbital, Marlan Space</td>\n",
       "      <td>NaN</td>\n",
       "      <td>NaN</td>\n",
       "      <td>NaN</td>\n",
       "      <td>Funding</td>\n",
       "    </tr>\n",
       "  </tbody>\n",
       "</table>\n",
       "</div>"
      ],
      "text/plain": [
       "   index Organization Name Founded Date Operating Status                                         Industries                       Headquarters Location Number of Employees  Last Funding Amount (in USD)   Column1 Last Funding Date                            Founders  Number of Funding Rounds Funding Status Last Funding Type  Last Equity Funding Amount (in USD) Last Equity Funding Type  Total Equity Funding Amount (in USD)  Total Funding Amount (in USD)                                    Top 5 Investors Diversity Spotlight Estimated Revenue Range  Number of Articles Investment/Not\n",
       "0     21           NogBase   2024-05-10           Active     Property Development, PropTech, SaaS, Software          Dubai, Dubai, United Arab Emirates                1-10                       50000.0  0.356164        2024-01-01                         Abdo Khaire                       1.0           Seed          Pre-Seed                              50000.0                 Pre-Seed                               50000.0                        50000.0                                                NaN                 NaN                     NaN                 NaN        Funding\n",
       "1     42         Byzanlink   2024-01-30           Active  Blockchain, Cryptocurrency, Developer Platform...          Dubai, Dubai, United Arab Emirates                1-10                     1000000.0  0.252055        2024-05-01                      Anbu Kannappan                       1.0           Seed          Pre-Seed                            1000000.0                 Pre-Seed                             1000000.0                      1000000.0                                                NaN                 NaN                     NaN                 NaN        Funding\n",
       "2     51            Sorbet   2024-01-09           Active   Blockchain, Cryptocurrency, Payments, SaaS, Web3  Abu Dhabi, Abu Dhabi, United Arab Emirates                1-10                      180000.0  0.000000        2024-01-09                        Rami Djebari                       1.0           Seed          Pre-Seed                             180000.0                 Pre-Seed                              180000.0                       180000.0                                   Antler, Adaverse                 NaN                     NaN                 NaN        Funding\n",
       "3     57              Octa   2024-01-01           Active         Information Technology, Internet, Software  Abu Dhabi, Abu Dhabi, United Arab Emirates                1-10                     2250000.0  0.775342        2024-10-10  Jon Edward Santillan, Nupur Mittal                       1.0           Seed          Pre-Seed                            2250000.0                 Pre-Seed                             2250000.0                      2250000.0  500 Global, Quona Capital, Sukna Ventures, Plu...                 NaN                     NaN                 NaN        Funding\n",
       "4     58        Orbitworks   2024-01-01           Active                        Manufacturing, Space Travel  Abu Dhabi, Abu Dhabi, United Arab Emirates                 NaN                   100000000.0  0.652055        2024-08-26                                 NaN                       1.0            NaN   Corporate Round                          100000000.0          Corporate Round                           100000000.0                    100000000.0                         Loft Orbital, Marlan Space                 NaN                     NaN                 NaN        Funding"
      ]
     },
     "execution_count": 26,
     "metadata": {},
     "output_type": "execute_result"
    }
   ],
   "source": [
    "filter_df.reset_index(inplace=True)\n",
    "filter_df.head()"
   ]
  },
  {
   "cell_type": "code",
   "execution_count": 27,
   "metadata": {},
   "outputs": [],
   "source": [
    "def count_names(col):\n",
    "    return col.apply(lambda x: len(x.split(\",\")) if isinstance(x,str) and x.strip() else 0)\n",
    "\n"
   ]
  },
  {
   "cell_type": "code",
   "execution_count": 28,
   "metadata": {},
   "outputs": [
    {
     "name": "stdout",
     "output_type": "stream",
     "text": [
      "<class 'pandas.core.frame.DataFrame'>\n",
      "RangeIndex: 1257 entries, 0 to 1256\n",
      "Data columns (total 23 columns):\n",
      " #   Column                                Non-Null Count  Dtype         \n",
      "---  ------                                --------------  -----         \n",
      " 0   index                                 1257 non-null   int64         \n",
      " 1   Organization Name                     1257 non-null   object        \n",
      " 2   Founded Date                          1257 non-null   datetime64[ns]\n",
      " 3   Operating Status                      1257 non-null   object        \n",
      " 4   Industries                            1226 non-null   object        \n",
      " 5   Headquarters Location                 1257 non-null   object        \n",
      " 6   Number of Employees                   1231 non-null   object        \n",
      " 7   Last Funding Amount (in USD)          1083 non-null   float64       \n",
      " 8   Column1                               1257 non-null   float64       \n",
      " 9   Last Funding Date                     1257 non-null   datetime64[ns]\n",
      " 10  Founders                              968 non-null    object        \n",
      " 11  Number of Funding Rounds              1257 non-null   float64       \n",
      " 12  Funding Status                        1068 non-null   object        \n",
      " 13  Last Funding Type                     1257 non-null   object        \n",
      " 14  Last Equity Funding Amount (in USD)   1055 non-null   float64       \n",
      " 15  Last Equity Funding Type              1201 non-null   object        \n",
      " 16  Total Equity Funding Amount (in USD)  1194 non-null   float64       \n",
      " 17  Total Funding Amount (in USD)         1257 non-null   float64       \n",
      " 18  Top 5 Investors                       889 non-null    object        \n",
      " 19  Diversity Spotlight                   1 non-null      object        \n",
      " 20  Estimated Revenue Range               604 non-null    object        \n",
      " 21  Number of Articles                    757 non-null    float64       \n",
      " 22  Investment/Not                        1257 non-null   object        \n",
      "dtypes: datetime64[ns](2), float64(7), int64(1), object(13)\n",
      "memory usage: 226.0+ KB\n"
     ]
    }
   ],
   "source": [
    "filter_df.info()"
   ]
  },
  {
   "cell_type": "code",
   "execution_count": 29,
   "metadata": {},
   "outputs": [],
   "source": [
    "filter_df['No of Founders'] = count_names(filter_df['Founders'])\n",
    "filter_df['No Investors'] = count_names(filter_df['Top 5 Investors'])\n",
    "\n",
    "# filter_df.rename(columns={\"Top 5 Investors\" : \"No of Investors\",\"Founders\" : \"No of Founders\"})\n",
    "\n"
   ]
  },
  {
   "cell_type": "code",
   "execution_count": 30,
   "metadata": {},
   "outputs": [],
   "source": [
    "col = ['Organization Name','Founded Date','Number of Employees','Last Funding Amount (in USD)','Funding Status','Total Funding Amount (in USD)',\n",
    "       'No Investors','No of Founders','Diversity Spotlight','Number of Articles','Last Funding Date']"
   ]
  },
  {
   "cell_type": "code",
   "execution_count": 31,
   "metadata": {},
   "outputs": [],
   "source": [
    "num_fil_df = []\n",
    "cat_fil_df = []\n",
    "for i in col:\n",
    "    if filter_df[i].dtype == \"object\":\n",
    "        cat_fil_df.append(i)\n",
    "\n",
    "    else:\n",
    "        num_fil_df.append(i)"
   ]
  },
  {
   "cell_type": "code",
   "execution_count": 32,
   "metadata": {},
   "outputs": [
    {
     "name": "stdout",
     "output_type": "stream",
     "text": [
      "['Organization Name', 'Number of Employees', 'Funding Status', 'Diversity Spotlight']\n",
      "-------------\n",
      "---------\n",
      "['Founded Date', 'Last Funding Amount (in USD)', 'Total Funding Amount (in USD)', 'No Investors', 'No of Founders', 'Number of Articles', 'Last Funding Date']\n"
     ]
    }
   ],
   "source": [
    "print(cat_fil_df)\n",
    "print(f\"-------------\\n---------\")\n",
    "print(num_fil_df)"
   ]
  },
  {
   "cell_type": "code",
   "execution_count": 33,
   "metadata": {},
   "outputs": [
    {
     "name": "stdout",
     "output_type": "stream",
     "text": [
      "<class 'pandas.core.frame.DataFrame'>\n",
      "RangeIndex: 1257 entries, 0 to 1256\n",
      "Data columns (total 2 columns):\n",
      " #   Column             Non-Null Count  Dtype         \n",
      "---  ------             --------------  -----         \n",
      " 0   Founded Date       1257 non-null   datetime64[ns]\n",
      " 1   Last Funding Date  1257 non-null   datetime64[ns]\n",
      "dtypes: datetime64[ns](2)\n",
      "memory usage: 19.8 KB\n"
     ]
    }
   ],
   "source": [
    "filter_df[['Founded Date','Last Funding Date']].info()"
   ]
  },
  {
   "cell_type": "code",
   "execution_count": 34,
   "metadata": {},
   "outputs": [
    {
     "data": {
      "text/html": [
       "<div>\n",
       "<style scoped>\n",
       "    .dataframe tbody tr th:only-of-type {\n",
       "        vertical-align: middle;\n",
       "    }\n",
       "\n",
       "    .dataframe tbody tr th {\n",
       "        vertical-align: top;\n",
       "    }\n",
       "\n",
       "    .dataframe thead th {\n",
       "        text-align: right;\n",
       "    }\n",
       "</style>\n",
       "<table border=\"1\" class=\"dataframe\">\n",
       "  <thead>\n",
       "    <tr style=\"text-align: right;\">\n",
       "      <th></th>\n",
       "      <th>Founded Date</th>\n",
       "      <th>Last Funding Amount (in USD)</th>\n",
       "      <th>Total Funding Amount (in USD)</th>\n",
       "      <th>No Investors</th>\n",
       "      <th>No of Founders</th>\n",
       "      <th>Number of Articles</th>\n",
       "      <th>Last Funding Date</th>\n",
       "    </tr>\n",
       "  </thead>\n",
       "  <tbody>\n",
       "    <tr>\n",
       "      <th>0</th>\n",
       "      <td>2024-05-10</td>\n",
       "      <td>50000.0</td>\n",
       "      <td>50000.0</td>\n",
       "      <td>0</td>\n",
       "      <td>1</td>\n",
       "      <td>NaN</td>\n",
       "      <td>2024-01-01</td>\n",
       "    </tr>\n",
       "    <tr>\n",
       "      <th>1</th>\n",
       "      <td>2024-01-30</td>\n",
       "      <td>1000000.0</td>\n",
       "      <td>1000000.0</td>\n",
       "      <td>0</td>\n",
       "      <td>1</td>\n",
       "      <td>NaN</td>\n",
       "      <td>2024-05-01</td>\n",
       "    </tr>\n",
       "    <tr>\n",
       "      <th>2</th>\n",
       "      <td>2024-01-09</td>\n",
       "      <td>180000.0</td>\n",
       "      <td>180000.0</td>\n",
       "      <td>2</td>\n",
       "      <td>1</td>\n",
       "      <td>NaN</td>\n",
       "      <td>2024-01-09</td>\n",
       "    </tr>\n",
       "    <tr>\n",
       "      <th>3</th>\n",
       "      <td>2024-01-01</td>\n",
       "      <td>2250000.0</td>\n",
       "      <td>2250000.0</td>\n",
       "      <td>5</td>\n",
       "      <td>2</td>\n",
       "      <td>NaN</td>\n",
       "      <td>2024-10-10</td>\n",
       "    </tr>\n",
       "    <tr>\n",
       "      <th>4</th>\n",
       "      <td>2024-01-01</td>\n",
       "      <td>100000000.0</td>\n",
       "      <td>100000000.0</td>\n",
       "      <td>2</td>\n",
       "      <td>0</td>\n",
       "      <td>NaN</td>\n",
       "      <td>2024-08-26</td>\n",
       "    </tr>\n",
       "    <tr>\n",
       "      <th>...</th>\n",
       "      <td>...</td>\n",
       "      <td>...</td>\n",
       "      <td>...</td>\n",
       "      <td>...</td>\n",
       "      <td>...</td>\n",
       "      <td>...</td>\n",
       "      <td>...</td>\n",
       "    </tr>\n",
       "    <tr>\n",
       "      <th>1252</th>\n",
       "      <td>2010-01-09</td>\n",
       "      <td>89000000.0</td>\n",
       "      <td>89000000.0</td>\n",
       "      <td>1</td>\n",
       "      <td>1</td>\n",
       "      <td>NaN</td>\n",
       "      <td>2014-04-04</td>\n",
       "    </tr>\n",
       "    <tr>\n",
       "      <th>1253</th>\n",
       "      <td>2010-01-01</td>\n",
       "      <td>44000000.0</td>\n",
       "      <td>52500000.0</td>\n",
       "      <td>5</td>\n",
       "      <td>2</td>\n",
       "      <td>10.0</td>\n",
       "      <td>2022-03-28</td>\n",
       "    </tr>\n",
       "    <tr>\n",
       "      <th>1254</th>\n",
       "      <td>2010-01-01</td>\n",
       "      <td>20000000.0</td>\n",
       "      <td>20000000.0</td>\n",
       "      <td>1</td>\n",
       "      <td>0</td>\n",
       "      <td>NaN</td>\n",
       "      <td>2024-04-08</td>\n",
       "    </tr>\n",
       "    <tr>\n",
       "      <th>1255</th>\n",
       "      <td>2010-01-01</td>\n",
       "      <td>2600000.0</td>\n",
       "      <td>4700000.0</td>\n",
       "      <td>4</td>\n",
       "      <td>1</td>\n",
       "      <td>5.0</td>\n",
       "      <td>2016-10-11</td>\n",
       "    </tr>\n",
       "    <tr>\n",
       "      <th>1256</th>\n",
       "      <td>2010-01-01</td>\n",
       "      <td>18615.0</td>\n",
       "      <td>23615.0</td>\n",
       "      <td>0</td>\n",
       "      <td>1</td>\n",
       "      <td>NaN</td>\n",
       "      <td>2018-11-21</td>\n",
       "    </tr>\n",
       "  </tbody>\n",
       "</table>\n",
       "<p>1257 rows × 7 columns</p>\n",
       "</div>"
      ],
      "text/plain": [
       "     Founded Date  Last Funding Amount (in USD)  Total Funding Amount (in USD)  No Investors  No of Founders  Number of Articles Last Funding Date\n",
       "0      2024-05-10                       50000.0                        50000.0             0               1                 NaN        2024-01-01\n",
       "1      2024-01-30                     1000000.0                      1000000.0             0               1                 NaN        2024-05-01\n",
       "2      2024-01-09                      180000.0                       180000.0             2               1                 NaN        2024-01-09\n",
       "3      2024-01-01                     2250000.0                      2250000.0             5               2                 NaN        2024-10-10\n",
       "4      2024-01-01                   100000000.0                    100000000.0             2               0                 NaN        2024-08-26\n",
       "...           ...                           ...                            ...           ...             ...                 ...               ...\n",
       "1252   2010-01-09                    89000000.0                     89000000.0             1               1                 NaN        2014-04-04\n",
       "1253   2010-01-01                    44000000.0                     52500000.0             5               2                10.0        2022-03-28\n",
       "1254   2010-01-01                    20000000.0                     20000000.0             1               0                 NaN        2024-04-08\n",
       "1255   2010-01-01                     2600000.0                      4700000.0             4               1                 5.0        2016-10-11\n",
       "1256   2010-01-01                       18615.0                        23615.0             0               1                 NaN        2018-11-21\n",
       "\n",
       "[1257 rows x 7 columns]"
      ]
     },
     "execution_count": 34,
     "metadata": {},
     "output_type": "execute_result"
    }
   ],
   "source": [
    "filter_df[num_fil_df]"
   ]
  },
  {
   "cell_type": "code",
   "execution_count": 35,
   "metadata": {},
   "outputs": [],
   "source": [
    "filter_df['Funded_Age'] = (filter_df['Last Funding Date'] - filter_df['Founded Date']).dt.days // 365\n",
    "\n",
    "# df['age'] = (df['Last Funding Date'] - df['Founded Date']).dt.days // 365"
   ]
  },
  {
   "cell_type": "code",
   "execution_count": 36,
   "metadata": {},
   "outputs": [],
   "source": [
    "from datetime import datetime"
   ]
  },
  {
   "cell_type": "code",
   "execution_count": 37,
   "metadata": {},
   "outputs": [],
   "source": [
    "curr_date = pd.Timestamp(datetime.now())"
   ]
  },
  {
   "cell_type": "code",
   "execution_count": 38,
   "metadata": {},
   "outputs": [],
   "source": [
    "filter_df['Current_Age'] = (curr_date - filter_df['Founded Date']).dt.days // 365"
   ]
  },
  {
   "cell_type": "code",
   "execution_count": 39,
   "metadata": {},
   "outputs": [
    {
     "data": {
      "text/html": [
       "<div>\n",
       "<style scoped>\n",
       "    .dataframe tbody tr th:only-of-type {\n",
       "        vertical-align: middle;\n",
       "    }\n",
       "\n",
       "    .dataframe tbody tr th {\n",
       "        vertical-align: top;\n",
       "    }\n",
       "\n",
       "    .dataframe thead th {\n",
       "        text-align: right;\n",
       "    }\n",
       "</style>\n",
       "<table border=\"1\" class=\"dataframe\">\n",
       "  <thead>\n",
       "    <tr style=\"text-align: right;\">\n",
       "      <th></th>\n",
       "      <th>Organization Name</th>\n",
       "      <th>Current_Age</th>\n",
       "      <th>Funded_Age</th>\n",
       "    </tr>\n",
       "  </thead>\n",
       "  <tbody>\n",
       "    <tr>\n",
       "      <th>0</th>\n",
       "      <td>NogBase</td>\n",
       "      <td>0</td>\n",
       "      <td>-1</td>\n",
       "    </tr>\n",
       "    <tr>\n",
       "      <th>1</th>\n",
       "      <td>Byzanlink</td>\n",
       "      <td>0</td>\n",
       "      <td>0</td>\n",
       "    </tr>\n",
       "    <tr>\n",
       "      <th>2</th>\n",
       "      <td>Sorbet</td>\n",
       "      <td>0</td>\n",
       "      <td>0</td>\n",
       "    </tr>\n",
       "    <tr>\n",
       "      <th>3</th>\n",
       "      <td>Octa</td>\n",
       "      <td>0</td>\n",
       "      <td>0</td>\n",
       "    </tr>\n",
       "    <tr>\n",
       "      <th>4</th>\n",
       "      <td>Orbitworks</td>\n",
       "      <td>0</td>\n",
       "      <td>0</td>\n",
       "    </tr>\n",
       "    <tr>\n",
       "      <th>...</th>\n",
       "      <td>...</td>\n",
       "      <td>...</td>\n",
       "      <td>...</td>\n",
       "    </tr>\n",
       "    <tr>\n",
       "      <th>1252</th>\n",
       "      <td>Hubner Chemicals</td>\n",
       "      <td>14</td>\n",
       "      <td>4</td>\n",
       "    </tr>\n",
       "    <tr>\n",
       "      <th>1253</th>\n",
       "      <td>Altibbi</td>\n",
       "      <td>14</td>\n",
       "      <td>12</td>\n",
       "    </tr>\n",
       "    <tr>\n",
       "      <th>1254</th>\n",
       "      <td>Fortis</td>\n",
       "      <td>14</td>\n",
       "      <td>14</td>\n",
       "    </tr>\n",
       "    <tr>\n",
       "      <th>1255</th>\n",
       "      <td>Falafel Games</td>\n",
       "      <td>14</td>\n",
       "      <td>6</td>\n",
       "    </tr>\n",
       "    <tr>\n",
       "      <th>1256</th>\n",
       "      <td>Digiteam</td>\n",
       "      <td>14</td>\n",
       "      <td>8</td>\n",
       "    </tr>\n",
       "  </tbody>\n",
       "</table>\n",
       "<p>1257 rows × 3 columns</p>\n",
       "</div>"
      ],
      "text/plain": [
       "     Organization Name  Current_Age  Funded_Age\n",
       "0              NogBase            0          -1\n",
       "1            Byzanlink            0           0\n",
       "2               Sorbet            0           0\n",
       "3                 Octa            0           0\n",
       "4           Orbitworks            0           0\n",
       "...                ...          ...         ...\n",
       "1252  Hubner Chemicals           14           4\n",
       "1253           Altibbi           14          12\n",
       "1254            Fortis           14          14\n",
       "1255     Falafel Games           14           6\n",
       "1256          Digiteam           14           8\n",
       "\n",
       "[1257 rows x 3 columns]"
      ]
     },
     "execution_count": 39,
     "metadata": {},
     "output_type": "execute_result"
    }
   ],
   "source": [
    "filter_df[['Organization Name','Current_Age','Funded_Age']]"
   ]
  },
  {
   "cell_type": "code",
   "execution_count": 40,
   "metadata": {},
   "outputs": [],
   "source": [
    "scatter_list = ['Current_Age','Funded_Age','Last Funding Amount (in USD)','Total Funding Amount (in USD)','No Investors','No of Founders','Number of Articles']"
   ]
  },
  {
   "cell_type": "code",
   "execution_count": 41,
   "metadata": {},
   "outputs": [],
   "source": [
    "scatter_df = filter_df[scatter_list]"
   ]
  },
  {
   "cell_type": "code",
   "execution_count": 42,
   "metadata": {},
   "outputs": [
    {
     "data": {
      "text/plain": [
       "<Axes: >"
      ]
     },
     "execution_count": 42,
     "metadata": {},
     "output_type": "execute_result"
    },
    {
     "data": {
      "image/png": "[encoded data removed]",
      "text/plain": [
       "<Figure size 640x480 with 1 Axes>"
      ]
     },
     "metadata": {},
     "output_type": "display_data"
    }
   ],
   "source": [
    "sns.scatterplot(scatter_df)"
   ]
  },
  {
   "cell_type": "code",
   "execution_count": 43,
   "metadata": {},
   "outputs": [
    {
     "data": {
      "text/plain": [
       "<seaborn.axisgrid.PairGrid at 0x1ca3c12f790>"
      ]
     },
     "execution_count": 43,
     "metadata": {},
     "output_type": "execute_result"
    },
    {
     "data": {
      "image/png": "[encoded data removed]",
      "text/plain": [
       "<Figure size 1750x1750 with 56 Axes>"
      ]
     },
     "metadata": {},
     "output_type": "display_data"
    }
   ],
   "source": [
    "sns.pairplot(scatter_df)"
   ]
  },
  {
   "cell_type": "code",
   "execution_count": 44,
   "metadata": {},
   "outputs": [
    {
     "data": {
      "text/plain": [
       "0       0\n",
       "1       0\n",
       "2       2\n",
       "3       5\n",
       "4       2\n",
       "       ..\n",
       "1252    1\n",
       "1253    5\n",
       "1254    1\n",
       "1255    4\n",
       "1256    0\n",
       "Name: No Investors, Length: 1257, dtype: int64"
      ]
     },
     "execution_count": 44,
     "metadata": {},
     "output_type": "execute_result"
    }
   ],
   "source": [
    "filter_df['No Investors']"
   ]
  },
  {
   "cell_type": "code",
   "execution_count": 45,
   "metadata": {},
   "outputs": [],
   "source": [
    "corr_ = scatter_df.corr()"
   ]
  },
  {
   "cell_type": "code",
   "execution_count": 46,
   "metadata": {},
   "outputs": [
    {
     "data": {
      "image/png": "[encoded data removed]",
      "text/plain": [
       "<Figure size 1800x1200 with 2 Axes>"
      ]
     },
     "metadata": {},
     "output_type": "display_data"
    }
   ],
   "source": [
    "plt.figure(figsize=(18,12))\n",
    "sns.heatmap(corr_,annot=True,cmap='viridis')\n",
    "plt.show()"
   ]
  },
  {
   "cell_type": "code",
   "execution_count": 47,
   "metadata": {},
   "outputs": [
    {
     "data": {
      "text/html": [
       "<div>\n",
       "<style scoped>\n",
       "    .dataframe tbody tr th:only-of-type {\n",
       "        vertical-align: middle;\n",
       "    }\n",
       "\n",
       "    .dataframe tbody tr th {\n",
       "        vertical-align: top;\n",
       "    }\n",
       "\n",
       "    .dataframe thead th {\n",
       "        text-align: right;\n",
       "    }\n",
       "</style>\n",
       "<table border=\"1\" class=\"dataframe\">\n",
       "  <thead>\n",
       "    <tr style=\"text-align: right;\">\n",
       "      <th></th>\n",
       "      <th>Current_Age</th>\n",
       "      <th>Funded_Age</th>\n",
       "      <th>Last Funding Amount (in USD)</th>\n",
       "      <th>Total Funding Amount (in USD)</th>\n",
       "      <th>No Investors</th>\n",
       "      <th>No of Founders</th>\n",
       "      <th>Number of Articles</th>\n",
       "    </tr>\n",
       "  </thead>\n",
       "  <tbody>\n",
       "    <tr>\n",
       "      <th>Current_Age</th>\n",
       "      <td>1.000000</td>\n",
       "      <td>0.621390</td>\n",
       "      <td>0.091358</td>\n",
       "      <td>0.115933</td>\n",
       "      <td>0.083542</td>\n",
       "      <td>0.159611</td>\n",
       "      <td>0.141160</td>\n",
       "    </tr>\n",
       "    <tr>\n",
       "      <th>Funded_Age</th>\n",
       "      <td>0.621390</td>\n",
       "      <td>1.000000</td>\n",
       "      <td>0.217374</td>\n",
       "      <td>0.253656</td>\n",
       "      <td>0.296363</td>\n",
       "      <td>0.044560</td>\n",
       "      <td>0.142906</td>\n",
       "    </tr>\n",
       "    <tr>\n",
       "      <th>Last Funding Amount (in USD)</th>\n",
       "      <td>0.091358</td>\n",
       "      <td>0.217374</td>\n",
       "      <td>1.000000</td>\n",
       "      <td>0.829723</td>\n",
       "      <td>0.036056</td>\n",
       "      <td>-0.089587</td>\n",
       "      <td>0.171344</td>\n",
       "    </tr>\n",
       "    <tr>\n",
       "      <th>Total Funding Amount (in USD)</th>\n",
       "      <td>0.115933</td>\n",
       "      <td>0.253656</td>\n",
       "      <td>0.829723</td>\n",
       "      <td>1.000000</td>\n",
       "      <td>0.082838</td>\n",
       "      <td>-0.063109</td>\n",
       "      <td>0.268736</td>\n",
       "    </tr>\n",
       "    <tr>\n",
       "      <th>No Investors</th>\n",
       "      <td>0.083542</td>\n",
       "      <td>0.296363</td>\n",
       "      <td>0.036056</td>\n",
       "      <td>0.082838</td>\n",
       "      <td>1.000000</td>\n",
       "      <td>0.185335</td>\n",
       "      <td>0.128550</td>\n",
       "    </tr>\n",
       "    <tr>\n",
       "      <th>No of Founders</th>\n",
       "      <td>0.159611</td>\n",
       "      <td>0.044560</td>\n",
       "      <td>-0.089587</td>\n",
       "      <td>-0.063109</td>\n",
       "      <td>0.185335</td>\n",
       "      <td>1.000000</td>\n",
       "      <td>0.063849</td>\n",
       "    </tr>\n",
       "    <tr>\n",
       "      <th>Number of Articles</th>\n",
       "      <td>0.141160</td>\n",
       "      <td>0.142906</td>\n",
       "      <td>0.171344</td>\n",
       "      <td>0.268736</td>\n",
       "      <td>0.128550</td>\n",
       "      <td>0.063849</td>\n",
       "      <td>1.000000</td>\n",
       "    </tr>\n",
       "  </tbody>\n",
       "</table>\n",
       "</div>"
      ],
      "text/plain": [
       "                               Current_Age  Funded_Age  Last Funding Amount (in USD)  Total Funding Amount (in USD)  No Investors  No of Founders  Number of Articles\n",
       "Current_Age                       1.000000    0.621390                      0.091358                       0.115933      0.083542        0.159611            0.141160\n",
       "Funded_Age                        0.621390    1.000000                      0.217374                       0.253656      0.296363        0.044560            0.142906\n",
       "Last Funding Amount (in USD)      0.091358    0.217374                      1.000000                       0.829723      0.036056       -0.089587            0.171344\n",
       "Total Funding Amount (in USD)     0.115933    0.253656                      0.829723                       1.000000      0.082838       -0.063109            0.268736\n",
       "No Investors                      0.083542    0.296363                      0.036056                       0.082838      1.000000        0.185335            0.128550\n",
       "No of Founders                    0.159611    0.044560                     -0.089587                      -0.063109      0.185335        1.000000            0.063849\n",
       "Number of Articles                0.141160    0.142906                      0.171344                       0.268736      0.128550        0.063849            1.000000"
      ]
     },
     "execution_count": 47,
     "metadata": {},
     "output_type": "execute_result"
    }
   ],
   "source": [
    "corr_"
   ]
  },
  {
   "cell_type": "code",
   "execution_count": 48,
   "metadata": {},
   "outputs": [
    {
     "data": {
      "text/plain": [
       "Index(['index', 'Organization Name', 'Founded Date', 'Operating Status', 'Industries', 'Headquarters Location', 'Number of Employees', 'Last Funding Amount (in USD)', 'Column1', 'Last Funding Date', 'Founders', 'Number of Funding Rounds', 'Funding Status', 'Last Funding Type', 'Last Equity Funding Amount (in USD)', 'Last Equity Funding Type', 'Total Equity Funding Amount (in USD)', 'Total Funding Amount (in USD)', 'Top 5 Investors', 'Diversity Spotlight', 'Estimated Revenue Range', 'Number of Articles', 'Investment/Not', 'No of Founders', 'No Investors', 'Funded_Age', 'Current_Age'], dtype='object')"
      ]
     },
     "execution_count": 48,
     "metadata": {},
     "output_type": "execute_result"
    }
   ],
   "source": [
    "filter_df.columns"
   ]
  },
  {
   "cell_type": "code",
   "execution_count": 49,
   "metadata": {},
   "outputs": [],
   "source": [
    "filter_df.to_csv(\"UAE_Active.csv\",index=False)"
   ]
  },
  {
   "cell_type": "code",
   "execution_count": 56,
   "metadata": {},
   "outputs": [
    {
     "data": {
      "text/plain": [
       "array(['1-10', nan, '11-50', '51-100', '101-250', '1001-5000', '501-1000',\n",
       "       '251-500', '5001-10000', '10001+'], dtype=object)"
      ]
     },
     "execution_count": 56,
     "metadata": {},
     "output_type": "execute_result"
    }
   ],
   "source": [
    "filter_df['Number of Employees'].unique()"
   ]
  },
  {
   "cell_type": "code",
   "execution_count": 50,
   "metadata": {},
   "outputs": [],
   "source": [
    "emp_map = {\n",
    "    '1-10' : 10, np.nan : 0 , '11-50' : 30, '51-100': 75, '101-250' : 175, '1001-5000' : 3000, '501-1000': 750,\n",
    "       '251-500': 375, '5001-10000' : 7500, '10001+' : 10000\n",
    "}"
   ]
  },
  {
   "cell_type": "code",
   "execution_count": 51,
   "metadata": {},
   "outputs": [
    {
     "data": {
      "text/plain": [
       "array([nan, '$1M to $10M', 'Less than $1M', '$10M to $50M',\n",
       "       '$500M to $1B', '$1B to $10B', '$100M to $500M', '$50M to $100M'],\n",
       "      dtype=object)"
      ]
     },
     "execution_count": 51,
     "metadata": {},
     "output_type": "execute_result"
    }
   ],
   "source": [
    "filter_df['Estimated Revenue Range'].unique()"
   ]
  },
  {
   "cell_type": "code",
   "execution_count": 52,
   "metadata": {},
   "outputs": [],
   "source": [
    "filter_df['Number of Employees'] = filter_df['Number of Employees'].apply(lambda x: emp_map.get(x, 0))\n"
   ]
  },
  {
   "cell_type": "code",
   "execution_count": 53,
   "metadata": {},
   "outputs": [
    {
     "data": {
      "text/plain": [
       "array([   10,     0,    30,    75,   175,  3000,   750,   375,  7500,\n",
       "       10000])"
      ]
     },
     "execution_count": 53,
     "metadata": {},
     "output_type": "execute_result"
    }
   ],
   "source": [
    "filter_df['Number of Employees'].unique()"
   ]
  },
  {
   "cell_type": "code",
   "execution_count": null,
   "metadata": {},
   "outputs": [],
   "source": [
    "rev_map = {\n",
    "    \n",
    "}"
   ]
  },
  {
   "cell_type": "code",
   "execution_count": 54,
   "metadata": {},
   "outputs": [
    {
     "data": {
      "text/plain": [
       "array(['Property Development, PropTech, SaaS, Software',\n",
       "       'Blockchain, Cryptocurrency, Developer Platform, Developer Tools, Non-Fungible Token (NFT), Web3',\n",
       "       'Blockchain, Cryptocurrency, Payments, SaaS, Web3',\n",
       "       'Information Technology, Internet, Software',\n",
       "       'Manufacturing, Space Travel', 'Blockchain, Cryptocurrency, Web3',\n",
       "       'B2B, Human Resources, Recruiting, SaaS, Software',\n",
       "       'Information Technology, Internet',\n",
       "       'Blockchain, Decentralized Finance (DeFi), Information Technology, Software',\n",
       "       'Apps, Food and Beverage, Marketplace',\n",
       "       'Financial Services, Marketplace',\n",
       "       'Aerospace, Air Transportation, Artificial Intelligence (AI), Enterprise Software, Software, Software Engineering',\n",
       "       'Decentralized Finance (DeFi), Infrastructure', 'Social',\n",
       "       'Call Center, Customer Service, SaaS, Software',\n",
       "       'Blockchain, FinTech',\n",
       "       'Apps, Artificial Intelligence (AI), Content Delivery Network, Content Discovery, Content Syndication, Media and Entertainment, Publishing',\n",
       "       'FinTech, Food and Beverage, Information Technology, Loyalty Programs, Payments',\n",
       "       'Financial Services, Legal Tech, Travel',\n",
       "       'Heating, Ventilation, and Air Conditioning (HVAC), Water',\n",
       "       'Blockchain, Cryptocurrency, Ethereum',\n",
       "       'Digital Entertainment, Mobile Apps, Nightlife',\n",
       "       'Blockchain, Cryptocurrency, Decentralized Finance (DeFi), FinTech, Web3',\n",
       "       'Software',\n",
       "       'Artificial Intelligence (AI), Blockchain, Retail Technology, Supply Chain Management, Web3',\n",
       "       'Animation, Comics, Digital Entertainment, Media and Entertainment',\n",
       "       'Artificial Intelligence (AI), B2B, E-Commerce, Finance, FinTech, Information Technology, Internet, Real Estate, Real Estate Investment, Software',\n",
       "       'Artificial Intelligence (AI), Generative AI, Machine Learning, Online Portals, Predictive Analytics, SaaS',\n",
       "       'B2B, Financial Services, FinTech, Information Technology',\n",
       "       'Banking, Blockchain, Funding Platform, Impact Investing, Insurance, Web3',\n",
       "       'Artificial Intelligence (AI), Business Travel, Consumer Software, Internet, Internet of Things, Leisure, Travel',\n",
       "       'Blockchain', nan, 'Finance, Financial Services',\n",
       "       'Artificial Intelligence (AI), CleanTech, SaaS, Sustainability',\n",
       "       'Artificial Intelligence (AI), Information Technology, Web3',\n",
       "       'Cryptocurrency', 'Fashion, Marketing, Marketplace, Software',\n",
       "       'Artificial Intelligence (AI), Chatbot, Software',\n",
       "       'Cryptocurrency, Information Technology, Internet',\n",
       "       'Analytics, Artificial Intelligence (AI), Financial Services, Machinery Manufacturing',\n",
       "       'Finance, Financial Services, FinTech',\n",
       "       'Business Development, Software',\n",
       "       'Farming, Flowers, Green Building, GreenTech',\n",
       "       'Blockchain, Financial Services, FinTech',\n",
       "       'Cryptocurrency, Financial Services',\n",
       "       'Electric Vehicle, Energy Storage, Manufacturing',\n",
       "       'Gaming, Online Games',\n",
       "       'Artificial Intelligence (AI), Blockchain, Cryptocurrency, Machine Learning, Software',\n",
       "       'Generative AI', 'Logistics',\n",
       "       'Artificial Intelligence (AI), Cryptocurrency, Finance',\n",
       "       'Computer, Gaming, PC Games, Video Games',\n",
       "       'FinTech, SaaS, Software',\n",
       "       'Furniture, Marketplace, Retail Technology',\n",
       "       'Art, Blockchain, Consumer Applications, Software, Web3',\n",
       "       'Broadcasting, Film, News, Theatre, TV',\n",
       "       'Artificial Intelligence (AI), Human Resources, Recruiting, Software',\n",
       "       'Blockchain, Cryptocurrency, FinTech, Payments',\n",
       "       'Ad Targeting, Advertising, Creative Agency, Metaverse, Native Advertising',\n",
       "       'Health Care, SaaS', 'Construction, Recycling, Waste Management',\n",
       "       'Customer Service, SaaS',\n",
       "       'Artificial Intelligence (AI), Blockchain, Machine Learning, Software',\n",
       "       'Consulting, Customer Service, SaaS, Software',\n",
       "       'Blockchain, Cryptocurrency',\n",
       "       'Digital Marketing, E-Commerce, E-Commerce Platforms, Information Technology, Retail, Retail Technology, Software, Wholesale',\n",
       "       'Artificial Intelligence (AI), Fashion, Machine Learning',\n",
       "       'Blockchain, Gaming',\n",
       "       'Funding Platform, Software, Water Purification',\n",
       "       'FinTech, Payments',\n",
       "       'Information Technology, Professional Services, Software',\n",
       "       'Gaming, Publishing',\n",
       "       'Apps, Gaming, Media and Entertainment, Metaverse',\n",
       "       'Blockchain, Database, Smart Contracts, Web3', 'E-Commerce',\n",
       "       'Artificial Intelligence (AI), Machine Learning, Robotics, Smart Cities',\n",
       "       'Artificial Intelligence (AI), Machine Learning, PropTech, Real Estate',\n",
       "       'E-Commerce, E-Commerce Platforms, Grocery, Marketplace, Shopping',\n",
       "       'B2B, E-Commerce, Lead Generation, Marketing Automation, SaaS, SEO, Software',\n",
       "       'Blockchain, Digital Entertainment, Gaming, Web3',\n",
       "       'Consulting, Consumer Software, Information Technology, Software, Web Development',\n",
       "       'FinTech',\n",
       "       'Artificial Intelligence (AI), Education, Software, Telecommunications, Video Conferencing',\n",
       "       'Artificial Intelligence (AI), Audiobooks, Books, Information Technology, Media and Entertainment, Mobile Apps, Podcast',\n",
       "       'Consulting, PropTech, Real Estate',\n",
       "       'Artificial Intelligence (AI), Consulting, Market Research',\n",
       "       'Blockchain, Cryptocurrency, Gaming, Metaverse',\n",
       "       'Information Technology, Logistics, Software',\n",
       "       'Fitness, Information Technology, Lifestyle, Social Media, Web3',\n",
       "       'Artificial Intelligence (AI), Health Care, Health Diagnostics',\n",
       "       'B2B, Health Care, Software',\n",
       "       'Advertising Platforms, eSports, Gaming, Mobile Advertising, Mobile Apps',\n",
       "       'Consumer Reviews', 'B2B, Human Resources, SaaS, Software',\n",
       "       'Employee Benefits, Human Resources, Wellness',\n",
       "       'Content Marketing, Digital Marketing, Generative AI, Marketing Automation, Video Advertising',\n",
       "       'Cloud Security, Cyber Security, SaaS, Software',\n",
       "       'Mobile, Online Games, Video Games',\n",
       "       'Business Development, Small and Medium Businesses, Venture Capital',\n",
       "       'Apps, Communities, Gaming, Online Games',\n",
       "       'Air Transportation, Legal Tech, Sales Automation',\n",
       "       'Banking, Bitcoin, Cryptocurrency, Financial Exchanges, Financial Services, Mobile Payments',\n",
       "       'Delivery, Packaging Services, Software',\n",
       "       'Education, Finance, Guides', 'Real Estate',\n",
       "       'Health Care, Information Technology, Medical, Software',\n",
       "       'Food and Beverage, Food Delivery, Hospitality, Restaurants',\n",
       "       'Decentralized Finance (DeFi), Financial Services, Trading Platform',\n",
       "       'Internet, SaaS, Software, Subscription Service',\n",
       "       'Artificial Intelligence (AI), FinTech, Mortgage, Online Portals, Property Management, PropTech, Real Estate Investment, SaaS',\n",
       "       'Advertising, Information Technology, Internet of Things, Marketing, Smart Cities',\n",
       "       '3D Technology, Apps, Artificial Intelligence (AI), Augmented Reality, E-Commerce, Retail Technology, SaaS, Software',\n",
       "       'Loyalty Programs',\n",
       "       'CleanTech, Consumer Electronics, Marketplace, Mobile Devices',\n",
       "       'Information Technology, Internet, Real Estate',\n",
       "       'Creative Agency, Digital Marketing, SEO, Social Media Marketing, Web Design',\n",
       "       'Consulting, Information Technology, Software',\n",
       "       'Bitcoin, Blockchain, Cryptocurrency, Finance, Gaming, Information Technology, Metaverse, Web3',\n",
       "       'Biotechnology, Financial Services, Health Care, Real Estate Investment',\n",
       "       'E-Commerce, Financial Services, FinTech, SaaS', 'Online Games',\n",
       "       'Blockchain, Gaming, Media and Entertainment, Online Games, PC Games, Video Games',\n",
       "       'Business Travel, Travel',\n",
       "       'Advice, Innovation Management, Property Management, Real Estate',\n",
       "       'Computer, Gaming',\n",
       "       'Analytics, Business Intelligence, SaaS, Software',\n",
       "       'Financial Services',\n",
       "       'Chatbot, Information and Communications Technology (ICT), Social Media, Social Network',\n",
       "       'Finance, FinTech, SaaS',\n",
       "       'Consulting, Finance, Financial Services',\n",
       "       'Information Technology, Internet, Virtual Currency, Web3',\n",
       "       'Accounting, FinTech, SaaS', 'Financial Services, FinTech',\n",
       "       'E-Commerce Platforms',\n",
       "       'Artificial Intelligence (AI), B2B, Big Data, Data Mining, Lead Generation, Machine Learning, Marketing Automation, SaaS, Sales Automation, Software',\n",
       "       'Information Technology',\n",
       "       'Automotive, FinTech, Subscription Service',\n",
       "       'Artificial Intelligence (AI), Blockchain, Gaming',\n",
       "       'Cryptocurrency, Web3',\n",
       "       'Apps, Artificial Intelligence (AI), Finance',\n",
       "       'Financial Services, PropTech',\n",
       "       'Commercial Real Estate, Property Management, PropTech, Real Estate Investment',\n",
       "       'Advertising, E-Commerce, Information Technology',\n",
       "       'Apps, Cryptocurrency, Venture Capital, Web3',\n",
       "       'Art, Digital Media, Information Technology',\n",
       "       'Blockchain, Cryptocurrency, FinTech, Trading Platform, Transaction Processing, Web3',\n",
       "       'Agriculture, Supply Chain Management, Wholesale',\n",
       "       'Blockchain, Cryptocurrency, Finance',\n",
       "       'Blockchain, Gaming, Marketing',\n",
       "       'Information Technology, Racing, Virtual Reality',\n",
       "       'Blockchain, Cryptocurrency, Gaming',\n",
       "       'Financial Services, FinTech, Internet',\n",
       "       'Delivery Service, E-Commerce, Fleet Management, Information Technology, Last Mile Transportation',\n",
       "       'Media and Entertainment, Mobile Apps, Productivity Tools, SaaS, Social Network',\n",
       "       'Apps, Developer Platform, Music',\n",
       "       'Tourism, Travel, Travel Agency', 'Health Care, Medical, Wellness',\n",
       "       'E-Commerce, E-Commerce Platforms, Fashion, Home Decor',\n",
       "       'Information Technology, Metaverse, Virtual Reality',\n",
       "       'Ad Network, Artificial Intelligence (AI), EdTech, Education, Machine Learning, Marketplace, Sharing Economy, Social Media, Social Network',\n",
       "       'Cosmetics',\n",
       "       'Artificial Intelligence (AI), Interior Design, PropTech, Software',\n",
       "       'Artificial Intelligence (AI), Gaming, Metaverse, Software',\n",
       "       'Artificial Intelligence (AI), EdTech, Education',\n",
       "       'Advertising, Digital Marketing, Film Production, Graphic Design, Information Technology, IT Management, Marketing, Video Editing',\n",
       "       'Analytics, Cloud Data Services, PaaS, Robotics, SaaS',\n",
       "       'Consumer, Marketplace, Professional Services, SaaS',\n",
       "       'Transportation',\n",
       "       'Analytics, Artificial Intelligence (AI), Blockchain, Internet, Metaverse, Virtual Reality',\n",
       "       'E-Commerce, Financial Services, Payments',\n",
       "       'Artificial Intelligence (AI), Real Estate Investment, Software',\n",
       "       'Gaming', 'Blockchain, Cryptocurrency, Identity Management',\n",
       "       'Blockchain, Metaverse, Online Games, Social, Virtual Reality',\n",
       "       'Supply Chain Management',\n",
       "       'Blockchain, Content Creators, Content Marketing, Cryptocurrency, Social Media Marketing',\n",
       "       'FinTech, Food and Beverage, Hospitality, SaaS',\n",
       "       'Blockchain, Metaverse, Mobile Payments',\n",
       "       'Artificial Intelligence (AI), Big Data, Insurance, InsurTech, Wellness',\n",
       "       'Artificial Intelligence (AI), Computer Vision, Machine Learning, Software',\n",
       "       'Artificial Intelligence (AI), Content, Language Learning',\n",
       "       'Pet, Software', 'EdTech',\n",
       "       'B2B, Communities, Food and Beverage, Internet, Wholesale',\n",
       "       'Automotive, Information Technology, Mobile Apps',\n",
       "       'Blockchain, Database, Transaction Processing, Web3',\n",
       "       'Blockchain, Information Technology, Property Development, Real Estate Investment',\n",
       "       'B2B, E-Commerce, Information Technology, Internet',\n",
       "       'Business Development, Consulting, Management Consulting',\n",
       "       'Blockchain, Cryptocurrency, Financial Services, Web3',\n",
       "       'Aerospace, Air Transportation, Information Technology, Mobile Apps, Software, Transportation',\n",
       "       'Information Technology, Marketing, Software',\n",
       "       'Information Technology, Legal Tech, SaaS, Software',\n",
       "       'Advice, Blockchain, Cryptocurrency, Financial Exchanges, Financial Services, Information Technology, Payments, Trading Platform, Transaction Processing',\n",
       "       'Food and Beverage, Procurement',\n",
       "       'Blockchain, Cryptocurrency, Financial Services, FinTech',\n",
       "       'E-Commerce, E-Commerce Platforms, SaaS, Software',\n",
       "       'E-Commerce, Internet, Marketing, Shopping',\n",
       "       'E-Commerce, E-Commerce Platforms, Food and Beverage, Mobile Payments, Payments',\n",
       "       'Social, Social Network',\n",
       "       'Automotive, E-Commerce, Industrial, Information Technology, Marketplace, SaaS, Software',\n",
       "       'Health Care',\n",
       "       'Freight Service, Logistics, SaaS, Supply Chain Management',\n",
       "       'Home Services, Pet',\n",
       "       'Gaming, Metaverse, Software, Virtual World, Web3',\n",
       "       'Financial Services, FinTech, Payments, Restaurants',\n",
       "       'B2B, Banking, Financial Services, FinTech, Payments, Productivity Tools, Software',\n",
       "       'Food Delivery, Hospitality, Information Technology, Restaurants',\n",
       "       'Consulting', 'Education',\n",
       "       'E-Commerce, Fashion, Information Technology, Shopping',\n",
       "       'Augmented Reality, Blockchain, Cryptocurrency, Metaverse, Software, Virtual Currency, Virtual Reality',\n",
       "       'Information Technology, Marketing Automation, Software',\n",
       "       'Health Care, Home Health Care',\n",
       "       'B2B, B2C, Blockchain, Cryptocurrency, Financial Services, Gamification, Loyalty Programs, Non-Fungible Token (NFT), Rental',\n",
       "       'Blockchain, Cryptocurrency, FinTech, Funding Platform, Trading Platform, Web3',\n",
       "       'Clean Energy, Energy, Energy Storage, Renewable Energy, Telecommunications',\n",
       "       'E-Commerce, Food Delivery', 'B2B, B2C, FinTech, PaaS, SaaS',\n",
       "       'B2B, Food and Beverage, SaaS', 'Blockchain, Metaverse',\n",
       "       'Internet of Things, Logistics, SaaS, Software', 'InsurTech',\n",
       "       'Cloud Computing, FinTech, Software',\n",
       "       'Enterprise Resource Planning (ERP), Enterprise Software, Point of Sale, Retail Technology, SaaS',\n",
       "       'Augmented Reality, Hardware, Information Technology, Sensor, Virtual Reality',\n",
       "       'Finance, Financial Services, FinTech, Mobile',\n",
       "       'Analytics, Artificial Intelligence (AI), Asset Management, Big Data, Financial Services, FinTech, Machine Learning, Natural Language Processing, SaaS, Text Analytics',\n",
       "       'Artificial Intelligence (AI), E-Commerce, Gaming, Mobile Apps, Personalization',\n",
       "       'Construction, Consulting, Freelance, Marketplace, Software',\n",
       "       'Blockchain, Gaming, Information Technology, Software, Video Games',\n",
       "       'Blockchain, Information Technology',\n",
       "       'Angel Investment, Apps, Personal Finance, Stock Exchanges',\n",
       "       'Consumer, Content Creators, Hospitality, Tourism, Travel',\n",
       "       'Fantasy Sports, Gaming, Mobile Apps, Soccer, Social Network',\n",
       "       'Analytics, Developer APIs, Food and Beverage, Internet, Restaurants, Software',\n",
       "       'Agriculture, Alternative Protein, Biotechnology, Food and Beverage',\n",
       "       'Advertising, Digital Media, Marketing',\n",
       "       'Cryptocurrency, Finance, FinTech', 'Media and Entertainment',\n",
       "       'Blockchain, Enterprise',\n",
       "       'Accounting, Financial Services, FinTech, Payments, Productivity Tools, Software',\n",
       "       'Artificial Intelligence (AI), IT Infrastructure, Machine Learning',\n",
       "       'B2B, E-Commerce, Information Technology, Made to Order, Marketplace, Restaurants',\n",
       "       'Apps, Artificial Intelligence (AI), Hotel, Information Services, Travel',\n",
       "       'Brand Marketing, E-Commerce, Retail',\n",
       "       'B2B, Banking, Financial Services, FinTech, Information Technology, Procurement, SaaS, Software',\n",
       "       'Blockchain, Developer APIs',\n",
       "       'Finance, Financial Services, Trading Platform',\n",
       "       'Cryptocurrency, Financial Services, FinTech',\n",
       "       'Restaurants, Software',\n",
       "       'Finance, Financial Services, Venture Capital',\n",
       "       'Property Management',\n",
       "       'Content Creators, Digital Entertainment, Gaming, Video Streaming, Virtual Reality',\n",
       "       'Air Transportation, Travel',\n",
       "       'Clean Energy, CleanTech, SaaS, Sustainability, Waste Management',\n",
       "       'Business Development, Digital Marketing, Information Technology, Retail Technology',\n",
       "       'Consumer Goods, E-Commerce, Marketplace',\n",
       "       'Blockchain, Cryptocurrency, Marketplace, Non-Fungible Token (NFT)',\n",
       "       'Fitness, Health Care, Wellness',\n",
       "       'Blockchain, Cryptocurrency, Internet, Metaverse, Publishing',\n",
       "       'Artificial Intelligence (AI), Data Management',\n",
       "       'Guides, Hospitality, SaaS, Tour Operator, Tourism, Travel, Travel Agency, Web Apps',\n",
       "       'Cloud Infrastructure, Developer Platform, Real Time',\n",
       "       'Construction, Real Estate, Sustainability, Waste Management',\n",
       "       'Web3',\n",
       "       'FinTech, Social Network, Stock Exchanges, Trading Platform',\n",
       "       'Art, Blockchain',\n",
       "       'Blockchain, Gaming, Information Technology, Internet, Software, Web3',\n",
       "       'Racing, Serious Games',\n",
       "       'Automotive, E-Commerce Platforms, Marketplace',\n",
       "       'Financial Services, FinTech, Payments',\n",
       "       'Automotive, Electric Vehicle',\n",
       "       'Blockchain, Fashion, Metaverse, Shopping',\n",
       "       'Parenting, Training, Video',\n",
       "       'Blockchain, Cryptocurrency, Gamification',\n",
       "       'Blockchain, Farmers Market, Food and Beverage, Metaverse, Online Games, Virtual Reality',\n",
       "       'Gaming, Online Games, PC Games, Video Games',\n",
       "       'Graphic Design, Product Design, Software, Web Design, Web Development',\n",
       "       'Human Resources, Information Technology, Recruiting',\n",
       "       'Apps, Food and Beverage, Loyalty Programs, Marketing, Mobile Apps',\n",
       "       'Delivery, Delivery Service, Logistics, Same Day Delivery',\n",
       "       'Cosmetic Surgery, Health Care, Wellness',\n",
       "       'Content, Content Creators, Content Marketing, Digital Marketing, Digital Media, Information Technology, Photography, SaaS',\n",
       "       'Blockchain, Cryptocurrency, Gaming, Web3',\n",
       "       'Advertising, Digital Marketing, IT Management, SEO, Social Media Management, Web Development',\n",
       "       'FinTech, Social Media, Software, Web3',\n",
       "       'Blockchain, Gaming, Metaverse, Mobile Apps',\n",
       "       'E-Commerce, Financial Services, Payments, Retail, SaaS, Software',\n",
       "       'Hotel, Mobile Apps, Reservations, Restaurants, Software',\n",
       "       'B2B, E-Commerce, Logistics, Supply Chain Management, Transportation',\n",
       "       'Education, Tutoring',\n",
       "       'Blockchain, Cryptocurrency, Metaverse, Trading Platform',\n",
       "       'Public Transportation, Ride Sharing, Taxi Service, Transportation',\n",
       "       'E-Learning, EdTech, Education',\n",
       "       'Cryptocurrency, Finance, Financial Services',\n",
       "       'Electric Vehicle, Energy Management, Sustainability, Transportation',\n",
       "       'Apps, Health Care, Mental Health',\n",
       "       'Blockchain, Cryptocurrency, FinTech',\n",
       "       'Apps, Brand Marketing, Events, Hospitality',\n",
       "       'Fitness, Mobile Apps, SaaS, Wellness',\n",
       "       'Advertising, Artificial Intelligence (AI), Information Technology',\n",
       "       'Artificial Intelligence (AI), Embedded Systems, Financial Services, FinTech, Machine Learning',\n",
       "       'App Discovery, Apps, Food and Beverage, Internet, Restaurants',\n",
       "       'Android, Apps, Financial Services, FinTech, iOS', 'Solar',\n",
       "       'B2B, Information Technology, Retail Technology, SaaS, Software',\n",
       "       'Blockchain, Financial Services, Non-Fungible Token (NFT)',\n",
       "       'Insurance, InsurTech', 'Analytics, FinTech, Software',\n",
       "       'Photography, Software',\n",
       "       'Banking, Financial Services, FinTech, Information Technology, Marketplace',\n",
       "       'Analytics, Big Data, EdTech, Education, Product Research, Professional Services, Social Network',\n",
       "       'Financial Services, FinTech, Health Insurance, InsurTech, SaaS',\n",
       "       'FinTech, Mobile Payments, Payments',\n",
       "       'Digital Marketing, Information Technology',\n",
       "       'Delivery, Sharing Economy, Small and Medium Businesses, Social Media Advertising, Software',\n",
       "       'Crowdfunding, FinTech, Real Estate, Real Estate Investment, Residential',\n",
       "       'Coworking, Mobile Apps, Rental',\n",
       "       'Artificial Intelligence (AI), E-Commerce, Fashion, Machine Learning, Retail Technology',\n",
       "       'Art, Blockchain, Marketplace, Web3', 'Human Resources',\n",
       "       'E-Commerce Platforms, Hospitality, Travel Accommodations, Travel Agency',\n",
       "       'News',\n",
       "       'Credit, Finance, Financial Services, FinTech, Predictive Analytics',\n",
       "       'Electric Vehicle', 'Hospitality',\n",
       "       'Events, Freelance, Home Services, Professional Services, Rental',\n",
       "       'B2B, E-Commerce, Information and Communications Technology (ICT)',\n",
       "       'Health Care, Information Technology, Life Science',\n",
       "       'B2B, Data Center Automation, Enterprise Software, Predictive Analytics, Procurement, SaaS, Software',\n",
       "       'Agriculture, AgTech, Food and Beverage, Organic Food, Subscription Service, Sustainability',\n",
       "       'Home Improvement, Home Renovation, Home Services',\n",
       "       'E-Commerce, Grocery, Organic Food, Subscription Service, Sustainability',\n",
       "       'Bitcoin, Blockchain, Cryptocurrency, Trading Platform',\n",
       "       'Communities, E-Learning, EdTech, Education, Social Recruiting',\n",
       "       'Artificial Intelligence (AI), Construction, Machine Learning, Project Management, Smart Cities, Software, Sustainability',\n",
       "       'Artificial Intelligence (AI), Blockchain, Chatbot, CleanTech, Web3',\n",
       "       'Agriculture, AgTech, Farming, IaaS',\n",
       "       'Consulting, E-Commerce Platforms, Funding Platform, Information Technology, Internet, Software',\n",
       "       'Analytics, Information Technology, SaaS, Software',\n",
       "       'Last Mile Transportation, Transportation',\n",
       "       'Advertising, Advertising Platforms, Marketing',\n",
       "       'Artificial Intelligence (AI), Financial Services, FinTech',\n",
       "       'Blockchain, Cryptocurrency, Financial Services, Information Technology',\n",
       "       'Air Transportation, Artificial Intelligence (AI), Autonomous Vehicles, Image Recognition, Information Technology, Internet of Things, Metaverse, Natural Language Processing, Software, Virtual Reality',\n",
       "       'Broadcasting, Commercial Real Estate, Information Technology, Property Development, Real Estate, Real Estate Investment',\n",
       "       'Accounting, FinTech, Information Technology, Mobile Apps',\n",
       "       'B2B, Financial Services, FinTech, SaaS',\n",
       "       'Freelance, Information Technology, SaaS, Virtual Workforce',\n",
       "       'B2B, B2C, Big Data, E-Commerce, Speech Recognition',\n",
       "       'Apps, Consulting, Financial Services, FinTech, Information Technology, Software',\n",
       "       'E-Commerce, E-Commerce Platforms, Information Technology, Marketing Automation, Software',\n",
       "       'Mobile Apps',\n",
       "       'Advertising Platforms, Brand Marketing, Enterprise Software, Location Based Services, Marketing, Natural Language Processing, Software',\n",
       "       'Crowdsourcing, E-Commerce, E-Commerce Platforms, Information Technology, Last Mile Transportation, Shipping, Supply Chain Management, Transportation',\n",
       "       \"Consumer Goods, E-Commerce, Health Care, Lifestyle, Nanotechnology, Personal Health, Women's\",\n",
       "       'Artificial Intelligence (AI), Business Intelligence, Machine Learning, SaaS',\n",
       "       'Financial Services, FinTech, InsurTech, Mobile Apps, Payments',\n",
       "       'Advertising, Brand Marketing, Digital Marketing, Internet',\n",
       "       'Commercial Lending, Financial Services, FinTech, Lending, Micro Lending',\n",
       "       'Marketplace, Mobile Apps, SaaS, Service Industry',\n",
       "       'Construction, SaaS, Software',\n",
       "       'Consulting, Financial Services, Health Care, Information Technology, Internet',\n",
       "       'Hospitality, Information Technology, SaaS, Tourism, Travel',\n",
       "       'AgTech, Farming, Food Processing, Industrial Automation',\n",
       "       'Freight Service, Logistics, SaaS', 'PropTech, Real Estate',\n",
       "       'Manufacturing, Pharmaceutical',\n",
       "       'Cloud Computing, CRM, Health Care, Mobile',\n",
       "       'Audio, Media and Entertainment, Music, Podcast, Software',\n",
       "       'Financial Services, FinTech, Information Technology, PropTech, Real Estate',\n",
       "       'Advertising, Cryptocurrency, Data Center, Digital Marketing, Information Technology, Internet, SEO, Social Media Marketing',\n",
       "       'Asset Management, Internet, Supply Chain Management, Web3',\n",
       "       'E-Commerce, Fashion, Sales',\n",
       "       'Artificial Intelligence (AI), Information Technology, PC Games',\n",
       "       'Document Management, Document Preparation, Electronics',\n",
       "       'Broadcasting, Card and Board Games, eSports, Fraud Detection, Media and Entertainment, Online Games, Sports, Sports Leagues and Teams, Video Games, Video Streaming',\n",
       "       'Blockchain, Cryptocurrency, Digital Entertainment, Gamification, Online Games',\n",
       "       'Delivery, E-Commerce, Retail, SaaS, Software',\n",
       "       'Food and Beverage, Restaurants',\n",
       "       'Developer Platform, Media and Entertainment',\n",
       "       'Financial Services, FinTech, Information Technology',\n",
       "       'Finance, Financial Services, FinTech, Payments',\n",
       "       'Cryptocurrency, FinTech, Payments', 'Blockchain, Web3',\n",
       "       'Beauty, Consumer Goods, E-Commerce, Food and Beverage, Grocery',\n",
       "       'E-Commerce, FinTech, Logistics', 'eSports',\n",
       "       'Debt Collections, FinTech, Risk Management',\n",
       "       'Environmental Consulting, Natural Resources', 'Social Media',\n",
       "       'Beauty, Cosmetics', 'Health Care, Life Science',\n",
       "       'Financial Services, FinTech, Prepaid Cards',\n",
       "       'Books, E-Commerce, Retail',\n",
       "       'Advice, Consulting, Environmental Consulting, Social Impact',\n",
       "       'Cyber Security, Information Technology, Marketplace, Software',\n",
       "       'Content, Sex Tech, Wellness',\n",
       "       'Apps, E-Commerce, Fashion, Marketplace, Retail, Secondhand Goods',\n",
       "       'Content, E-Commerce, Photography, Video Editing',\n",
       "       'Air Transportation, Customer Service, Food and Beverage, Reservations',\n",
       "       'Advertising, Brand Marketing, Consulting, Creative Agency, Digital Marketing, Marketing, Web Apps, Web Design, Web Development',\n",
       "       'Food and Beverage, Information Technology, Logistics',\n",
       "       'Advertising Platforms, Blockchain, Marketing, Marketing Automation, Social Media Advertising, Software',\n",
       "       'Information Technology, Marketing', 'Fashion, Lifestyle',\n",
       "       'CleanTech, Sustainability, Travel', 'Angel Investment',\n",
       "       '3D Technology, Education, Virtual Reality',\n",
       "       \"Film Production, Media and Entertainment, Women's\",\n",
       "       'Consumer Applications, Consumer Software, Social Media, Social Network',\n",
       "       'Apps, Finance, Financial Services, Information Technology, Mobile',\n",
       "       'Events, Internet, Racing, Sports, Wellness',\n",
       "       'Education, Internet', 'B2B, Construction, SaaS',\n",
       "       'E-Commerce Platforms, Food and Beverage, Food Delivery, Restaurants, Supply Chain Management',\n",
       "       'Drones, Information Technology, Marine Technology, Marine Transportation, Ports and Harbors, Transportation',\n",
       "       'Enterprise Software, SaaS, Software',\n",
       "       'FinTech, Information Technology, Mobile Payments, Payments',\n",
       "       'Digital Entertainment, E-Commerce',\n",
       "       'Car Sharing, E-Commerce Platforms, Software',\n",
       "       'Advertising, Mobile Advertising, SEO',\n",
       "       'Logistics, Tourism, Transportation, Travel',\n",
       "       'Business Travel, Travel, Travel Accommodations, Travel Agency, Vacation Rental',\n",
       "       'Consulting, Digital Entertainment, Education, eSports, Event Management, Marketing, Motorsports',\n",
       "       'Clean Energy, Energy, Energy Management, Energy Storage, Renewable Energy, Solar, Wind Energy',\n",
       "       'Human Resources, Mobile Apps, SaaS, Software, Wellness',\n",
       "       'Apps, Car Sharing, E-Commerce, Subscription Service',\n",
       "       'College Recruiting, EdTech, Skill Assessment',\n",
       "       'Financial Services, FinTech, Mobile Payments, Payments, Peer to Peer',\n",
       "       'Consulting, Cyber Security, Identity Management, Information Services, Information Technology, Professional Services, Training',\n",
       "       'Automotive, Information Technology, Service Industry',\n",
       "       'Consulting, Employee Benefits, Human Resources, Software',\n",
       "       'Automotive, E-Commerce, Internet',\n",
       "       'Cloud Management, Consumer Electronics, Direct Sales, E-Commerce, E-Commerce Platforms, Management Information Systems, Marketplace, Retail Technology, Sales',\n",
       "       'Catering, Food and Beverage, Food Delivery, Food Processing, Manufacturing, Restaurants',\n",
       "       'Education, Enterprise Software, Mobile Apps, Peer to Peer',\n",
       "       'Call Center, Human Computer Interaction, IT Infrastructure, Sales Automation',\n",
       "       'Customer Service, Financial Services, Payments',\n",
       "       'Charity, Consumer Goods, E-Commerce, Food and Beverage, Restaurants, Retail, Retail Technology',\n",
       "       'Asset Management, Blockchain, Cryptocurrency, Financial Services, FinTech, Web3',\n",
       "       'E-Commerce, Financial Services, FinTech, Payments',\n",
       "       'Blockchain, Cryptocurrency, Incubators, Web3',\n",
       "       'Information Technology, Sharing Economy, Software',\n",
       "       'Blockchain, CleanTech, Cryptocurrency, Energy, Renewable Energy, Software, Sustainability',\n",
       "       'Chemical, Industrial, Manufacturing', 'E-Learning, Education',\n",
       "       'Financial Services, FinTech, Trading Platform',\n",
       "       'Information Technology, Internet, SaaS, Software',\n",
       "       'Automotive, Chemical, Industrial, Oil and Gas', 'Cyber Security',\n",
       "       'Information Services, Information Technology, Internet',\n",
       "       'Information Services, Information Technology',\n",
       "       'Apps, Artificial Intelligence (AI), Financial Services, FinTech',\n",
       "       'Agriculture, Consumer, Farming',\n",
       "       'Accounting, Financial Services, Information Technology, Software',\n",
       "       'Food and Beverage, Snack Food', 'Food and Beverage',\n",
       "       'Audio, Broadcasting, TV',\n",
       "       'Artificial Intelligence (AI), B2B, Blockchain, FinTech, Information Technology, SaaS, Software, Supply Chain Management, Trading Platform, Transaction Processing',\n",
       "       'Delivery Service, Food and Beverage',\n",
       "       'B2B, E-Commerce, Hospitality, Information Technology, Marketplace, Procurement, SaaS, Software, Supply Chain Management',\n",
       "       'Gaming, Media and Entertainment, Video Streaming',\n",
       "       'Fitness, Personal Health, Wellness',\n",
       "       'Blockchain, Cryptocurrency, E-Learning, Education, Social Media',\n",
       "       'Digital Marketing, Software, Web Development',\n",
       "       'Event Management, Internet, Natural Language Processing, SaaS, Software',\n",
       "       'Books, EBooks, Publishing',\n",
       "       'Education, Online Portals, Travel, Virtual Reality',\n",
       "       'Food and Beverage, SaaS',\n",
       "       'Events, Social, Social Entrepreneurship',\n",
       "       'Advertising, Information Technology',\n",
       "       'Augmented Reality, Events, Information Technology, Virtual Reality',\n",
       "       'EdTech, SaaS, Software',\n",
       "       'Angel Investment, Impact Investing, Incubators, Information Technology, Internet, Venture Capital',\n",
       "       'Delivery Service, E-Commerce, Geospatial, Logistics, Payments, Same Day Delivery',\n",
       "       'Freight Service, Logistics, Shipping, Shipping Broker, Software, Supply Chain Management',\n",
       "       'Insurance',\n",
       "       'Artificial Intelligence (AI), Logistics, Machine Learning, PaaS, SaaS, Software, Supply Chain Management',\n",
       "       'Computer, Gaming, Software', 'E-Commerce, Marketplace',\n",
       "       'Blockchain, Cryptocurrency, Open Source, Software',\n",
       "       'Cryptocurrency, Digital Entertainment, Tourism',\n",
       "       'Computer, Computer Vision, Digital Marketing, E-Commerce, Food and Beverage, Food Delivery, Hospitality, Loyalty Programs, Mobile Apps, Restaurants',\n",
       "       'Automotive, Big Data, FinTech',\n",
       "       'Banking, Financial Services, FinTech',\n",
       "       'Generative AI, Impact Investing, Intelligent Systems, Knowledge Management, Predictive Analytics, Venture Capital',\n",
       "       'Artificial Intelligence (AI), Business Intelligence, Chatbot, Enterprise Software, Machine Learning, Messaging, Natural Language Processing, Security, Video, Virtual Assistant',\n",
       "       'E-Commerce, Fashion, Marketplace, Retail, Shoes, Shopping',\n",
       "       'Car Sharing, E-Commerce, Information Technology, Micro Lending, Rental, Subscription Service',\n",
       "       'Financial Services, FinTech, Mobile Payments, Payments',\n",
       "       'E-Commerce, Internet',\n",
       "       'Apps, Information Technology, Mobile Payments, Software',\n",
       "       'Document Management, Employee Benefits, Enterprise Software, Human Resources, InsurTech, Mobile Apps, Payments, Software',\n",
       "       'E-Commerce, Information Technology, Internet',\n",
       "       'Accounting, Apps, Bookkeeping and Payroll, Enterprise Resource Planning (ERP), FinTech, Image Recognition, Industrial Automation',\n",
       "       'Apps, Commercial Real Estate, Coworking, Hospitality, Real Estate',\n",
       "       'Information Technology, Internet, Travel',\n",
       "       'Cloud Infrastructure, Delivery, Food and Beverage, Food Delivery, Restaurants',\n",
       "       'Health Care, Information Technology, Medical',\n",
       "       'Artificial Intelligence (AI), Cloud Computing, Information Services, Information Technology, Machine Learning',\n",
       "       'Analytics, Artificial Intelligence (AI), Construction, Fleet Management, Logistics, Mining, Oil and Gas',\n",
       "       'Banking, Financial Services, FinTech, Payments',\n",
       "       'Fitness, Health Care, Information Technology, mHealth, Software, Wellness',\n",
       "       'Classifieds, E-Commerce, E-Commerce Platforms, Information Services, Information Technology',\n",
       "       'Delivery Service, E-Commerce, Food Delivery, Internet, Restaurants',\n",
       "       'Craft Beer, Food and Beverage, Water Purification',\n",
       "       'Consulting, Internet of Things, IT Infrastructure',\n",
       "       'Fitness, Health Care, Medical, Mental Health',\n",
       "       'Cosmetics, E-Commerce',\n",
       "       'Auto Insurance, Banking, Insurance, InsurTech, Life Insurance, Price Comparison',\n",
       "       'Apps, Communities, Location Based Services, Media and Entertainment, Mobile Apps, Social Network, Sports, Video',\n",
       "       'E-Commerce, Retail, Shopping',\n",
       "       \"Consumer Goods, E-Commerce, Fashion, Lifestyle, Marketplace, Women's\",\n",
       "       'Apps, Fitness, Health Care',\n",
       "       'Apps, Information Technology, Mobile Apps, Software, Web Development',\n",
       "       'EdTech, Education', 'E-Commerce, Eyewear',\n",
       "       'Environmental Consulting, Water Purification, Water Transportation',\n",
       "       'Apps, Beauty, E-Commerce, Marketing, Marketplace',\n",
       "       'Education, Fitness, Food and Beverage, Health Care, Software',\n",
       "       'Logistics, Software, Supply Chain Management',\n",
       "       'Blockchain, Energy, Solar, Sustainability',\n",
       "       'Blockchain, Cryptocurrency, eSports, Gaming, Web3',\n",
       "       'Financial Services, Government, Information Technology',\n",
       "       'E-Commerce, Logistics, Marketplace, Wholesale',\n",
       "       'Advertising, Software',\n",
       "       'Apps, Digital Entertainment, Education, Mobile, Mobile Apps, Software',\n",
       "       'FinTech, Wealth Management',\n",
       "       'Blockchain, Financial Services, FinTech, Payments',\n",
       "       'Developer APIs, Finance, Financial Services, FinTech, Information Technology',\n",
       "       'Health Insurance, Insurance',\n",
       "       'Analytics, Artificial Intelligence (AI), Human Resources, Information Technology, Machine Learning, Software',\n",
       "       'Information Technology, Software', 'Productivity Tools, Wellness',\n",
       "       'E-Commerce, Rental, Transportation',\n",
       "       'Automotive, Mobile Apps, Rental, SaaS',\n",
       "       'Construction, Enterprise Applications, Industrial Automation, Information Technology, Internet of Things, Wearables',\n",
       "       'Apps, Delivery Service, E-Commerce, Food Delivery, Gift, Grocery',\n",
       "       'Apps, Consumer Lending, Mobile Apps',\n",
       "       '3D Technology, Blockchain, Information Technology, Marketing, Marketplace, SaaS',\n",
       "       'Cloud Storage, Cryptocurrency, Data Storage, Database, Information Technology, Web Hosting',\n",
       "       'B2B, Customer Service, FinTech, Insurance, InsurTech, SaaS',\n",
       "       'Advertising, E-Commerce, Marketing, Marketplace',\n",
       "       'Business Intelligence, Information Technology',\n",
       "       'E-Commerce, Internet, Shopping',\n",
       "       'Information Technology, Social Network',\n",
       "       'Impact Investing, Venture Capital',\n",
       "       'Beauty, E-Commerce, Last Mile Transportation, Marketplace, Professional Services',\n",
       "       'Internet, Mobile Apps, Transportation, Travel',\n",
       "       \"Health Care, mHealth, Personal Health, Women's\",\n",
       "       'Consumer Goods, E-Commerce, Fashion, Lifestyle, Manufacturing, Retail',\n",
       "       'Hospitality, Hotel, Rental, Tourism, Travel',\n",
       "       'Business Development, Database, Financial Services, FinTech, Information Technology, Software, Supply Chain Management',\n",
       "       'Mobile Apps, Software, Test and Measurement', 'Manufacturing',\n",
       "       'Property Development, Property Management, Real Estate',\n",
       "       'Logistics, Railroad, Transportation',\n",
       "       'Apps, Blockchain, Financial Services, FinTech, Information Technology',\n",
       "       'Courier Service, Logistics, Supply Chain Management',\n",
       "       'E-Commerce, Eyewear, Marketing, Retail, Sales',\n",
       "       'Human Resources, Information Technology, Recruiting, Staffing Agency',\n",
       "       'Aerospace, Air Transportation, Artificial Intelligence (AI), Business Travel, Machine Learning, Marketplace, Travel',\n",
       "       'Apps, Retail, Supply Chain Management',\n",
       "       'Artificial Intelligence (AI), Information Technology, Software',\n",
       "       'Fitness, Health Care, Mobile Apps, Wellness',\n",
       "       'Computer, E-Commerce', 'Artificial Intelligence (AI)',\n",
       "       'Logistics, Shipping, Software, Supply Chain Management',\n",
       "       'E-Learning, EdTech', 'Blockchain, Ethereum, Internet',\n",
       "       'Electronics, Energy, Energy Efficiency, Energy Management, Energy Storage, Manufacturing, Renewable Energy, Solar, Sustainability',\n",
       "       'E-Commerce, Information Services, Information Technology, Software',\n",
       "       'Gaming, Marketplace',\n",
       "       'E-Commerce, Health Care, Personal Health, Pharmaceutical',\n",
       "       'Data Storage, Database, Medical, Software',\n",
       "       'E-Learning, EdTech, Education, Online Portals, Software',\n",
       "       'E-Commerce, Fashion, Furniture, Retail',\n",
       "       'Mobile Apps, Parenting, Social Network',\n",
       "       'CleanTech, Consulting, Product Design, Product Research',\n",
       "       'Automotive, Communities, Information Technology, Logistics, Software',\n",
       "       'Apps', 'Analytics, Apps', 'E-Commerce, Payments, Software',\n",
       "       'Information Technology, Travel',\n",
       "       'Advertising, Advertising Platforms, Digital Signage, Marketing, Outdoor Advertising, Printing',\n",
       "       'E-Commerce, Flowers, Retail', 'Fitness, Wellness',\n",
       "       'Tourism, Travel', 'Energy, Social, Social Entrepreneurship',\n",
       "       'Automotive',\n",
       "       'Advertising, Business Development, Marketing, Messaging, Sales, Small and Medium Businesses',\n",
       "       'Human Resources, SaaS, Software',\n",
       "       'EdTech, Education, Knowledge Management, Messaging, Mobile, Software',\n",
       "       'AgTech, Information Technology, Software',\n",
       "       'Automotive, Consumer, Mobile Apps, Parking, Smart Cities',\n",
       "       'Big Data, Human Resources, Identity Management, Information Technology, SaaS, Software',\n",
       "       'Agriculture, AgTech, Farming, Fruit',\n",
       "       'Health Care, Pharmaceutical, Software',\n",
       "       'Artificial Intelligence (AI), E-Learning, Education, Software, Training',\n",
       "       'eSports, Gaming, Mobile Payments, Telecommunications',\n",
       "       'Digital Media, Leisure, Social Media, Social Network',\n",
       "       'Broadcasting, E-Learning, Education, Online Portals, Video',\n",
       "       'Artificial Intelligence (AI), Augmented Reality, Information Technology, Machine Learning',\n",
       "       'Analytics, Big Data, Information Technology, Location Based Services, Mobile, Software',\n",
       "       'E-Commerce, Gaming, Information Technology, Media and Entertainment, Metaverse, Real Estate, Software, Web3',\n",
       "       'Art, Event Management, Events, Performing Arts',\n",
       "       'Database, Hospitality, Hotel, Personalization, SaaS, Travel',\n",
       "       'Banking, Financial Services, FinTech, Information Technology, Mobile Payments',\n",
       "       'Apps, E-Commerce, Retail', 'AgTech', 'Enterprise Software',\n",
       "       'E-Commerce, Retail', 'Automotive, Consumer, E-Commerce Platforms',\n",
       "       'Rental, Rental Property, Vacation Rental',\n",
       "       'Apps, Car Sharing, Information Technology, Mobile Apps, Transportation',\n",
       "       'Adventure Travel, Travel, Travel Agency',\n",
       "       'Artificial Intelligence (AI), E-Commerce, Fashion, Machine Learning, Mobile, Mobile Apps, Personalization',\n",
       "       'Blockchain, Cryptocurrency, Financial Services, Information Services, Information Technology',\n",
       "       'Building Material, Property Development, Real Estate',\n",
       "       'Electrical Distribution, Energy, Renewable Energy, Solar, Sustainability',\n",
       "       '3D Printing, 3D Technology, E-Commerce Platforms, Energy, Manufacturing, Oil and Gas',\n",
       "       'Consumer Goods, E-Commerce, Fashion, Lifestyle, Retail',\n",
       "       'Employee Benefits, Information Technology',\n",
       "       'E-Commerce, Home Services, Information Technology, Marketplace, SaaS, Service Industry',\n",
       "       'E-Commerce, E-Commerce Platforms, Shopping',\n",
       "       'Information Technology, Logistics, SaaS',\n",
       "       'Apps, E-Commerce, Social Media, Software',\n",
       "       'Ad Network, Advertising, Advertising Platforms, Information Technology, Lead Generation, SaaS, Software',\n",
       "       'B2B, E-Commerce, Internet, Marketplace, Retail, Wholesale',\n",
       "       'Analytics, Big Data, Consumer Research, Digital Media, Market Research, Product Research, Social Media, Social Media Marketing, Software, Text Analytics',\n",
       "       'Industrial, Information Technology, Robotics',\n",
       "       'Apps, Audio, Audiobooks, Books, Digital Media, Media and Entertainment',\n",
       "       'Automotive, Autonomous Vehicles, Car Sharing, Mobile Apps, Rental',\n",
       "       'Financial Services, FinTech, Software, Supply Chain Management',\n",
       "       'Baby, Environmental Consulting, Organic',\n",
       "       'Apps, E-Commerce, Gift, Internet, Mobile, Mobile Apps, Online Portals',\n",
       "       'Fitness, Health Care, Hospital, Telehealth, Video',\n",
       "       'Dental, Health Care, Information Technology', 'Apps, Automotive',\n",
       "       'Leisure, Real Estate, Tourism, Travel',\n",
       "       'E-Commerce, Furniture, Internet, Rental, Shopping, Travel',\n",
       "       'Apps, E-Commerce, Internet, Mobile, Mobile Apps, Shopping Mall',\n",
       "       'Banking, Financial Services, FinTech, Retail',\n",
       "       'Finance, Financial Services, FinTech, Information Technology, Software',\n",
       "       'Architecture, Construction, Furniture, Information Services, Interior Design, Marketing, Professional Networking, Professional Services, SaaS, Software',\n",
       "       'Adventure Travel, Tourism, Travel Agency',\n",
       "       'Software, Web Apps, Web Development', 'Leisure, Tourism, Travel',\n",
       "       'Artificial Intelligence (AI), Blockchain, Internet, Mobile Apps',\n",
       "       'Financial Services, FinTech, Lending, Sustainability',\n",
       "       'Consumer, Customer Service, Recruiting, Service Industry',\n",
       "       'Wireless',\n",
       "       'Food and Beverage, Hospitality, Hotel, Human Resources, Recruiting, Restaurants, Social Network, Social Recruiting, Tourism, Travel',\n",
       "       'Apps, Artificial Intelligence (AI), E-Commerce, Messaging',\n",
       "       'Gaming, Video Games', 'Art, E-Commerce, Manufacturing',\n",
       "       'E-Commerce, Logistics, Retail',\n",
       "       'Communities, Education, Social Entrepreneurship, Social Impact',\n",
       "       'Oil and Gas', 'B2B, Consumer, E-Commerce, Retail, SaaS, Software',\n",
       "       'Delivery, Delivery Service, E-Commerce, Food and Beverage',\n",
       "       'Marketplace, Property Management, Real Estate',\n",
       "       'Audio, Digital Media, Podcast',\n",
       "       'E-Commerce Platforms, Information Technology, Legal Tech, Online Portals, Small and Medium Businesses',\n",
       "       'Advertising Platforms, Classifieds, E-Commerce, Lead Generation, Lead Management, Rental Property, Web Apps, Web Hosting',\n",
       "       'Consumer Goods, E-Commerce, Grocery, Marketplace, Mobile, Mobile Apps, Retail',\n",
       "       'Blockchain, Cryptocurrency, Information Technology, Mobile Apps, Social Media, Software, Web3',\n",
       "       'Music, Music Education', 'Tour Operator, Tourism',\n",
       "       'Sports Leagues and Teams', 'Energy, Renewable Energy',\n",
       "       'Bitcoin, Cryptocurrency, Financial Services, FinTech, Payments',\n",
       "       'Classifieds, Marketplace, Online Portals',\n",
       "       'Gaming, PC Games, Sports',\n",
       "       'Apps, Food and Beverage, Mobile, Reservations, Restaurants, SaaS, Software',\n",
       "       'E-Commerce, Internet, Marketplace, Online Portals, Shopping',\n",
       "       'Apps, Laundry and Dry-cleaning, Mobile, Software',\n",
       "       'Finance, Financial Services, Insurance, InsurTech',\n",
       "       'Content Creators, Digital Entertainment, Information Technology, Media and Entertainment',\n",
       "       'B2B, Service Industry', 'Consumer Goods, Software',\n",
       "       'Food and Beverage, Food Delivery, Restaurants',\n",
       "       'Agriculture, Farming',\n",
       "       'Artificial Intelligence (AI), Career Planning, Human Resources, Internet, Recruiting',\n",
       "       'Apps, E-Commerce, Grocery, Internet',\n",
       "       'E-Commerce, E-Commerce Platforms, Electronics, Fashion, Gift, Online Portals, Retail, Shopping, Shopping Mall, Video Games',\n",
       "       'Construction, Restaurants',\n",
       "       'Delivery Service, Internet, Logistics, Mobile Apps, Warehousing',\n",
       "       'E-Commerce, News, Online Portals, Price Comparison',\n",
       "       'E-Commerce, Shopping', 'E-Commerce, Mobile',\n",
       "       'Art, E-Commerce, Internet, Music',\n",
       "       'Apps, E-Commerce, FinTech, Payments',\n",
       "       'Collaboration, Developer Tools, Internet, Open Source, Q&A, Real Time, Software, Technical Support',\n",
       "       'Collaboration, E-Learning, Education',\n",
       "       '3D Printing, 3D Technology, Information Technology, Manufacturing',\n",
       "       'Apps, Mobile, Retail', 'Art, E-Commerce, Home Decor',\n",
       "       'Automotive, Logistics, Transportation',\n",
       "       'E-Commerce, Mobile, Web Development',\n",
       "       'Artificial Intelligence (AI), Autonomous Vehicles, Robotics',\n",
       "       'Enterprise Software, Meeting Software, Presentation Software, Retail Technology',\n",
       "       'Hospitality, Property Management, Real Estate',\n",
       "       'Analytics, DIY, Education, Hardware, Information Technology, Robotics, Software',\n",
       "       'Crowdfunding, FinTech, Real Estate',\n",
       "       'Cloud Data Services, Cloud Management, Domain Registrar, Web Hosting',\n",
       "       'Energy, Information Technology, Internet of Things, Software',\n",
       "       'Internet, Transportation, Travel',\n",
       "       'Audio Recording and Production, Music, Video',\n",
       "       'Cryptocurrency, Enterprise Software, Financial Services, FinTech, Information Technology, Internet, IT Infrastructure, Payments, Software',\n",
       "       'Blockchain, Enterprise Software, FinTech, Information Technology, Loyalty Programs',\n",
       "       'Crowdsourcing, Real Time', 'Industrial Engineering, Water',\n",
       "       'Logistics, Supply Chain Management, Transportation',\n",
       "       '3D Printing, 3D Technology, Artificial Intelligence (AI), Computer Vision, Machine Learning, Manufacturing, Software',\n",
       "       'Data Management, Database, Information Technology, Mining, Oil and Gas, Software',\n",
       "       'Financial Services, FinTech, Lending, Peer to Peer',\n",
       "       'Communities, Content Discovery, FinTech, Funding Platform',\n",
       "       'Business Information Systems, E-Commerce Platforms, Education, Machine Learning, Operating Systems, Small and Medium Businesses, Software, Telecommunications, Travel',\n",
       "       'Artificial Intelligence (AI), Natural Language Processing, Software, Speech Recognition',\n",
       "       'Food and Beverage, Food Processing',\n",
       "       'Advertising, Communities, Marketing, Social Media, Virtual Reality',\n",
       "       'Event Management, Internet',\n",
       "       'Automotive, Hardware, Internet of Things, Software, Transportation',\n",
       "       'E-Commerce, Marketing, Retail',\n",
       "       'Aerospace, Apps, Internet, Marketplace, Travel',\n",
       "       \"E-Commerce, Fashion, Women's\",\n",
       "       'Information Services, Internet, Messaging, Mobile Apps, Social Media',\n",
       "       'Home Improvement, Home Services, Insurance, Marketplace, Shipping',\n",
       "       'Consumer Electronics, Content Discovery, E-Commerce, Mobile, Shopping',\n",
       "       'Health Care, Hospital, Manufacturing',\n",
       "       'Employee Benefits, FinTech, Human Resources, Insurance, InsurTech, SaaS',\n",
       "       'E-Commerce, Financial Services, FinTech, Internet, Mobile, Payments, Web Development',\n",
       "       'Automotive, E-Commerce, Finance',\n",
       "       'E-Commerce, Internet, Marketplace, Service Industry',\n",
       "       'Consulting, Information Technology, Service Industry',\n",
       "       'E-Commerce, Internet, iOS, Marketplace, Mobile, Social Network',\n",
       "       'Artificial Intelligence (AI), Human Resources, Recruiting, SaaS, Social Recruiting',\n",
       "       'Business Intelligence, Software',\n",
       "       'Information Services, Information Technology, Software',\n",
       "       'Bitcoin, Cryptocurrency, Ethereum, Finance, Mining',\n",
       "       'Health Care, Tourism, Travel', 'Mobile, Social Media',\n",
       "       'Enterprise Software, Procurement, SaaS, Software',\n",
       "       'Delivery Service, E-Commerce, Information Technology, Logistics, Supply Chain Management',\n",
       "       'Customer Service, Delivery, Financial Services, Logistics, Public Transportation, Ride Sharing, Transportation',\n",
       "       'E-Commerce, Lifestyle, Retail',\n",
       "       'Banking, Finance, Financial Services, FinTech, Price Comparison',\n",
       "       'Apps, Digital Entertainment, Digital Media, E-Learning, Education',\n",
       "       'Health Care, Medical, Medical Device, Software',\n",
       "       'Content, Journalism, News, Parenting, Social Media, Software',\n",
       "       'Marketplace', 'SaaS, Software, Tourism, Travel',\n",
       "       'Credit, Financial Services, FinTech, Mobile Payments',\n",
       "       'Facilities Support Services, Fuel, Oil and Gas',\n",
       "       'Financial Services, FinTech, Mobile, Telecommunications',\n",
       "       'Document Management, File Sharing, Software',\n",
       "       'Career Planning, Education, Employment, Marketplace, Recruiting',\n",
       "       'Events, Guides, Meeting Software, Mobile, Social Media, Software',\n",
       "       'Energy, Renewable Energy, Solar',\n",
       "       'Advertising, Consulting, Digital Media, Events, Publishing',\n",
       "       'Beauty, E-Commerce, Health Care, Internet',\n",
       "       'Recreation, Reservations, Restaurants', 'Social Entrepreneurship',\n",
       "       'Consumer Electronics, E-Commerce, Shopping',\n",
       "       'Energy, Energy Management, Oil and Gas',\n",
       "       'Gaming, Mobile, Online Games',\n",
       "       'E-Commerce, Music, Musical Instruments',\n",
       "       'Internet, Internet of Things, TV Production',\n",
       "       'E-Commerce, Lifestyle, Marketplace, Online Portals, Shopping',\n",
       "       'Career Planning, Education, Employment, Events, Guides',\n",
       "       'Advertising, Analytics, Artificial Intelligence (AI), Information Technology, Lead Generation, Machine Learning, Marketing Automation, Software',\n",
       "       'Apparel, Fashion, Franchise, Lifestyle',\n",
       "       'Hospitality, Real Estate, Real Estate Investment',\n",
       "       'Finance, FinTech, Insurance, Price Comparison, Professional Services, Venture Capital',\n",
       "       'Information Technology, Security, Software',\n",
       "       'Cloud Security, Cyber Security, Identity Management, Network Security, Penetration Testing',\n",
       "       'E-Commerce, Internet, Small and Medium Businesses',\n",
       "       'Developer APIs, Marketing Automation, Messaging, PaaS, SMS, Software',\n",
       "       'Apparel, E-Commerce, Fashion, Lifestyle',\n",
       "       'E-Commerce, Information Technology, Mobile Apps, Payments',\n",
       "       'Advertising, Coupons, E-Commerce, Lifestyle, Marketing',\n",
       "       'Lifestyle, Mobile, Social Media',\n",
       "       'CleanTech, Energy Efficiency, Energy Management, Green Building, GreenTech, Internet of Things, Smart Building, Software',\n",
       "       'Biotechnology', 'Payments, Small and Medium Businesses',\n",
       "       'Computer, Gaming, Information Technology, Media and Entertainment, Online Games, Publishing, Software',\n",
       "       'Information Services, Internet'], dtype=object)"
      ]
     },
     "execution_count": 54,
     "metadata": {},
     "output_type": "execute_result"
    }
   ],
   "source": [
    "filter_df['Industries'].unique()"
   ]
  },
  {
   "cell_type": "code",
   "execution_count": 66,
   "metadata": {},
   "outputs": [],
   "source": [
    "export = filter_df[['Organization Name','Number of Funding Rounds','Last Funding Amount (in USD)','Number of Funding Rounds', 'No Investors', 'Funded_Age', 'Current_Age',\n",
    "                    'Total Funding Amount (in USD)']]\n",
    "\n",
    "export.to_csv('UAE_explorer.csv',index=False)"
   ]
  },
  {
   "cell_type": "code",
   "execution_count": 51,
   "metadata": {},
   "outputs": [],
   "source": [
    "# import pandas as pd\n",
    "# import numpy as np\n",
    "from sklearn.preprocessing import StandardScaler, LabelEncoder\n",
    "from sklearn.decomposition import PCA\n",
    "from sklearn.cluster import KMeans\n",
    "import matplotlib.pyplot as plt\n",
    "import seaborn as sns\n",
    "from sklearn.metrics import silhouette_score"
   ]
  },
  {
   "cell_type": "code",
   "execution_count": 63,
   "metadata": {},
   "outputs": [
    {
     "data": {
      "text/plain": [
       "0                 NaN\n",
       "1                 NaN\n",
       "2                 NaN\n",
       "3                 NaN\n",
       "4                 NaN\n",
       "            ...      \n",
       "1252              NaN\n",
       "1253     $10M to $50M\n",
       "1254              NaN\n",
       "1255      $1M to $10M\n",
       "1256    Less than $1M\n",
       "Name: Estimated Revenue Range, Length: 1257, dtype: object"
      ]
     },
     "execution_count": 63,
     "metadata": {},
     "output_type": "execute_result"
    }
   ],
   "source": [
    "filter_df['Estimated Revenue Range']"
   ]
  },
  {
   "cell_type": "code",
   "execution_count": 76,
   "metadata": {},
   "outputs": [
    {
     "data": {
      "text/plain": [
       "['index',\n",
       " 'Organization Name',\n",
       " 'Founded Date',\n",
       " 'Operating Status',\n",
       " 'Industries',\n",
       " 'Headquarters Location',\n",
       " 'Number of Employees',\n",
       " 'Last Funding Amount (in USD)',\n",
       " 'Column1',\n",
       " 'Last Funding Date',\n",
       " 'Founders',\n",
       " 'Number of Funding Rounds',\n",
       " 'Funding Status',\n",
       " 'Last Funding Type',\n",
       " 'Last Equity Funding Amount (in USD)',\n",
       " 'Last Equity Funding Type',\n",
       " 'Total Equity Funding Amount (in USD)',\n",
       " 'Total Funding Amount (in USD)',\n",
       " 'Top 5 Investors',\n",
       " 'Diversity Spotlight',\n",
       " 'Estimated Revenue Range',\n",
       " 'Number of Articles',\n",
       " 'Investment/Not',\n",
       " 'No of Founders',\n",
       " 'No Investors',\n",
       " 'Funded_Age',\n",
       " 'Current_Age']"
      ]
     },
     "execution_count": 76,
     "metadata": {},
     "output_type": "execute_result"
    }
   ],
   "source": [
    "# whole_list = list(filter_df.columns)\n"
   ]
  },
  {
   "cell_type": "code",
   "execution_count": 77,
   "metadata": {},
   "outputs": [
    {
     "name": "stdout",
     "output_type": "stream",
     "text": [
      "<class 'pandas.core.frame.DataFrame'>\n",
      "RangeIndex: 1257 entries, 0 to 1256\n",
      "Data columns (total 27 columns):\n",
      " #   Column                                Non-Null Count  Dtype         \n",
      "---  ------                                --------------  -----         \n",
      " 0   index                                 1257 non-null   int64         \n",
      " 1   Organization Name                     1257 non-null   object        \n",
      " 2   Founded Date                          1257 non-null   datetime64[ns]\n",
      " 3   Operating Status                      1257 non-null   object        \n",
      " 4   Industries                            1226 non-null   object        \n",
      " 5   Headquarters Location                 1257 non-null   object        \n",
      " 6   Number of Employees                   1257 non-null   int64         \n",
      " 7   Last Funding Amount (in USD)          1083 non-null   float64       \n",
      " 8   Column1                               1257 non-null   float64       \n",
      " 9   Last Funding Date                     1257 non-null   datetime64[ns]\n",
      " 10  Founders                              968 non-null    object        \n",
      " 11  Number of Funding Rounds              1257 non-null   float64       \n",
      " 12  Funding Status                        1068 non-null   object        \n",
      " 13  Last Funding Type                     1257 non-null   object        \n",
      " 14  Last Equity Funding Amount (in USD)   1055 non-null   float64       \n",
      " 15  Last Equity Funding Type              1201 non-null   object        \n",
      " 16  Total Equity Funding Amount (in USD)  1194 non-null   float64       \n",
      " 17  Total Funding Amount (in USD)         1257 non-null   float64       \n",
      " 18  Top 5 Investors                       889 non-null    object        \n",
      " 19  Diversity Spotlight                   1 non-null      object        \n",
      " 20  Estimated Revenue Range               604 non-null    object        \n",
      " 21  Number of Articles                    757 non-null    float64       \n",
      " 22  Investment/Not                        1257 non-null   object        \n",
      " 23  No of Founders                        1257 non-null   int64         \n",
      " 24  No Investors                          1257 non-null   int64         \n",
      " 25  Funded_Age                            1257 non-null   int64         \n",
      " 26  Current_Age                           1257 non-null   int64         \n",
      "dtypes: datetime64[ns](2), float64(7), int64(6), object(12)\n",
      "memory usage: 265.3+ KB\n"
     ]
    }
   ],
   "source": [
    "filter_df.info()"
   ]
  },
  {
   "cell_type": "code",
   "execution_count": 55,
   "metadata": {},
   "outputs": [],
   "source": [
    "filter_df.drop('index',axis=1,inplace=True)"
   ]
  },
  {
   "cell_type": "code",
   "execution_count": 56,
   "metadata": {},
   "outputs": [
    {
     "data": {
      "text/plain": [
       "Index(['Organization Name', 'Founded Date', 'Operating Status', 'Industries', 'Headquarters Location', 'Number of Employees', 'Last Funding Amount (in USD)', 'Column1', 'Last Funding Date', 'Founders', 'Number of Funding Rounds', 'Funding Status', 'Last Funding Type', 'Last Equity Funding Amount (in USD)', 'Last Equity Funding Type', 'Total Equity Funding Amount (in USD)', 'Total Funding Amount (in USD)', 'Top 5 Investors', 'Diversity Spotlight', 'Estimated Revenue Range', 'Number of Articles', 'Investment/Not', 'No of Founders', 'No Investors', 'Funded_Age', 'Current_Age'], dtype='object')"
      ]
     },
     "execution_count": 56,
     "metadata": {},
     "output_type": "execute_result"
    }
   ],
   "source": [
    "whole_list=filter_df.columns\n",
    "whole_list"
   ]
  },
  {
   "cell_type": "code",
   "execution_count": 57,
   "metadata": {},
   "outputs": [],
   "source": [
    "numerical_col = []\n",
    "cat_col = []\n",
    "for i in whole_list:\n",
    "    if filter_df[i].dtype != object:\n",
    "        numerical_col.append(i)\n",
    "    else:\n",
    "        cat_col.append(i)"
   ]
  },
  {
   "cell_type": "code",
   "execution_count": 58,
   "metadata": {},
   "outputs": [
    {
     "data": {
      "text/plain": [
       "['Organization Name',\n",
       " 'Operating Status',\n",
       " 'Industries',\n",
       " 'Headquarters Location',\n",
       " 'Founders',\n",
       " 'Funding Status',\n",
       " 'Last Funding Type',\n",
       " 'Last Equity Funding Type',\n",
       " 'Top 5 Investors',\n",
       " 'Diversity Spotlight',\n",
       " 'Estimated Revenue Range',\n",
       " 'Investment/Not']"
      ]
     },
     "execution_count": 58,
     "metadata": {},
     "output_type": "execute_result"
    }
   ],
   "source": [
    "cat_col"
   ]
  },
  {
   "cell_type": "code",
   "execution_count": 59,
   "metadata": {},
   "outputs": [
    {
     "data": {
      "text/plain": [
       "['Founded Date',\n",
       " 'Number of Employees',\n",
       " 'Last Funding Amount (in USD)',\n",
       " 'Column1',\n",
       " 'Last Funding Date',\n",
       " 'Number of Funding Rounds',\n",
       " 'Last Equity Funding Amount (in USD)',\n",
       " 'Total Equity Funding Amount (in USD)',\n",
       " 'Total Funding Amount (in USD)',\n",
       " 'Number of Articles',\n",
       " 'No of Founders',\n",
       " 'No Investors',\n",
       " 'Funded_Age',\n",
       " 'Current_Age']"
      ]
     },
     "execution_count": 59,
     "metadata": {},
     "output_type": "execute_result"
    }
   ],
   "source": [
    "numerical_col"
   ]
  },
  {
   "cell_type": "code",
   "execution_count": 60,
   "metadata": {},
   "outputs": [
    {
     "data": {
      "text/plain": [
       "['Number of Employees',\n",
       " 'Last Funding Amount (in USD)',\n",
       " 'Column1',\n",
       " 'Number of Funding Rounds',\n",
       " 'Last Equity Funding Amount (in USD)',\n",
       " 'Total Equity Funding Amount (in USD)',\n",
       " 'Total Funding Amount (in USD)',\n",
       " 'Number of Articles',\n",
       " 'No of Founders',\n",
       " 'No Investors',\n",
       " 'Funded_Age',\n",
       " 'Current_Age']"
      ]
     },
     "execution_count": 60,
     "metadata": {},
     "output_type": "execute_result"
    }
   ],
   "source": [
    "numerical_col.remove(\"Founded Date\") \n",
    "numerical_col.remove(\"Last Funding Date\") \n",
    "numerical_col"
   ]
  },
  {
   "cell_type": "code",
   "execution_count": 61,
   "metadata": {},
   "outputs": [
    {
     "name": "stdout",
     "output_type": "stream",
     "text": [
      "------------------\n",
      " ['Number of Employees', 'Last Funding Amount (in USD)', 'Column1', 'Number of Funding Rounds', 'Last Equity Funding Amount (in USD)', 'Total Equity Funding Amount (in USD)', 'Total Funding Amount (in USD)', 'Number of Articles', 'No of Founders', 'No Investors', 'Funded_Age', 'Current_Age'] \n",
      " -------------------['Organization Name', 'Operating Status', 'Industries', 'Headquarters Location', 'Founders', 'Funding Status', 'Last Funding Type', 'Last Equity Funding Type', 'Top 5 Investors', 'Diversity Spotlight', 'Estimated Revenue Range', 'Investment/Not']\n"
     ]
    }
   ],
   "source": [
    "# print('numerical_col')\n",
    "print(f\"------------------\\n {numerical_col} \\n -------------------{cat_col}\")"
   ]
  },
  {
   "cell_type": "code",
   "execution_count": 62,
   "metadata": {},
   "outputs": [
    {
     "name": "stdout",
     "output_type": "stream",
     "text": [
      "<class 'pandas.core.frame.DataFrame'>\n",
      "RangeIndex: 1257 entries, 0 to 1256\n",
      "Data columns (total 26 columns):\n",
      " #   Column                                Non-Null Count  Dtype         \n",
      "---  ------                                --------------  -----         \n",
      " 0   Organization Name                     1257 non-null   object        \n",
      " 1   Founded Date                          1257 non-null   datetime64[ns]\n",
      " 2   Operating Status                      1257 non-null   object        \n",
      " 3   Industries                            1226 non-null   object        \n",
      " 4   Headquarters Location                 1257 non-null   object        \n",
      " 5   Number of Employees                   1257 non-null   int64         \n",
      " 6   Last Funding Amount (in USD)          1083 non-null   float64       \n",
      " 7   Column1                               1257 non-null   float64       \n",
      " 8   Last Funding Date                     1257 non-null   datetime64[ns]\n",
      " 9   Founders                              968 non-null    object        \n",
      " 10  Number of Funding Rounds              1257 non-null   float64       \n",
      " 11  Funding Status                        1068 non-null   object        \n",
      " 12  Last Funding Type                     1257 non-null   object        \n",
      " 13  Last Equity Funding Amount (in USD)   1055 non-null   float64       \n",
      " 14  Last Equity Funding Type              1201 non-null   object        \n",
      " 15  Total Equity Funding Amount (in USD)  1194 non-null   float64       \n",
      " 16  Total Funding Amount (in USD)         1257 non-null   float64       \n",
      " 17  Top 5 Investors                       889 non-null    object        \n",
      " 18  Diversity Spotlight                   1 non-null      object        \n",
      " 19  Estimated Revenue Range               604 non-null    object        \n",
      " 20  Number of Articles                    757 non-null    float64       \n",
      " 21  Investment/Not                        1257 non-null   object        \n",
      " 22  No of Founders                        1257 non-null   int64         \n",
      " 23  No Investors                          1257 non-null   int64         \n",
      " 24  Funded_Age                            1257 non-null   int64         \n",
      " 25  Current_Age                           1257 non-null   int64         \n",
      "dtypes: datetime64[ns](2), float64(7), int64(5), object(12)\n",
      "memory usage: 255.5+ KB\n"
     ]
    }
   ],
   "source": [
    "filter_df.info()"
   ]
  },
  {
   "cell_type": "code",
   "execution_count": 100,
   "metadata": {},
   "outputs": [],
   "source": [
    "def prepare_data(df1):\n",
    "    # Create label encoders for categorical variables\n",
    "    le_employees = LabelEncoder()\n",
    "    le_revenue = LabelEncoder()\n",
    "    \n",
    "    # Create a copy of the data with numerical and encoded categorical variables\n",
    "    df_processed = df1.copy()\n",
    "    \n",
    "    # Encode categorical variables\n",
    "    # df_processed['employees_encoded'] = le_employees.fit_transform(df1['Number of Employees'])\n",
    "    df_processed['revenue_encoded'] = le_revenue.fit_transform(df1['Estimated Revenue Range'])\n",
    "    \n",
    "    # Combine all features for scaling\n",
    "    features_for_analysis = numerical_col + ['revenue_encoded']\n",
    "    \n",
    "    # Scale the features\n",
    "    scaler = StandardScaler()\n",
    "    scaled_features = scaler.fit_transform(df_processed[features_for_analysis])\n",
    "    \n",
    "    return scaled_features, features_for_analysis\n",
    "\n",
    "\n",
    "\n"
   ]
  },
  {
   "cell_type": "code",
   "execution_count": 94,
   "metadata": {},
   "outputs": [],
   "source": [
    "filter_df.fillna(0,inplace=True)"
   ]
  },
  {
   "cell_type": "code",
   "execution_count": 102,
   "metadata": {},
   "outputs": [
    {
     "ename": "TypeError",
     "evalue": "Encoders require their input argument must be uniformly strings or numbers. Got ['int', 'str']",
     "output_type": "error",
     "traceback": [
      "\u001b[0;31m---------------------------------------------------------------------------\u001b[0m",
      "\u001b[0;31mTypeError\u001b[0m                                 Traceback (most recent call last)",
      "File \u001b[0;32m/run/media/thunderrr/Code/WorkSpace/Project Beta Samruddhi/Machine Learning/.linux_env/lib/python3.12/site-packages/sklearn/utils/_encode.py:174\u001b[0m, in \u001b[0;36m_unique_python\u001b[0;34m(values, return_inverse, return_counts)\u001b[0m\n\u001b[1;32m    172\u001b[0m uniques_set, missing_values \u001b[38;5;241m=\u001b[39m _extract_missing(uniques_set)\n\u001b[0;32m--> 174\u001b[0m uniques \u001b[38;5;241m=\u001b[39m \u001b[38;5;28;43msorted\u001b[39;49m\u001b[43m(\u001b[49m\u001b[43muniques_set\u001b[49m\u001b[43m)\u001b[49m\n\u001b[1;32m    175\u001b[0m uniques\u001b[38;5;241m.\u001b[39mextend(missing_values\u001b[38;5;241m.\u001b[39mto_list())\n",
      "\u001b[0;31mTypeError\u001b[0m: '<' not supported between instances of 'str' and 'int'",
      "\nDuring handling of the above exception, another exception occurred:\n",
      "\u001b[0;31mTypeError\u001b[0m                                 Traceback (most recent call last)",
      "Cell \u001b[0;32mIn[102], line 1\u001b[0m\n\u001b[0;32m----> 1\u001b[0m \u001b[43mprepare_data\u001b[49m\u001b[43m(\u001b[49m\u001b[43mfilter_df\u001b[49m\u001b[43m)\u001b[49m\n",
      "Cell \u001b[0;32mIn[100], line 11\u001b[0m, in \u001b[0;36mprepare_data\u001b[0;34m(df1)\u001b[0m\n\u001b[1;32m      7\u001b[0m df_processed \u001b[38;5;241m=\u001b[39m df1\u001b[38;5;241m.\u001b[39mcopy()\n\u001b[1;32m      9\u001b[0m \u001b[38;5;66;03m# Encode categorical variables\u001b[39;00m\n\u001b[1;32m     10\u001b[0m \u001b[38;5;66;03m# df_processed['employees_encoded'] = le_employees.fit_transform(df1['Number of Employees'])\u001b[39;00m\n\u001b[0;32m---> 11\u001b[0m df_processed[\u001b[38;5;124m'\u001b[39m\u001b[38;5;124mrevenue_encoded\u001b[39m\u001b[38;5;124m'\u001b[39m] \u001b[38;5;241m=\u001b[39m \u001b[43mle_revenue\u001b[49m\u001b[38;5;241;43m.\u001b[39;49m\u001b[43mfit_transform\u001b[49m\u001b[43m(\u001b[49m\u001b[43mdf1\u001b[49m\u001b[43m[\u001b[49m\u001b[38;5;124;43m'\u001b[39;49m\u001b[38;5;124;43mEstimated Revenue Range\u001b[39;49m\u001b[38;5;124;43m'\u001b[39;49m\u001b[43m]\u001b[49m\u001b[43m)\u001b[49m\n\u001b[1;32m     13\u001b[0m \u001b[38;5;66;03m# Combine all features for scaling\u001b[39;00m\n\u001b[1;32m     14\u001b[0m features_for_analysis \u001b[38;5;241m=\u001b[39m numerical_col \u001b[38;5;241m+\u001b[39m [\u001b[38;5;124m'\u001b[39m\u001b[38;5;124mrevenue_encoded\u001b[39m\u001b[38;5;124m'\u001b[39m]\n",
      "File \u001b[0;32m/run/media/thunderrr/Code/WorkSpace/Project Beta Samruddhi/Machine Learning/.linux_env/lib/python3.12/site-packages/sklearn/preprocessing/_label.py:115\u001b[0m, in \u001b[0;36mLabelEncoder.fit_transform\u001b[0;34m(self, y)\u001b[0m\n\u001b[1;32m    102\u001b[0m \u001b[38;5;250m\u001b[39m\u001b[38;5;124;03m\"\"\"Fit label encoder and return encoded labels.\u001b[39;00m\n\u001b[1;32m    103\u001b[0m \n\u001b[1;32m    104\u001b[0m \u001b[38;5;124;03mParameters\u001b[39;00m\n\u001b[0;32m   (...)\u001b[0m\n\u001b[1;32m    112\u001b[0m \u001b[38;5;124;03m    Encoded labels.\u001b[39;00m\n\u001b[1;32m    113\u001b[0m \u001b[38;5;124;03m\"\"\"\u001b[39;00m\n\u001b[1;32m    114\u001b[0m y \u001b[38;5;241m=\u001b[39m column_or_1d(y, warn\u001b[38;5;241m=\u001b[39m\u001b[38;5;28;01mTrue\u001b[39;00m)\n\u001b[0;32m--> 115\u001b[0m \u001b[38;5;28mself\u001b[39m\u001b[38;5;241m.\u001b[39mclasses_, y \u001b[38;5;241m=\u001b[39m \u001b[43m_unique\u001b[49m\u001b[43m(\u001b[49m\u001b[43my\u001b[49m\u001b[43m,\u001b[49m\u001b[43m \u001b[49m\u001b[43mreturn_inverse\u001b[49m\u001b[38;5;241;43m=\u001b[39;49m\u001b[38;5;28;43;01mTrue\u001b[39;49;00m\u001b[43m)\u001b[49m\n\u001b[1;32m    116\u001b[0m \u001b[38;5;28;01mreturn\u001b[39;00m y\n",
      "File \u001b[0;32m/run/media/thunderrr/Code/WorkSpace/Project Beta Samruddhi/Machine Learning/.linux_env/lib/python3.12/site-packages/sklearn/utils/_encode.py:42\u001b[0m, in \u001b[0;36m_unique\u001b[0;34m(values, return_inverse, return_counts)\u001b[0m\n\u001b[1;32m     11\u001b[0m \u001b[38;5;250m\u001b[39m\u001b[38;5;124;03m\"\"\"Helper function to find unique values with support for python objects.\u001b[39;00m\n\u001b[1;32m     12\u001b[0m \n\u001b[1;32m     13\u001b[0m \u001b[38;5;124;03mUses pure python method for object dtype, and numpy method for\u001b[39;00m\n\u001b[0;32m   (...)\u001b[0m\n\u001b[1;32m     39\u001b[0m \u001b[38;5;124;03m    array. Only provided if `return_counts` is True.\u001b[39;00m\n\u001b[1;32m     40\u001b[0m \u001b[38;5;124;03m\"\"\"\u001b[39;00m\n\u001b[1;32m     41\u001b[0m \u001b[38;5;28;01mif\u001b[39;00m values\u001b[38;5;241m.\u001b[39mdtype \u001b[38;5;241m==\u001b[39m \u001b[38;5;28mobject\u001b[39m:\n\u001b[0;32m---> 42\u001b[0m     \u001b[38;5;28;01mreturn\u001b[39;00m \u001b[43m_unique_python\u001b[49m\u001b[43m(\u001b[49m\n\u001b[1;32m     43\u001b[0m \u001b[43m        \u001b[49m\u001b[43mvalues\u001b[49m\u001b[43m,\u001b[49m\u001b[43m \u001b[49m\u001b[43mreturn_inverse\u001b[49m\u001b[38;5;241;43m=\u001b[39;49m\u001b[43mreturn_inverse\u001b[49m\u001b[43m,\u001b[49m\u001b[43m \u001b[49m\u001b[43mreturn_counts\u001b[49m\u001b[38;5;241;43m=\u001b[39;49m\u001b[43mreturn_counts\u001b[49m\n\u001b[1;32m     44\u001b[0m \u001b[43m    \u001b[49m\u001b[43m)\u001b[49m\n\u001b[1;32m     45\u001b[0m \u001b[38;5;66;03m# numerical\u001b[39;00m\n\u001b[1;32m     46\u001b[0m \u001b[38;5;28;01mreturn\u001b[39;00m _unique_np(\n\u001b[1;32m     47\u001b[0m     values, return_inverse\u001b[38;5;241m=\u001b[39mreturn_inverse, return_counts\u001b[38;5;241m=\u001b[39mreturn_counts\n\u001b[1;32m     48\u001b[0m )\n",
      "File \u001b[0;32m/run/media/thunderrr/Code/WorkSpace/Project Beta Samruddhi/Machine Learning/.linux_env/lib/python3.12/site-packages/sklearn/utils/_encode.py:179\u001b[0m, in \u001b[0;36m_unique_python\u001b[0;34m(values, return_inverse, return_counts)\u001b[0m\n\u001b[1;32m    177\u001b[0m \u001b[38;5;28;01mexcept\u001b[39;00m \u001b[38;5;167;01mTypeError\u001b[39;00m:\n\u001b[1;32m    178\u001b[0m     types \u001b[38;5;241m=\u001b[39m \u001b[38;5;28msorted\u001b[39m(t\u001b[38;5;241m.\u001b[39m\u001b[38;5;18m__qualname__\u001b[39m \u001b[38;5;28;01mfor\u001b[39;00m t \u001b[38;5;129;01min\u001b[39;00m \u001b[38;5;28mset\u001b[39m(\u001b[38;5;28mtype\u001b[39m(v) \u001b[38;5;28;01mfor\u001b[39;00m v \u001b[38;5;129;01min\u001b[39;00m values))\n\u001b[0;32m--> 179\u001b[0m     \u001b[38;5;28;01mraise\u001b[39;00m \u001b[38;5;167;01mTypeError\u001b[39;00m(\n\u001b[1;32m    180\u001b[0m         \u001b[38;5;124m\"\u001b[39m\u001b[38;5;124mEncoders require their input argument must be uniformly \u001b[39m\u001b[38;5;124m\"\u001b[39m\n\u001b[1;32m    181\u001b[0m         \u001b[38;5;124mf\u001b[39m\u001b[38;5;124m\"\u001b[39m\u001b[38;5;124mstrings or numbers. Got \u001b[39m\u001b[38;5;132;01m{\u001b[39;00mtypes\u001b[38;5;132;01m}\u001b[39;00m\u001b[38;5;124m\"\u001b[39m\n\u001b[1;32m    182\u001b[0m     )\n\u001b[1;32m    183\u001b[0m ret \u001b[38;5;241m=\u001b[39m (uniques,)\n\u001b[1;32m    185\u001b[0m \u001b[38;5;28;01mif\u001b[39;00m return_inverse:\n",
      "\u001b[0;31mTypeError\u001b[0m: Encoders require their input argument must be uniformly strings or numbers. Got ['int', 'str']"
     ]
    }
   ],
   "source": [
    "prepare_data(filter_df)"
   ]
  },
  {
   "cell_type": "code",
   "execution_count": 54,
   "metadata": {},
   "outputs": [],
   "source": [
    "def perform_pca(scaled_features):\n",
    "    # Initialize PCA without limiting components\n",
    "    pca = PCA()\n",
    "    pca_result = pca.fit_transform(scaled_features)\n",
    "    \n",
    "    # Calculate explained variance ratio\n",
    "    explained_variance_ratio = pca.explained_variance_ratio_\n",
    "    cumulative_variance_ratio = np.cumsum(explained_variance_ratio)\n",
    "    \n",
    "    # Plot explained variance ratio\n",
    "    plt.figure(figsize=(10, 6))\n",
    "    plt.plot(range(1, len(explained_variance_ratio) + 1), cumulative_variance_ratio, 'bo-')\n",
    "    plt.xlabel('Number of Components')\n",
    "    plt.ylabel('Cumulative Explained Variance Ratio')\n",
    "    plt.title('PCA Explained Variance Ratio')\n",
    "    plt.grid(True)\n",
    "    plt.show()\n",
    "    \n",
    "    # Return PCA results and the optimal number of components (explaining 80% variance)\n",
    "    n_components = np.argmax(cumulative_variance_ratio >= 0.8) + 1\n",
    "    return pca_result, n_components, pca"
   ]
  },
  {
   "cell_type": "code",
   "execution_count": 55,
   "metadata": {},
   "outputs": [],
   "source": [
    "def perform_clustering(pca_result, max_clusters=10):\n",
    "    # Calculate silhouette scores for different numbers of clusters\n",
    "    silhouette_scores = []\n",
    "    for n_clusters in range(2, max_clusters + 1):\n",
    "        kmeans = KMeans(n_clusters=n_clusters, random_state=42)\n",
    "        cluster_labels = kmeans.fit_predict(pca_result)\n",
    "        silhouette_avg = silhouette_score(pca_result, cluster_labels)\n",
    "        silhouette_scores.append(silhouette_avg)\n",
    "    \n",
    "    # Plot elbow curve\n",
    "    plt.figure(figsize=(10, 6))\n",
    "    plt.plot(range(2, max_clusters + 1), silhouette_scores, 'bo-')\n",
    "    plt.xlabel('Number of Clusters')\n",
    "    plt.ylabel('Silhouette Score')\n",
    "    plt.title('Elbow Method using Silhouette Score')\n",
    "    plt.grid(True)\n",
    "    plt.show()\n",
    "    \n",
    "    # Get optimal number of clusters\n",
    "    optimal_clusters = silhouette_scores.index(max(silhouette_scores)) + 2\n",
    "    \n",
    "    # Perform final clustering\n",
    "    final_kmeans = KMeans(n_clusters=optimal_clusters, random_state=42)\n",
    "    cluster_labels = final_kmeans.fit_predict(pca_result)\n",
    "    \n",
    "    return cluster_labels, optimal_clusters"
   ]
  },
  {
   "cell_type": "code",
   "execution_count": 56,
   "metadata": {},
   "outputs": [],
   "source": [
    "def visualize_clusters(pca_result, cluster_labels, pca):\n",
    "    # Create a scatter plot of the first two principal components\n",
    "    plt.figure(figsize=(12, 8))\n",
    "    scatter = plt.scatter(pca_result[:, 0], pca_result[:, 1], c=cluster_labels, cmap='viridis')\n",
    "    plt.xlabel(f'First Principal Component (Explained Variance: {pca.explained_variance_ratio_[0]:.2%})')\n",
    "    plt.ylabel(f'Second Principal Component (Explained Variance: {pca.explained_variance_ratio_[1]:.2%})')\n",
    "    plt.title('Cluster Visualization using First Two Principal Components')\n",
    "    plt.colorbar(scatter, label='Cluster')\n",
    "    plt.show()\n"
   ]
  },
  {
   "cell_type": "code",
   "execution_count": 58,
   "metadata": {},
   "outputs": [],
   "source": [
    "def analyze_clusters(df, cluster_labels, features_for_analysis):\n",
    "    # Add cluster labels to the original dataframe\n",
    "    df_with_clusters = filter_df.copy()\n",
    "    df_with_clusters['Cluster'] = cluster_labels\n",
    "    \n",
    "    # Calculate cluster characteristics\n",
    "    cluster_stats = df_with_clusters.groupby('Cluster')[features_for_analysis].agg(['mean', 'std'])\n",
    "    \n",
    "    # Create a summary of cluster characteristics\n",
    "    return cluster_stats\n"
   ]
  },
  {
   "cell_type": "code",
   "execution_count": 61,
   "metadata": {},
   "outputs": [],
   "source": [
    "def main_analysis(df):\n",
    "    # Prepare data\n",
    "    scaled_features, features_for_analysis = prepare_data(filter_df)\n",
    "    \n",
    "    # Perform PCA\n",
    "    pca_result, n_components, pca = perform_pca(scaled_features)\n",
    "    print(f\"Optimal number of PCA components: {n_components}\")\n",
    "    \n",
    "    # Use optimal number of components for clustering\n",
    "    pca_result_optimal = pca_result[:, :n_components]\n",
    "    \n",
    "    # Perform clustering\n",
    "    cluster_labels, optimal_clusters = perform_clustering(pca_result_optimal)\n",
    "    print(f\"Optimal number of clusters: {optimal_clusters}\")\n",
    "    \n",
    "    # Visualize clusters\n",
    "    visualize_clusters(pca_result, cluster_labels, pca)\n",
    "    \n",
    "    # Analyze clusters\n",
    "    cluster_stats = analyze_clusters(df, cluster_labels, features_for_analysis)\n",
    "    \n",
    "    return cluster_labels, cluster_stats, pca, pca_result\n"
   ]
  },
  {
   "cell_type": "code",
   "execution_count": 62,
   "metadata": {},
   "outputs": [
    {
     "ename": "DTypePromotionError",
     "evalue": "The DType <class 'numpy.dtypes.DateTime64DType'> could not be promoted by <class 'numpy.dtypes.Float64DType'>. This means that no common DType exists for the given inputs. For example they cannot be stored in a single array unless the dtype is `object`. The full list of DTypes is: (<class 'numpy.dtypes.DateTime64DType'>, <class 'numpy.dtypes.Float64DType'>, <class 'numpy.dtypes.Float64DType'>, <class 'numpy.dtypes.Int64DType'>, <class 'numpy.dtypes.Int64DType'>, <class 'numpy.dtypes.Float64DType'>, <class 'numpy.dtypes.DateTime64DType'>, <class 'numpy.dtypes.Int64DType'>)",
     "output_type": "error",
     "traceback": [
      "\u001b[0;31m---------------------------------------------------------------------------\u001b[0m",
      "\u001b[0;31mDTypePromotionError\u001b[0m                       Traceback (most recent call last)",
      "Cell \u001b[0;32mIn[62], line 1\u001b[0m\n\u001b[0;32m----> 1\u001b[0m \u001b[43mmain_analysis\u001b[49m\u001b[43m(\u001b[49m\u001b[43mfilter_df\u001b[49m\u001b[43m)\u001b[49m\n",
      "Cell \u001b[0;32mIn[61], line 3\u001b[0m, in \u001b[0;36mmain_analysis\u001b[0;34m(df)\u001b[0m\n\u001b[1;32m      1\u001b[0m \u001b[38;5;28;01mdef\u001b[39;00m \u001b[38;5;21mmain_analysis\u001b[39m(df):\n\u001b[1;32m      2\u001b[0m     \u001b[38;5;66;03m# Prepare data\u001b[39;00m\n\u001b[0;32m----> 3\u001b[0m     scaled_features, features_for_analysis \u001b[38;5;241m=\u001b[39m \u001b[43mprepare_data\u001b[49m\u001b[43m(\u001b[49m\u001b[43mfilter_df\u001b[49m\u001b[43m)\u001b[49m\n\u001b[1;32m      5\u001b[0m     \u001b[38;5;66;03m# Perform PCA\u001b[39;00m\n\u001b[1;32m      6\u001b[0m     pca_result, n_components, pca \u001b[38;5;241m=\u001b[39m perform_pca(scaled_features)\n",
      "Cell \u001b[0;32mIn[53], line 18\u001b[0m, in \u001b[0;36mprepare_data\u001b[0;34m(df)\u001b[0m\n\u001b[1;32m     16\u001b[0m \u001b[38;5;66;03m# Scale the features\u001b[39;00m\n\u001b[1;32m     17\u001b[0m scaler \u001b[38;5;241m=\u001b[39m StandardScaler()\n\u001b[0;32m---> 18\u001b[0m scaled_features \u001b[38;5;241m=\u001b[39m \u001b[43mscaler\u001b[49m\u001b[38;5;241;43m.\u001b[39;49m\u001b[43mfit_transform\u001b[49m\u001b[43m(\u001b[49m\u001b[43mdf_processed\u001b[49m\u001b[43m[\u001b[49m\u001b[43mfeatures_for_analysis\u001b[49m\u001b[43m]\u001b[49m\u001b[43m)\u001b[49m\n\u001b[1;32m     20\u001b[0m \u001b[38;5;28;01mreturn\u001b[39;00m scaled_features, features_for_analysis\n",
      "File \u001b[0;32m/run/media/thunderrr/Code/WorkSpace/Project Beta Samruddhi/Machine Learning/.linux_env/lib/python3.12/site-packages/sklearn/utils/_set_output.py:316\u001b[0m, in \u001b[0;36m_wrap_method_output.<locals>.wrapped\u001b[0;34m(self, X, *args, **kwargs)\u001b[0m\n\u001b[1;32m    314\u001b[0m \u001b[38;5;129m@wraps\u001b[39m(f)\n\u001b[1;32m    315\u001b[0m \u001b[38;5;28;01mdef\u001b[39;00m \u001b[38;5;21mwrapped\u001b[39m(\u001b[38;5;28mself\u001b[39m, X, \u001b[38;5;241m*\u001b[39margs, \u001b[38;5;241m*\u001b[39m\u001b[38;5;241m*\u001b[39mkwargs):\n\u001b[0;32m--> 316\u001b[0m     data_to_wrap \u001b[38;5;241m=\u001b[39m \u001b[43mf\u001b[49m\u001b[43m(\u001b[49m\u001b[38;5;28;43mself\u001b[39;49m\u001b[43m,\u001b[49m\u001b[43m \u001b[49m\u001b[43mX\u001b[49m\u001b[43m,\u001b[49m\u001b[43m \u001b[49m\u001b[38;5;241;43m*\u001b[39;49m\u001b[43margs\u001b[49m\u001b[43m,\u001b[49m\u001b[43m \u001b[49m\u001b[38;5;241;43m*\u001b[39;49m\u001b[38;5;241;43m*\u001b[39;49m\u001b[43mkwargs\u001b[49m\u001b[43m)\u001b[49m\n\u001b[1;32m    317\u001b[0m     \u001b[38;5;28;01mif\u001b[39;00m \u001b[38;5;28misinstance\u001b[39m(data_to_wrap, \u001b[38;5;28mtuple\u001b[39m):\n\u001b[1;32m    318\u001b[0m         \u001b[38;5;66;03m# only wrap the first output for cross decomposition\u001b[39;00m\n\u001b[1;32m    319\u001b[0m         return_tuple \u001b[38;5;241m=\u001b[39m (\n\u001b[1;32m    320\u001b[0m             _wrap_data_with_container(method, data_to_wrap[\u001b[38;5;241m0\u001b[39m], X, \u001b[38;5;28mself\u001b[39m),\n\u001b[1;32m    321\u001b[0m             \u001b[38;5;241m*\u001b[39mdata_to_wrap[\u001b[38;5;241m1\u001b[39m:],\n\u001b[1;32m    322\u001b[0m         )\n",
      "File \u001b[0;32m/run/media/thunderrr/Code/WorkSpace/Project Beta Samruddhi/Machine Learning/.linux_env/lib/python3.12/site-packages/sklearn/base.py:1098\u001b[0m, in \u001b[0;36mTransformerMixin.fit_transform\u001b[0;34m(self, X, y, **fit_params)\u001b[0m\n\u001b[1;32m   1083\u001b[0m         warnings\u001b[38;5;241m.\u001b[39mwarn(\n\u001b[1;32m   1084\u001b[0m             (\n\u001b[1;32m   1085\u001b[0m                 \u001b[38;5;124mf\u001b[39m\u001b[38;5;124m\"\u001b[39m\u001b[38;5;124mThis object (\u001b[39m\u001b[38;5;132;01m{\u001b[39;00m\u001b[38;5;28mself\u001b[39m\u001b[38;5;241m.\u001b[39m\u001b[38;5;18m__class__\u001b[39m\u001b[38;5;241m.\u001b[39m\u001b[38;5;18m__name__\u001b[39m\u001b[38;5;132;01m}\u001b[39;00m\u001b[38;5;124m) has a `transform`\u001b[39m\u001b[38;5;124m\"\u001b[39m\n\u001b[0;32m   (...)\u001b[0m\n\u001b[1;32m   1093\u001b[0m             \u001b[38;5;167;01mUserWarning\u001b[39;00m,\n\u001b[1;32m   1094\u001b[0m         )\n\u001b[1;32m   1096\u001b[0m \u001b[38;5;28;01mif\u001b[39;00m y \u001b[38;5;129;01mis\u001b[39;00m \u001b[38;5;28;01mNone\u001b[39;00m:\n\u001b[1;32m   1097\u001b[0m     \u001b[38;5;66;03m# fit method of arity 1 (unsupervised transformation)\u001b[39;00m\n\u001b[0;32m-> 1098\u001b[0m     \u001b[38;5;28;01mreturn\u001b[39;00m \u001b[38;5;28;43mself\u001b[39;49m\u001b[38;5;241;43m.\u001b[39;49m\u001b[43mfit\u001b[49m\u001b[43m(\u001b[49m\u001b[43mX\u001b[49m\u001b[43m,\u001b[49m\u001b[43m \u001b[49m\u001b[38;5;241;43m*\u001b[39;49m\u001b[38;5;241;43m*\u001b[39;49m\u001b[43mfit_params\u001b[49m\u001b[43m)\u001b[49m\u001b[38;5;241m.\u001b[39mtransform(X)\n\u001b[1;32m   1099\u001b[0m \u001b[38;5;28;01melse\u001b[39;00m:\n\u001b[1;32m   1100\u001b[0m     \u001b[38;5;66;03m# fit method of arity 2 (supervised transformation)\u001b[39;00m\n\u001b[1;32m   1101\u001b[0m     \u001b[38;5;28;01mreturn\u001b[39;00m \u001b[38;5;28mself\u001b[39m\u001b[38;5;241m.\u001b[39mfit(X, y, \u001b[38;5;241m*\u001b[39m\u001b[38;5;241m*\u001b[39mfit_params)\u001b[38;5;241m.\u001b[39mtransform(X)\n",
      "File \u001b[0;32m/run/media/thunderrr/Code/WorkSpace/Project Beta Samruddhi/Machine Learning/.linux_env/lib/python3.12/site-packages/sklearn/preprocessing/_data.py:878\u001b[0m, in \u001b[0;36mStandardScaler.fit\u001b[0;34m(self, X, y, sample_weight)\u001b[0m\n\u001b[1;32m    876\u001b[0m \u001b[38;5;66;03m# Reset internal state before fitting\u001b[39;00m\n\u001b[1;32m    877\u001b[0m \u001b[38;5;28mself\u001b[39m\u001b[38;5;241m.\u001b[39m_reset()\n\u001b[0;32m--> 878\u001b[0m \u001b[38;5;28;01mreturn\u001b[39;00m \u001b[38;5;28;43mself\u001b[39;49m\u001b[38;5;241;43m.\u001b[39;49m\u001b[43mpartial_fit\u001b[49m\u001b[43m(\u001b[49m\u001b[43mX\u001b[49m\u001b[43m,\u001b[49m\u001b[43m \u001b[49m\u001b[43my\u001b[49m\u001b[43m,\u001b[49m\u001b[43m \u001b[49m\u001b[43msample_weight\u001b[49m\u001b[43m)\u001b[49m\n",
      "File \u001b[0;32m/run/media/thunderrr/Code/WorkSpace/Project Beta Samruddhi/Machine Learning/.linux_env/lib/python3.12/site-packages/sklearn/base.py:1473\u001b[0m, in \u001b[0;36m_fit_context.<locals>.decorator.<locals>.wrapper\u001b[0;34m(estimator, *args, **kwargs)\u001b[0m\n\u001b[1;32m   1466\u001b[0m     estimator\u001b[38;5;241m.\u001b[39m_validate_params()\n\u001b[1;32m   1468\u001b[0m \u001b[38;5;28;01mwith\u001b[39;00m config_context(\n\u001b[1;32m   1469\u001b[0m     skip_parameter_validation\u001b[38;5;241m=\u001b[39m(\n\u001b[1;32m   1470\u001b[0m         prefer_skip_nested_validation \u001b[38;5;129;01mor\u001b[39;00m global_skip_validation\n\u001b[1;32m   1471\u001b[0m     )\n\u001b[1;32m   1472\u001b[0m ):\n\u001b[0;32m-> 1473\u001b[0m     \u001b[38;5;28;01mreturn\u001b[39;00m \u001b[43mfit_method\u001b[49m\u001b[43m(\u001b[49m\u001b[43mestimator\u001b[49m\u001b[43m,\u001b[49m\u001b[43m \u001b[49m\u001b[38;5;241;43m*\u001b[39;49m\u001b[43margs\u001b[49m\u001b[43m,\u001b[49m\u001b[43m \u001b[49m\u001b[38;5;241;43m*\u001b[39;49m\u001b[38;5;241;43m*\u001b[39;49m\u001b[43mkwargs\u001b[49m\u001b[43m)\u001b[49m\n",
      "File \u001b[0;32m/run/media/thunderrr/Code/WorkSpace/Project Beta Samruddhi/Machine Learning/.linux_env/lib/python3.12/site-packages/sklearn/preprocessing/_data.py:914\u001b[0m, in \u001b[0;36mStandardScaler.partial_fit\u001b[0;34m(self, X, y, sample_weight)\u001b[0m\n\u001b[1;32m    882\u001b[0m \u001b[38;5;250m\u001b[39m\u001b[38;5;124;03m\"\"\"Online computation of mean and std on X for later scaling.\u001b[39;00m\n\u001b[1;32m    883\u001b[0m \n\u001b[1;32m    884\u001b[0m \u001b[38;5;124;03mAll of X is processed as a single batch. This is intended for cases\u001b[39;00m\n\u001b[0;32m   (...)\u001b[0m\n\u001b[1;32m    911\u001b[0m \u001b[38;5;124;03m    Fitted scaler.\u001b[39;00m\n\u001b[1;32m    912\u001b[0m \u001b[38;5;124;03m\"\"\"\u001b[39;00m\n\u001b[1;32m    913\u001b[0m first_call \u001b[38;5;241m=\u001b[39m \u001b[38;5;129;01mnot\u001b[39;00m \u001b[38;5;28mhasattr\u001b[39m(\u001b[38;5;28mself\u001b[39m, \u001b[38;5;124m\"\u001b[39m\u001b[38;5;124mn_samples_seen_\u001b[39m\u001b[38;5;124m\"\u001b[39m)\n\u001b[0;32m--> 914\u001b[0m X \u001b[38;5;241m=\u001b[39m \u001b[38;5;28;43mself\u001b[39;49m\u001b[38;5;241;43m.\u001b[39;49m\u001b[43m_validate_data\u001b[49m\u001b[43m(\u001b[49m\n\u001b[1;32m    915\u001b[0m \u001b[43m    \u001b[49m\u001b[43mX\u001b[49m\u001b[43m,\u001b[49m\n\u001b[1;32m    916\u001b[0m \u001b[43m    \u001b[49m\u001b[43maccept_sparse\u001b[49m\u001b[38;5;241;43m=\u001b[39;49m\u001b[43m(\u001b[49m\u001b[38;5;124;43m\"\u001b[39;49m\u001b[38;5;124;43mcsr\u001b[39;49m\u001b[38;5;124;43m\"\u001b[39;49m\u001b[43m,\u001b[49m\u001b[43m \u001b[49m\u001b[38;5;124;43m\"\u001b[39;49m\u001b[38;5;124;43mcsc\u001b[39;49m\u001b[38;5;124;43m\"\u001b[39;49m\u001b[43m)\u001b[49m\u001b[43m,\u001b[49m\n\u001b[1;32m    917\u001b[0m \u001b[43m    \u001b[49m\u001b[43mdtype\u001b[49m\u001b[38;5;241;43m=\u001b[39;49m\u001b[43mFLOAT_DTYPES\u001b[49m\u001b[43m,\u001b[49m\n\u001b[1;32m    918\u001b[0m \u001b[43m    \u001b[49m\u001b[43mforce_all_finite\u001b[49m\u001b[38;5;241;43m=\u001b[39;49m\u001b[38;5;124;43m\"\u001b[39;49m\u001b[38;5;124;43mallow-nan\u001b[39;49m\u001b[38;5;124;43m\"\u001b[39;49m\u001b[43m,\u001b[49m\n\u001b[1;32m    919\u001b[0m \u001b[43m    \u001b[49m\u001b[43mreset\u001b[49m\u001b[38;5;241;43m=\u001b[39;49m\u001b[43mfirst_call\u001b[49m\u001b[43m,\u001b[49m\n\u001b[1;32m    920\u001b[0m \u001b[43m\u001b[49m\u001b[43m)\u001b[49m\n\u001b[1;32m    921\u001b[0m n_features \u001b[38;5;241m=\u001b[39m X\u001b[38;5;241m.\u001b[39mshape[\u001b[38;5;241m1\u001b[39m]\n\u001b[1;32m    923\u001b[0m \u001b[38;5;28;01mif\u001b[39;00m sample_weight \u001b[38;5;129;01mis\u001b[39;00m \u001b[38;5;129;01mnot\u001b[39;00m \u001b[38;5;28;01mNone\u001b[39;00m:\n",
      "File \u001b[0;32m/run/media/thunderrr/Code/WorkSpace/Project Beta Samruddhi/Machine Learning/.linux_env/lib/python3.12/site-packages/sklearn/base.py:633\u001b[0m, in \u001b[0;36mBaseEstimator._validate_data\u001b[0;34m(self, X, y, reset, validate_separately, cast_to_ndarray, **check_params)\u001b[0m\n\u001b[1;32m    631\u001b[0m         out \u001b[38;5;241m=\u001b[39m X, y\n\u001b[1;32m    632\u001b[0m \u001b[38;5;28;01melif\u001b[39;00m \u001b[38;5;129;01mnot\u001b[39;00m no_val_X \u001b[38;5;129;01mand\u001b[39;00m no_val_y:\n\u001b[0;32m--> 633\u001b[0m     out \u001b[38;5;241m=\u001b[39m \u001b[43mcheck_array\u001b[49m\u001b[43m(\u001b[49m\u001b[43mX\u001b[49m\u001b[43m,\u001b[49m\u001b[43m \u001b[49m\u001b[43minput_name\u001b[49m\u001b[38;5;241;43m=\u001b[39;49m\u001b[38;5;124;43m\"\u001b[39;49m\u001b[38;5;124;43mX\u001b[39;49m\u001b[38;5;124;43m\"\u001b[39;49m\u001b[43m,\u001b[49m\u001b[43m \u001b[49m\u001b[38;5;241;43m*\u001b[39;49m\u001b[38;5;241;43m*\u001b[39;49m\u001b[43mcheck_params\u001b[49m\u001b[43m)\u001b[49m\n\u001b[1;32m    634\u001b[0m \u001b[38;5;28;01melif\u001b[39;00m no_val_X \u001b[38;5;129;01mand\u001b[39;00m \u001b[38;5;129;01mnot\u001b[39;00m no_val_y:\n\u001b[1;32m    635\u001b[0m     out \u001b[38;5;241m=\u001b[39m _check_y(y, \u001b[38;5;241m*\u001b[39m\u001b[38;5;241m*\u001b[39mcheck_params)\n",
      "File \u001b[0;32m/run/media/thunderrr/Code/WorkSpace/Project Beta Samruddhi/Machine Learning/.linux_env/lib/python3.12/site-packages/sklearn/utils/validation.py:887\u001b[0m, in \u001b[0;36mcheck_array\u001b[0;34m(array, accept_sparse, accept_large_sparse, dtype, order, copy, force_writeable, force_all_finite, ensure_2d, allow_nd, ensure_min_samples, ensure_min_features, estimator, input_name)\u001b[0m\n\u001b[1;32m    883\u001b[0m pandas_requires_conversion \u001b[38;5;241m=\u001b[39m \u001b[38;5;28many\u001b[39m(\n\u001b[1;32m    884\u001b[0m     _pandas_dtype_needs_early_conversion(i) \u001b[38;5;28;01mfor\u001b[39;00m i \u001b[38;5;129;01min\u001b[39;00m dtypes_orig\n\u001b[1;32m    885\u001b[0m )\n\u001b[1;32m    886\u001b[0m \u001b[38;5;28;01mif\u001b[39;00m \u001b[38;5;28mall\u001b[39m(\u001b[38;5;28misinstance\u001b[39m(dtype_iter, np\u001b[38;5;241m.\u001b[39mdtype) \u001b[38;5;28;01mfor\u001b[39;00m dtype_iter \u001b[38;5;129;01min\u001b[39;00m dtypes_orig):\n\u001b[0;32m--> 887\u001b[0m     dtype_orig \u001b[38;5;241m=\u001b[39m \u001b[43mnp\u001b[49m\u001b[38;5;241;43m.\u001b[39;49m\u001b[43mresult_type\u001b[49m\u001b[43m(\u001b[49m\u001b[38;5;241;43m*\u001b[39;49m\u001b[43mdtypes_orig\u001b[49m\u001b[43m)\u001b[49m\n\u001b[1;32m    888\u001b[0m \u001b[38;5;28;01melif\u001b[39;00m pandas_requires_conversion \u001b[38;5;129;01mand\u001b[39;00m \u001b[38;5;28many\u001b[39m(d \u001b[38;5;241m==\u001b[39m \u001b[38;5;28mobject\u001b[39m \u001b[38;5;28;01mfor\u001b[39;00m d \u001b[38;5;129;01min\u001b[39;00m dtypes_orig):\n\u001b[1;32m    889\u001b[0m     \u001b[38;5;66;03m# Force object if any of the dtypes is an object\u001b[39;00m\n\u001b[1;32m    890\u001b[0m     dtype_orig \u001b[38;5;241m=\u001b[39m \u001b[38;5;28mobject\u001b[39m\n",
      "\u001b[0;31mDTypePromotionError\u001b[0m: The DType <class 'numpy.dtypes.DateTime64DType'> could not be promoted by <class 'numpy.dtypes.Float64DType'>. This means that no common DType exists for the given inputs. For example they cannot be stored in a single array unless the dtype is `object`. The full list of DTypes is: (<class 'numpy.dtypes.DateTime64DType'>, <class 'numpy.dtypes.Float64DType'>, <class 'numpy.dtypes.Float64DType'>, <class 'numpy.dtypes.Int64DType'>, <class 'numpy.dtypes.Int64DType'>, <class 'numpy.dtypes.Float64DType'>, <class 'numpy.dtypes.DateTime64DType'>, <class 'numpy.dtypes.Int64DType'>)"
     ]
    }
   ],
   "source": [
    "main_analysis(filter_df)"
   ]
  },
  {
   "cell_type": "code",
   "execution_count": 63,
   "metadata": {},
   "outputs": [],
   "source": [
    "# skipping the estimated revenue range\n",
    "\n",
    "filter_df = filter_df.drop('Estimated Revenue Range',axis =1)"
   ]
  },
  {
   "cell_type": "code",
   "execution_count": 64,
   "metadata": {},
   "outputs": [
    {
     "name": "stdout",
     "output_type": "stream",
     "text": [
      "<class 'pandas.core.frame.DataFrame'>\n",
      "RangeIndex: 1257 entries, 0 to 1256\n",
      "Data columns (total 25 columns):\n",
      " #   Column                                Non-Null Count  Dtype         \n",
      "---  ------                                --------------  -----         \n",
      " 0   Organization Name                     1257 non-null   object        \n",
      " 1   Founded Date                          1257 non-null   datetime64[ns]\n",
      " 2   Operating Status                      1257 non-null   object        \n",
      " 3   Industries                            1226 non-null   object        \n",
      " 4   Headquarters Location                 1257 non-null   object        \n",
      " 5   Number of Employees                   1257 non-null   int64         \n",
      " 6   Last Funding Amount (in USD)          1083 non-null   float64       \n",
      " 7   Column1                               1257 non-null   float64       \n",
      " 8   Last Funding Date                     1257 non-null   datetime64[ns]\n",
      " 9   Founders                              968 non-null    object        \n",
      " 10  Number of Funding Rounds              1257 non-null   float64       \n",
      " 11  Funding Status                        1068 non-null   object        \n",
      " 12  Last Funding Type                     1257 non-null   object        \n",
      " 13  Last Equity Funding Amount (in USD)   1055 non-null   float64       \n",
      " 14  Last Equity Funding Type              1201 non-null   object        \n",
      " 15  Total Equity Funding Amount (in USD)  1194 non-null   float64       \n",
      " 16  Total Funding Amount (in USD)         1257 non-null   float64       \n",
      " 17  Top 5 Investors                       889 non-null    object        \n",
      " 18  Diversity Spotlight                   1 non-null      object        \n",
      " 19  Number of Articles                    757 non-null    float64       \n",
      " 20  Investment/Not                        1257 non-null   object        \n",
      " 21  No of Founders                        1257 non-null   int64         \n",
      " 22  No Investors                          1257 non-null   int64         \n",
      " 23  Funded_Age                            1257 non-null   int64         \n",
      " 24  Current_Age                           1257 non-null   int64         \n",
      "dtypes: datetime64[ns](2), float64(7), int64(5), object(11)\n",
      "memory usage: 245.6+ KB\n"
     ]
    }
   ],
   "source": [
    "filter_df.info()"
   ]
  },
  {
   "cell_type": "code",
   "execution_count": 65,
   "metadata": {},
   "outputs": [],
   "source": [
    "processed_df = filter_df.copy()"
   ]
  },
  {
   "cell_type": "code",
   "execution_count": 66,
   "metadata": {},
   "outputs": [
    {
     "data": {
      "text/plain": [
       "Index(['Organization Name', 'Founded Date', 'Operating Status', 'Industries', 'Headquarters Location', 'Number of Employees', 'Last Funding Amount (in USD)', 'Column1', 'Last Funding Date', 'Founders', 'Number of Funding Rounds', 'Funding Status', 'Last Funding Type', 'Last Equity Funding Amount (in USD)', 'Last Equity Funding Type', 'Total Equity Funding Amount (in USD)', 'Total Funding Amount (in USD)', 'Top 5 Investors', 'Diversity Spotlight', 'Number of Articles', 'Investment/Not', 'No of Founders', 'No Investors', 'Funded_Age', 'Current_Age'], dtype='object')"
      ]
     },
     "execution_count": 66,
     "metadata": {},
     "output_type": "execute_result"
    }
   ],
   "source": [
    "processed_df.columns"
   ]
  },
  {
   "cell_type": "code",
   "execution_count": 70,
   "metadata": {},
   "outputs": [
    {
     "ename": "KeyError",
     "evalue": "\"['Founded Date', 'Last Funding Date', 'Diversity Spotlight', 'Top 5 Investors', 'Headquarters Location', 'Founders', 'Column1', 'Industries', 'Operating Status', 'Last Equity Funding Amount (in USD)', 'Total Equity Funding Amount (in USD)', 'Investment/Not'] not found in axis\"",
     "output_type": "error",
     "traceback": [
      "\u001b[1;31m---------------------------------------------------------------------------\u001b[0m",
      "\u001b[1;31mKeyError\u001b[0m                                  Traceback (most recent call last)",
      "Cell \u001b[1;32mIn[70], line 1\u001b[0m\n\u001b[1;32m----> 1\u001b[0m processed_df \u001b[38;5;241m=\u001b[39m \u001b[43mprocessed_df\u001b[49m\u001b[38;5;241;43m.\u001b[39;49m\u001b[43mdrop\u001b[49m\u001b[43m(\u001b[49m\u001b[43m[\u001b[49m\u001b[38;5;124;43m'\u001b[39;49m\u001b[38;5;124;43mFounded Date\u001b[39;49m\u001b[38;5;124;43m'\u001b[39;49m\u001b[43m,\u001b[49m\u001b[38;5;124;43m'\u001b[39;49m\u001b[38;5;124;43mLast Funding Date\u001b[39;49m\u001b[38;5;124;43m'\u001b[39;49m\u001b[43m,\u001b[49m\u001b[38;5;124;43m'\u001b[39;49m\u001b[38;5;124;43mDiversity Spotlight\u001b[39;49m\u001b[38;5;124;43m'\u001b[39;49m\u001b[43m,\u001b[49m\u001b[38;5;124;43m'\u001b[39;49m\u001b[38;5;124;43mTop 5 Investors\u001b[39;49m\u001b[38;5;124;43m'\u001b[39;49m\u001b[43m,\u001b[49m\u001b[38;5;124;43m'\u001b[39;49m\u001b[38;5;124;43mHeadquarters Location\u001b[39;49m\u001b[38;5;124;43m'\u001b[39;49m\u001b[43m,\u001b[49m\n\u001b[0;32m      2\u001b[0m \u001b[38;5;124;43m'\u001b[39;49m\u001b[38;5;124;43mFounders\u001b[39;49m\u001b[38;5;124;43m'\u001b[39;49m\u001b[43m,\u001b[49m\u001b[38;5;124;43m'\u001b[39;49m\u001b[38;5;124;43mColumn1\u001b[39;49m\u001b[38;5;124;43m'\u001b[39;49m\u001b[43m,\u001b[49m\u001b[38;5;124;43m'\u001b[39;49m\u001b[38;5;124;43mIndustries\u001b[39;49m\u001b[38;5;124;43m'\u001b[39;49m\u001b[43m,\u001b[49m\u001b[38;5;124;43m'\u001b[39;49m\u001b[38;5;124;43mOperating Status\u001b[39;49m\u001b[38;5;124;43m'\u001b[39;49m\u001b[43m,\u001b[49m\u001b[38;5;124;43m'\u001b[39;49m\u001b[38;5;124;43mLast Equity Funding Amount (in USD)\u001b[39;49m\u001b[38;5;124;43m'\u001b[39;49m\u001b[43m,\u001b[49m\u001b[38;5;124;43m'\u001b[39;49m\u001b[38;5;124;43mTotal Equity Funding Amount (in USD)\u001b[39;49m\u001b[38;5;124;43m'\u001b[39;49m\u001b[43m,\u001b[49m\n\u001b[0;32m      3\u001b[0m \u001b[38;5;124;43m'\u001b[39;49m\u001b[38;5;124;43mInvestment/Not\u001b[39;49m\u001b[38;5;124;43m'\u001b[39;49m\u001b[43m]\u001b[49m\u001b[43m,\u001b[49m\u001b[43maxis\u001b[49m\u001b[38;5;241;43m=\u001b[39;49m\u001b[38;5;241;43m1\u001b[39;49m\u001b[43m)\u001b[49m\n",
      "File \u001b[1;32md:\\WorkSpace\\Project Beta Samruddhi\\Machine Learning\\.ml_env\\lib\\site-packages\\pandas\\core\\frame.py:5581\u001b[0m, in \u001b[0;36mDataFrame.drop\u001b[1;34m(self, labels, axis, index, columns, level, inplace, errors)\u001b[0m\n\u001b[0;32m   5433\u001b[0m \u001b[38;5;28;01mdef\u001b[39;00m \u001b[38;5;21mdrop\u001b[39m(\n\u001b[0;32m   5434\u001b[0m     \u001b[38;5;28mself\u001b[39m,\n\u001b[0;32m   5435\u001b[0m     labels: IndexLabel \u001b[38;5;241m|\u001b[39m \u001b[38;5;28;01mNone\u001b[39;00m \u001b[38;5;241m=\u001b[39m \u001b[38;5;28;01mNone\u001b[39;00m,\n\u001b[1;32m   (...)\u001b[0m\n\u001b[0;32m   5442\u001b[0m     errors: IgnoreRaise \u001b[38;5;241m=\u001b[39m \u001b[38;5;124m\"\u001b[39m\u001b[38;5;124mraise\u001b[39m\u001b[38;5;124m\"\u001b[39m,\n\u001b[0;32m   5443\u001b[0m ) \u001b[38;5;241m-\u001b[39m\u001b[38;5;241m>\u001b[39m DataFrame \u001b[38;5;241m|\u001b[39m \u001b[38;5;28;01mNone\u001b[39;00m:\n\u001b[0;32m   5444\u001b[0m \u001b[38;5;250m    \u001b[39m\u001b[38;5;124;03m\"\"\"\u001b[39;00m\n\u001b[0;32m   5445\u001b[0m \u001b[38;5;124;03m    Drop specified labels from rows or columns.\u001b[39;00m\n\u001b[0;32m   5446\u001b[0m \n\u001b[1;32m   (...)\u001b[0m\n\u001b[0;32m   5579\u001b[0m \u001b[38;5;124;03m            weight  1.0     0.8\u001b[39;00m\n\u001b[0;32m   5580\u001b[0m \u001b[38;5;124;03m    \"\"\"\u001b[39;00m\n\u001b[1;32m-> 5581\u001b[0m     \u001b[38;5;28;01mreturn\u001b[39;00m \u001b[38;5;28;43msuper\u001b[39;49m\u001b[43m(\u001b[49m\u001b[43m)\u001b[49m\u001b[38;5;241;43m.\u001b[39;49m\u001b[43mdrop\u001b[49m\u001b[43m(\u001b[49m\n\u001b[0;32m   5582\u001b[0m \u001b[43m        \u001b[49m\u001b[43mlabels\u001b[49m\u001b[38;5;241;43m=\u001b[39;49m\u001b[43mlabels\u001b[49m\u001b[43m,\u001b[49m\n\u001b[0;32m   5583\u001b[0m \u001b[43m        \u001b[49m\u001b[43maxis\u001b[49m\u001b[38;5;241;43m=\u001b[39;49m\u001b[43maxis\u001b[49m\u001b[43m,\u001b[49m\n\u001b[0;32m   5584\u001b[0m \u001b[43m        \u001b[49m\u001b[43mindex\u001b[49m\u001b[38;5;241;43m=\u001b[39;49m\u001b[43mindex\u001b[49m\u001b[43m,\u001b[49m\n\u001b[0;32m   5585\u001b[0m \u001b[43m        \u001b[49m\u001b[43mcolumns\u001b[49m\u001b[38;5;241;43m=\u001b[39;49m\u001b[43mcolumns\u001b[49m\u001b[43m,\u001b[49m\n\u001b[0;32m   5586\u001b[0m \u001b[43m        \u001b[49m\u001b[43mlevel\u001b[49m\u001b[38;5;241;43m=\u001b[39;49m\u001b[43mlevel\u001b[49m\u001b[43m,\u001b[49m\n\u001b[0;32m   5587\u001b[0m \u001b[43m        \u001b[49m\u001b[43minplace\u001b[49m\u001b[38;5;241;43m=\u001b[39;49m\u001b[43minplace\u001b[49m\u001b[43m,\u001b[49m\n\u001b[0;32m   5588\u001b[0m \u001b[43m        \u001b[49m\u001b[43merrors\u001b[49m\u001b[38;5;241;43m=\u001b[39;49m\u001b[43merrors\u001b[49m\u001b[43m,\u001b[49m\n\u001b[0;32m   5589\u001b[0m \u001b[43m    \u001b[49m\u001b[43m)\u001b[49m\n",
      "File \u001b[1;32md:\\WorkSpace\\Project Beta Samruddhi\\Machine Learning\\.ml_env\\lib\\site-packages\\pandas\\core\\generic.py:4788\u001b[0m, in \u001b[0;36mNDFrame.drop\u001b[1;34m(self, labels, axis, index, columns, level, inplace, errors)\u001b[0m\n\u001b[0;32m   4786\u001b[0m \u001b[38;5;28;01mfor\u001b[39;00m axis, labels \u001b[38;5;129;01min\u001b[39;00m axes\u001b[38;5;241m.\u001b[39mitems():\n\u001b[0;32m   4787\u001b[0m     \u001b[38;5;28;01mif\u001b[39;00m labels \u001b[38;5;129;01mis\u001b[39;00m \u001b[38;5;129;01mnot\u001b[39;00m \u001b[38;5;28;01mNone\u001b[39;00m:\n\u001b[1;32m-> 4788\u001b[0m         obj \u001b[38;5;241m=\u001b[39m \u001b[43mobj\u001b[49m\u001b[38;5;241;43m.\u001b[39;49m\u001b[43m_drop_axis\u001b[49m\u001b[43m(\u001b[49m\u001b[43mlabels\u001b[49m\u001b[43m,\u001b[49m\u001b[43m \u001b[49m\u001b[43maxis\u001b[49m\u001b[43m,\u001b[49m\u001b[43m \u001b[49m\u001b[43mlevel\u001b[49m\u001b[38;5;241;43m=\u001b[39;49m\u001b[43mlevel\u001b[49m\u001b[43m,\u001b[49m\u001b[43m \u001b[49m\u001b[43merrors\u001b[49m\u001b[38;5;241;43m=\u001b[39;49m\u001b[43merrors\u001b[49m\u001b[43m)\u001b[49m\n\u001b[0;32m   4790\u001b[0m \u001b[38;5;28;01mif\u001b[39;00m inplace:\n\u001b[0;32m   4791\u001b[0m     \u001b[38;5;28mself\u001b[39m\u001b[38;5;241m.\u001b[39m_update_inplace(obj)\n",
      "File \u001b[1;32md:\\WorkSpace\\Project Beta Samruddhi\\Machine Learning\\.ml_env\\lib\\site-packages\\pandas\\core\\generic.py:4830\u001b[0m, in \u001b[0;36mNDFrame._drop_axis\u001b[1;34m(self, labels, axis, level, errors, only_slice)\u001b[0m\n\u001b[0;32m   4828\u001b[0m         new_axis \u001b[38;5;241m=\u001b[39m axis\u001b[38;5;241m.\u001b[39mdrop(labels, level\u001b[38;5;241m=\u001b[39mlevel, errors\u001b[38;5;241m=\u001b[39merrors)\n\u001b[0;32m   4829\u001b[0m     \u001b[38;5;28;01melse\u001b[39;00m:\n\u001b[1;32m-> 4830\u001b[0m         new_axis \u001b[38;5;241m=\u001b[39m \u001b[43maxis\u001b[49m\u001b[38;5;241;43m.\u001b[39;49m\u001b[43mdrop\u001b[49m\u001b[43m(\u001b[49m\u001b[43mlabels\u001b[49m\u001b[43m,\u001b[49m\u001b[43m \u001b[49m\u001b[43merrors\u001b[49m\u001b[38;5;241;43m=\u001b[39;49m\u001b[43merrors\u001b[49m\u001b[43m)\u001b[49m\n\u001b[0;32m   4831\u001b[0m     indexer \u001b[38;5;241m=\u001b[39m axis\u001b[38;5;241m.\u001b[39mget_indexer(new_axis)\n\u001b[0;32m   4833\u001b[0m \u001b[38;5;66;03m# Case for non-unique axis\u001b[39;00m\n\u001b[0;32m   4834\u001b[0m \u001b[38;5;28;01melse\u001b[39;00m:\n",
      "File \u001b[1;32md:\\WorkSpace\\Project Beta Samruddhi\\Machine Learning\\.ml_env\\lib\\site-packages\\pandas\\core\\indexes\\base.py:7070\u001b[0m, in \u001b[0;36mIndex.drop\u001b[1;34m(self, labels, errors)\u001b[0m\n\u001b[0;32m   7068\u001b[0m \u001b[38;5;28;01mif\u001b[39;00m mask\u001b[38;5;241m.\u001b[39many():\n\u001b[0;32m   7069\u001b[0m     \u001b[38;5;28;01mif\u001b[39;00m errors \u001b[38;5;241m!=\u001b[39m \u001b[38;5;124m\"\u001b[39m\u001b[38;5;124mignore\u001b[39m\u001b[38;5;124m\"\u001b[39m:\n\u001b[1;32m-> 7070\u001b[0m         \u001b[38;5;28;01mraise\u001b[39;00m \u001b[38;5;167;01mKeyError\u001b[39;00m(\u001b[38;5;124mf\u001b[39m\u001b[38;5;124m\"\u001b[39m\u001b[38;5;132;01m{\u001b[39;00mlabels[mask]\u001b[38;5;241m.\u001b[39mtolist()\u001b[38;5;132;01m}\u001b[39;00m\u001b[38;5;124m not found in axis\u001b[39m\u001b[38;5;124m\"\u001b[39m)\n\u001b[0;32m   7071\u001b[0m     indexer \u001b[38;5;241m=\u001b[39m indexer[\u001b[38;5;241m~\u001b[39mmask]\n\u001b[0;32m   7072\u001b[0m \u001b[38;5;28;01mreturn\u001b[39;00m \u001b[38;5;28mself\u001b[39m\u001b[38;5;241m.\u001b[39mdelete(indexer)\n",
      "\u001b[1;31mKeyError\u001b[0m: \"['Founded Date', 'Last Funding Date', 'Diversity Spotlight', 'Top 5 Investors', 'Headquarters Location', 'Founders', 'Column1', 'Industries', 'Operating Status', 'Last Equity Funding Amount (in USD)', 'Total Equity Funding Amount (in USD)', 'Investment/Not'] not found in axis\""
     ]
    }
   ],
   "source": [
    "processed_df = processed_df.drop(['Founded Date','Last Funding Date','Diversity Spotlight','Top 5 Investors','Headquarters Location',\n",
    "'Founders','Column1','Industries','Operating Status','Last Equity Funding Amount (in USD)','Total Equity Funding Amount (in USD)',\n",
    "'Investment/Not'],axis=1)"
   ]
  },
  {
   "cell_type": "code",
   "execution_count": 71,
   "metadata": {},
   "outputs": [
    {
     "name": "stdout",
     "output_type": "stream",
     "text": [
      "<class 'pandas.core.frame.DataFrame'>\n",
      "RangeIndex: 1257 entries, 0 to 1256\n",
      "Data columns (total 13 columns):\n",
      " #   Column                         Non-Null Count  Dtype  \n",
      "---  ------                         --------------  -----  \n",
      " 0   Organization Name              1257 non-null   object \n",
      " 1   Number of Employees            1257 non-null   int64  \n",
      " 2   Last Funding Amount (in USD)   1083 non-null   float64\n",
      " 3   Number of Funding Rounds       1257 non-null   float64\n",
      " 4   Funding Status                 1068 non-null   object \n",
      " 5   Last Funding Type              1257 non-null   object \n",
      " 6   Last Equity Funding Type       1201 non-null   object \n",
      " 7   Total Funding Amount (in USD)  1257 non-null   float64\n",
      " 8   Number of Articles             757 non-null    float64\n",
      " 9   No of Founders                 1257 non-null   int64  \n",
      " 10  No Investors                   1257 non-null   int64  \n",
      " 11  Funded_Age                     1257 non-null   int64  \n",
      " 12  Current_Age                    1257 non-null   int64  \n",
      "dtypes: float64(4), int64(5), object(4)\n",
      "memory usage: 127.8+ KB\n"
     ]
    }
   ],
   "source": [
    "processed_df.info()"
   ]
  },
  {
   "cell_type": "code",
   "execution_count": 114,
   "metadata": {},
   "outputs": [
    {
     "name": "stdout",
     "output_type": "stream",
     "text": [
      "<class 'pandas.core.frame.DataFrame'>\n",
      "RangeIndex: 1257 entries, 0 to 1256\n",
      "Data columns (total 12 columns):\n",
      " #   Column                         Non-Null Count  Dtype  \n",
      "---  ------                         --------------  -----  \n",
      " 0   Organization Name              1257 non-null   object \n",
      " 1   Number of Employees            1257 non-null   int64  \n",
      " 2   Last Funding Amount (in USD)   1257 non-null   float64\n",
      " 3   Number of Funding Rounds       1257 non-null   float64\n",
      " 4   Funding Status                 1257 non-null   object \n",
      " 5   Last Funding Type              1257 non-null   object \n",
      " 6   Total Funding Amount (in USD)  1257 non-null   float64\n",
      " 7   Number of Articles             1257 non-null   float64\n",
      " 8   No of Founders                 1257 non-null   int64  \n",
      " 9   No Investors                   1257 non-null   int64  \n",
      " 10  Funded_Age                     1257 non-null   int64  \n",
      " 11  Current_Age                    1257 non-null   int64  \n",
      "dtypes: float64(4), int64(5), object(3)\n",
      "memory usage: 118.0+ KB\n"
     ]
    }
   ],
   "source": [
    "processed_df = processed_df.drop('Last Equity Funding Type',axis=1)\n",
    "processed_df.info()"
   ]
  },
  {
   "cell_type": "code",
   "execution_count": 72,
   "metadata": {},
   "outputs": [
    {
     "data": {
      "text/plain": [
       "array(['Seed', nan, 'Early Stage Venture', 'M&A', 'Private Equity',\n",
       "       'Late Stage Venture', 'IPO'], dtype=object)"
      ]
     },
     "execution_count": 72,
     "metadata": {},
     "output_type": "execute_result"
    }
   ],
   "source": [
    "processed_df['Funding Status'].unique()"
   ]
  },
  {
   "cell_type": "code",
   "execution_count": 73,
   "metadata": {},
   "outputs": [
    {
     "ename": "NameError",
     "evalue": "name 'LabelEncoder' is not defined",
     "output_type": "error",
     "traceback": [
      "\u001b[1;31m---------------------------------------------------------------------------\u001b[0m",
      "\u001b[1;31mNameError\u001b[0m                                 Traceback (most recent call last)",
      "Cell \u001b[1;32mIn[73], line 1\u001b[0m\n\u001b[1;32m----> 1\u001b[0m le_funding_status \u001b[38;5;241m=\u001b[39m \u001b[43mLabelEncoder\u001b[49m()\n\u001b[0;32m      3\u001b[0m processed_df[\u001b[38;5;124m'\u001b[39m\u001b[38;5;124mFunding Status\u001b[39m\u001b[38;5;124m'\u001b[39m] \u001b[38;5;241m=\u001b[39m processed_df[\u001b[38;5;124m'\u001b[39m\u001b[38;5;124mFunding Status\u001b[39m\u001b[38;5;124m'\u001b[39m]\u001b[38;5;241m.\u001b[39mastype(\u001b[38;5;28mstr\u001b[39m)\n\u001b[0;32m      5\u001b[0m processed_df[\u001b[38;5;124m'\u001b[39m\u001b[38;5;124mFunding Status Encoded\u001b[39m\u001b[38;5;124m'\u001b[39m] \u001b[38;5;241m=\u001b[39m le_funding_status\u001b[38;5;241m.\u001b[39mfit_transform(processed_df[\u001b[38;5;124m'\u001b[39m\u001b[38;5;124mFunding Status\u001b[39m\u001b[38;5;124m'\u001b[39m])\n",
      "\u001b[1;31mNameError\u001b[0m: name 'LabelEncoder' is not defined"
     ]
    }
   ],
   "source": [
    "le_funding_status = LabelEncoder()\n",
    "\n",
    "processed_df['Funding Status'] = processed_df['Funding Status'].astype(str)\n",
    "\n",
    "processed_df['Funding Status Encoded'] = le_funding_status.fit_transform(processed_df['Funding Status'])"
   ]
  },
  {
   "cell_type": "code",
   "execution_count": 89,
   "metadata": {},
   "outputs": [],
   "source": [
    "processed_df = processed_df.drop('Last Equity Funding Type',axis=1)"
   ]
  },
  {
   "cell_type": "code",
   "execution_count": 86,
   "metadata": {},
   "outputs": [],
   "source": [
    "processed_df = processed_df.drop('Funding Status',axis=1)"
   ]
  },
  {
   "cell_type": "code",
   "execution_count": 88,
   "metadata": {},
   "outputs": [
    {
     "name": "stdout",
     "output_type": "stream",
     "text": [
      "<class 'pandas.core.frame.DataFrame'>\n",
      "RangeIndex: 1257 entries, 0 to 1256\n",
      "Data columns (total 10 columns):\n",
      " #   Column                         Non-Null Count  Dtype  \n",
      "---  ------                         --------------  -----  \n",
      " 0   Number of Employees            1257 non-null   int64  \n",
      " 1   Last Funding Amount (in USD)   1083 non-null   float64\n",
      " 2   Number of Funding Rounds       1257 non-null   float64\n",
      " 3   Last Equity Funding Type       1201 non-null   object \n",
      " 4   Total Funding Amount (in USD)  1257 non-null   float64\n",
      " 5   Number of Articles             757 non-null    float64\n",
      " 6   No of Founders                 1257 non-null   int64  \n",
      " 7   No Investors                   1257 non-null   int64  \n",
      " 8   Funded_Age                     1257 non-null   int64  \n",
      " 9   Current_Age                    1257 non-null   int64  \n",
      "dtypes: float64(4), int64(5), object(1)\n",
      "memory usage: 98.3+ KB\n"
     ]
    }
   ],
   "source": [
    "processed_df.info()"
   ]
  },
  {
   "cell_type": "code",
   "execution_count": 74,
   "metadata": {},
   "outputs": [],
   "source": [
    "processed_df = processed_df.drop(\"Last Funding Type\",axis=1)"
   ]
  },
  {
   "cell_type": "code",
   "execution_count": 75,
   "metadata": {},
   "outputs": [],
   "source": [
    "processed_df = processed_df.drop('Organization Name',axis=1)"
   ]
  },
  {
   "cell_type": "code",
   "execution_count": 79,
   "metadata": {},
   "outputs": [
    {
     "name": "stdout",
     "output_type": "stream",
     "text": [
      "Collecting scikit-learn\n",
      "  Using cached scikit_learn-1.5.2-cp310-cp310-win_amd64.whl (11.0 MB)\n",
      "Requirement already satisfied: numpy>=1.19.5 in d:\\workspace\\project beta samruddhi\\machine learning\\.ml_env\\lib\\site-packages (from scikit-learn) (2.1.2)\n",
      "Collecting threadpoolctl>=3.1.0\n",
      "  Using cached threadpoolctl-3.5.0-py3-none-any.whl (18 kB)\n",
      "Collecting scipy>=1.6.0\n",
      "  Using cached scipy-1.14.1-cp310-cp310-win_amd64.whl (44.8 MB)\n",
      "Collecting joblib>=1.2.0\n",
      "  Using cached joblib-1.4.2-py3-none-any.whl (301 kB)\n",
      "Installing collected packages: threadpoolctl, scipy, joblib, scikit-learn\n",
      "Successfully installed joblib-1.4.2 scikit-learn-1.5.2 scipy-1.14.1 threadpoolctl-3.5.0\n"
     ]
    },
    {
     "name": "stderr",
     "output_type": "stream",
     "text": [
      "WARNING: You are using pip version 21.2.3; however, version 24.2 is available.\n",
      "You should consider upgrading via the 'D:\\WorkSpace\\Project Beta Samruddhi\\Machine Learning\\.ml_env\\Scripts\\python.exe -m pip install --upgrade pip' command.\n"
     ]
    }
   ],
   "source": [
    "! pip install scikit-learn\n"
   ]
  },
  {
   "cell_type": "code",
   "execution_count": 1,
   "metadata": {},
   "outputs": [],
   "source": [
    "\n",
    "import matplotlib.pyplot as plt\n",
    "# from sklearn.datasets import make_blobs\n",
    "from sklearn.cluster import KMeans\n",
    "from sklearn.preprocessing import StandardScaler\n",
    "from sklearn.metrics import silhouette_score"
   ]
  },
  {
   "cell_type": "code",
   "execution_count": 90,
   "metadata": {},
   "outputs": [
    {
     "ename": "TypeError",
     "evalue": "'DataFrame' object is not callable",
     "output_type": "error",
     "traceback": [
      "\u001b[1;31m---------------------------------------------------------------------------\u001b[0m",
      "\u001b[1;31mTypeError\u001b[0m                                 Traceback (most recent call last)",
      "Cell \u001b[1;32mIn[90], line 10\u001b[0m\n\u001b[0;32m      1\u001b[0m \u001b[38;5;66;03m# import numpy as np\u001b[39;00m\n\u001b[0;32m      2\u001b[0m \u001b[38;5;66;03m# import pandas as pd\u001b[39;00m\n\u001b[0;32m      3\u001b[0m \u001b[38;5;66;03m# import matplotlib.pyplot as plt\u001b[39;00m\n\u001b[1;32m   (...)\u001b[0m\n\u001b[0;32m      8\u001b[0m \n\u001b[0;32m      9\u001b[0m \u001b[38;5;66;03m# Sample data generation (replace this with your actual dataset)\u001b[39;00m\n\u001b[1;32m---> 10\u001b[0m X \u001b[38;5;241m=\u001b[39m \u001b[43mprocessed_df\u001b[49m\u001b[43m(\u001b[49m\u001b[43mn_samples\u001b[49m\u001b[38;5;241;43m=\u001b[39;49m\u001b[38;5;241;43m300\u001b[39;49m\u001b[43m,\u001b[49m\u001b[43m \u001b[49m\u001b[43mcenters\u001b[49m\u001b[38;5;241;43m=\u001b[39;49m\u001b[38;5;241;43m4\u001b[39;49m\u001b[43m,\u001b[49m\u001b[43m \u001b[49m\u001b[43mcluster_std\u001b[49m\u001b[38;5;241;43m=\u001b[39;49m\u001b[38;5;241;43m0.60\u001b[39;49m\u001b[43m,\u001b[49m\u001b[43m \u001b[49m\u001b[43mrandom_state\u001b[49m\u001b[38;5;241;43m=\u001b[39;49m\u001b[38;5;241;43m0\u001b[39;49m\u001b[43m)\u001b[49m\n\u001b[0;32m     12\u001b[0m \u001b[38;5;66;03m# Optional: Scale your data if necessary\u001b[39;00m\n\u001b[0;32m     13\u001b[0m \u001b[38;5;66;03m# scaler = StandardScaler()\u001b[39;00m\n\u001b[0;32m     14\u001b[0m \u001b[38;5;66;03m# X_scaled = scaler.fit_transform(X)\u001b[39;00m\n\u001b[0;32m     15\u001b[0m \n\u001b[0;32m     16\u001b[0m \u001b[38;5;66;03m# Range of clusters to try\u001b[39;00m\n\u001b[0;32m     17\u001b[0m range_n_clusters \u001b[38;5;241m=\u001b[39m \u001b[38;5;28mlist\u001b[39m(\u001b[38;5;28mrange\u001b[39m(\u001b[38;5;241m2\u001b[39m, \u001b[38;5;241m11\u001b[39m))\n",
      "\u001b[1;31mTypeError\u001b[0m: 'DataFrame' object is not callable"
     ]
    }
   ],
   "source": [
    "# import numpy as np\n",
    "# import pandas as pd\n",
    "# import matplotlib.pyplot as plt\n",
    "# # from sklearn.datasets import make_blobs\n",
    "# from sklearn.cluster import KMeans\n",
    "# from sklearn.preprocessing import StandardScaler\n",
    "# from sklearn.metrics import silhouette_score\n",
    "\n",
    "# Sample data generation (replace this with your actual dataset)\n",
    "X = processed_df(n_samples=300, centers=4, cluster_std=0.60, random_state=0,n_featues=5)\n",
    "\n",
    "# Optional: Scale your data if necessary\n",
    "# scaler = StandardScaler()\n",
    "# X_scaled = scaler.fit_transform(X)\n",
    "\n",
    "# Range of clusters to try\n",
    "range_n_clusters = list(range(2, 11))\n",
    "silhouette_scores = []\n",
    "\n",
    "# Loop over different cluster numbers\n",
    "for n_clusters in range_n_clusters:\n",
    "    # Initialize the model\n",
    "    kmeans = KMeans(n_clusters=n_clusters, random_state=42)\n",
    "    kmeans.fit(X)\n",
    "    import matplotlib.pyplot as plt\n",
    "# # from sklearn.datasets import make_blobs\n",
    "# from sklearn.cluster import KMeans\n",
    "# from sklearn.preprocessing import StandardScaler\n",
    "# from sklearn.metrics import silhouette_score\n",
    "    # Predict the clusters\n",
    "    cluster_labels = kmeans.predict(X)\n",
    "    \n",
    "    # Calculate the silhouette score\n",
    "    silhouette_avg = silhouette_score(X, cluster_labels)\n",
    "    silhouette_scores.append(silhouette_avg)\n",
    "    print(f\"For n_clusters = {n_clusters}, the silhouette score is: {silhouette_avg}\")\n",
    "\n",
    "# Plotting the silhouette scores\n",
    "plt.figure(figsize=(8, 5))\n",
    "plt.plot(range_n_clusters, silhouette_scores, marker='o')\n",
    "plt.title('Silhouette Score for Various Number of Clusters')\n",
    "plt.xlabel('Number of Clusters')\n",
    "plt.ylabel('Silhouette Score')\n",
    "plt.xticks(range_n_clusters)\n",
    "plt.grid()\n",
    "plt.show()\n"
   ]
  },
  {
   "cell_type": "code",
   "execution_count": 96,
   "metadata": {},
   "outputs": [
    {
     "data": {
      "image/png": "[encoded data removed]",
      "text/plain": [
       "<Figure size 800x500 with 1 Axes>"
      ]
     },
     "metadata": {},
     "output_type": "display_data"
    }
   ],
   "source": [
    "# import numpy as np\n",
    "# import matplotlib.pyplot as plt\n",
    "# from sklearn.cluster import KMeans\n",
    "# from sklearn.preprocessing import StandardScaler\n",
    "# from sklearn.datasets import make_blobs\n",
    "\n",
    "# Generate sample data (you can replace this with your own dataset)\n",
    "# X, _ = make_blobs(n_samples=500, centers=5, cluster_std=0.60, random_state=0)\n",
    "\n",
    "# Optional: scale the data\n",
    "# scaler = StandardScaler()\n",
    "# X_scaled = scaler.fit_transform(X)\n",
    "\n",
    "\n",
    "\n",
    "wcss = []\n",
    "\n",
    "\n",
    "K_range = range(1, 11)\n",
    "\n",
    "\n",
    "for k in K_range:\n",
    "    kmeans = KMeans(n_clusters=k, init='k-means++', max_iter=300, n_init=10, random_state=0)\n",
    "    kmeans.fit(processed_df)\n",
    "    wcss.append(kmeans.inertia_)\n",
    "\n",
    "\n",
    "plt.figure(figsize=(8, 5))\n",
    "plt.plot(K_range, wcss, marker='o', linestyle='--')\n",
    "plt.title('Elbow Method for Optimal K')\n",
    "plt.xlabel('Number of Clusters (K)')\n",
    "plt.ylabel('Within-Cluster Sum of Squares (WCSS)')\n",
    "plt.show()\n"
   ]
  },
  {
   "cell_type": "code",
   "execution_count": 93,
   "metadata": {},
   "outputs": [
    {
     "name": "stdout",
     "output_type": "stream",
     "text": [
      "<class 'pandas.core.frame.DataFrame'>\n",
      "RangeIndex: 1257 entries, 0 to 1256\n",
      "Data columns (total 9 columns):\n",
      " #   Column                         Non-Null Count  Dtype  \n",
      "---  ------                         --------------  -----  \n",
      " 0   Number of Employees            1257 non-null   int64  \n",
      " 1   Last Funding Amount (in USD)   1083 non-null   float64\n",
      " 2   Number of Funding Rounds       1257 non-null   float64\n",
      " 3   Total Funding Amount (in USD)  1257 non-null   float64\n",
      " 4   Number of Articles             757 non-null    float64\n",
      " 5   No of Founders                 1257 non-null   int64  \n",
      " 6   No Investors                   1257 non-null   int64  \n",
      " 7   Funded_Age                     1257 non-null   int64  \n",
      " 8   Current_Age                    1257 non-null   int64  \n",
      "dtypes: float64(4), int64(5)\n",
      "memory usage: 88.5 KB\n"
     ]
    }
   ],
   "source": [
    "processed_df.info()"
   ]
  },
  {
   "cell_type": "code",
   "execution_count": 92,
   "metadata": {},
   "outputs": [
    {
     "data": {
      "text/plain": [
       "Index(['Number of Employees', 'Last Funding Amount (in USD)', 'Number of Funding Rounds', 'Total Funding Amount (in USD)', 'Number of Articles', 'No of Founders', 'No Investors', 'Funded_Age', 'Current_Age'], dtype='object')"
      ]
     },
     "execution_count": 92,
     "metadata": {},
     "output_type": "execute_result"
    }
   ],
   "source": [
    "processed_df.columns['Las']"
   ]
  },
  {
   "cell_type": "code",
   "execution_count": 94,
   "metadata": {},
   "outputs": [],
   "source": [
    "processed_df['Last Funding Amount (in USD)'] = processed_df['Last Funding Amount (in USD)'].fillna(0)\n",
    "processed_df['Number of Articles'] = processed_df['Number of Articles'].fillna(0)"
   ]
  },
  {
   "cell_type": "code",
   "execution_count": 125,
   "metadata": {},
   "outputs": [
    {
     "data": {
      "image/png": "[encoded data removed]",
      "text/plain": [
       "<Figure size 800x600 with 1 Axes>"
      ]
     },
     "metadata": {},
     "output_type": "display_data"
    }
   ],
   "source": [
    "scaler = StandardScaler()\n",
    "df_scaled = scaler.fit_transform(processed_df)\n",
    "kmeans = KMeans(n_clusters=3, init='k-means++', max_iter=300, n_init=10, random_state=0)\n",
    "\n",
    "processed_df['Cluster'] = kmeans.fit_predict(df_scaled)\n",
    "\n",
    "# clusters\n",
    "plt.figure(figsize=(8, 6))\n",
    "plt.scatter(df_scaled[:, 0], df_scaled[:, 1], c=processed_df['Cluster'], s=50, cmap='viridis')\n",
    "\n",
    "# centroids\n",
    "centroids = kmeans.cluster_centers_\n",
    "plt.scatter(centroids[:, 3], centroids[:, 5], s=300, c='red', marker='X', label='Centroids')\n",
    "\n",
    "plt.title('Clusters and Centroids (K=3)')\n",
    "plt.xlabel('Feature 1')\n",
    "plt.ylabel('Feature 2')\n",
    "plt.legend()\n",
    "plt.grid(True)\n",
    "plt.show()\n"
   ]
  },
  {
   "cell_type": "code",
   "execution_count": 122,
   "metadata": {},
   "outputs": [
    {
     "data": {
      "text/plain": [
       "array([[-0.17980158, -0.13926852, -0.69821205, ..., -1.34467989,\n",
       "        -1.62570956, -0.61347479],\n",
       "       [-0.17980158, -0.13167901, -0.69821205, ..., -0.93669954,\n",
       "        -1.62570956, -0.61347479],\n",
       "       [-0.17980158, -0.13822996, -0.69821205, ..., -0.93669954,\n",
       "        -1.62570956, -0.61347479],\n",
       "       ...,\n",
       "       [ 0.50736096,  0.02011115, -0.69821205, ...,  4.77502549,\n",
       "         2.7534787 ,  1.48200839],\n",
       "       [-0.14214884, -0.11889668, -0.01468203, ...,  1.51118262,\n",
       "         2.7534787 ,  1.48200839],\n",
       "       [-0.14214884, -0.13951926, -0.01468203, ...,  2.32714334,\n",
       "         2.7534787 ,  1.48200839]])"
      ]
     },
     "execution_count": 122,
     "metadata": {},
     "output_type": "execute_result"
    }
   ],
   "source": [
    "df_scaled"
   ]
  },
  {
   "cell_type": "markdown",
   "metadata": {},
   "source": [
    "### PCA Method\n",
    "\n"
   ]
  },
  {
   "cell_type": "code",
   "execution_count": 123,
   "metadata": {},
   "outputs": [
    {
     "data": {
      "image/png": "[encoded data removed]",
      "text/plain": [
       "<Figure size 800x600 with 1 Axes>"
      ]
     },
     "metadata": {},
     "output_type": "display_data"
    }
   ],
   "source": [
    "plt.figure(figsize=(8, 6))\n",
    "plt.scatter(df_scaled[:, 3], df_scaled[:, 5], c=processed_df['Cluster'], s=50, cmap='viridis')\n",
    "\n",
    "# centroids\n",
    "centroids = kmeans.cluster_centers_\n",
    "plt.scatter(centroids[:, 3], centroids[:, 5], s=300, c='red', marker='X', label='Centroids')\n",
    "\n",
    "plt.title('Clusters and Centroids (K=4)')\n",
    "plt.xlabel('Feature 1')\n",
    "plt.ylabel('Feature 2')\n",
    "plt.legend()\n",
    "plt.grid(True)\n",
    "plt.show()"
   ]
  },
  {
   "cell_type": "code",
   "execution_count": 124,
   "metadata": {},
   "outputs": [
    {
     "data": {
      "image/png": "[encoded data removed]",
      "text/plain": [
       "<Figure size 800x600 with 1 Axes>"
      ]
     },
     "metadata": {},
     "output_type": "display_data"
    }
   ],
   "source": [
    "plt.figure(figsize=(8, 6))\n",
    "plt.scatter(df_scaled[:, 3], df_scaled[:, 5], c=processed_df['Cluster'], s=50, cmap='viridis')\n",
    "\n",
    "# centroids\n",
    "centroids = kmeans.cluster_centers_\n",
    "plt.scatter(centroids[:, 3], centroids[:, 5], s=300, c='red', marker='X', label='Centroids')\n",
    "\n",
    "plt.title('Clusters and Centroids (K=3)')\n",
    "plt.xlabel('Feature 1')\n",
    "plt.ylabel('Feature 2')\n",
    "plt.legend()\n",
    "plt.grid(True)\n",
    "plt.show()"
   ]
  },
  {
   "cell_type": "code",
   "execution_count": 98,
   "metadata": {},
   "outputs": [],
   "source": [
    "plotX = pd.DataFrame(np.array(processed_df.sample(1000)))\n",
    "\n",
    "plotX.columns = processed_df.columns"
   ]
  },
  {
   "cell_type": "code",
   "execution_count": 99,
   "metadata": {},
   "outputs": [
    {
     "name": "stdout",
     "output_type": "stream",
     "text": [
      "Requirement already satisfied: plotly in d:\\workspace\\project beta samruddhi\\machine learning\\.ml_env\\lib\\site-packages (5.24.1)"
     ]
    },
    {
     "name": "stderr",
     "output_type": "stream",
     "text": [
      "WARNING: You are using pip version 21.2.3; however, version 24.2 is available.\n",
      "You should consider upgrading via the 'D:\\WorkSpace\\Project Beta Samruddhi\\Machine Learning\\.ml_env\\Scripts\\python.exe -m pip install --upgrade pip' command.\n"
     ]
    },
    {
     "name": "stdout",
     "output_type": "stream",
     "text": [
      "\n",
      "Requirement already satisfied: packaging in d:\\workspace\\project beta samruddhi\\machine learning\\.ml_env\\lib\\site-packages (from plotly) (24.1)\n",
      "Requirement already satisfied: tenacity>=6.2.0 in d:\\workspace\\project beta samruddhi\\machine learning\\.ml_env\\lib\\site-packages (from plotly) (9.0.0)\n"
     ]
    }
   ],
   "source": [
    "! pip install plotly"
   ]
  },
  {
   "cell_type": "code",
   "execution_count": 100,
   "metadata": {},
   "outputs": [],
   "source": [
    "#sklearn imports\n",
    "\n",
    "from sklearn.decomposition import PCA #Principal Component Analysis\n",
    "from sklearn.manifold import TSNE #T-Distributed Stochastic Neighbor Embedding\n",
    "from sklearn.cluster import KMeans #K-Means Clustering\n",
    "from sklearn.preprocessing import StandardScaler #used for 'Feature Scaling'\n",
    "\n",
    "#plotly imports\n",
    "\n",
    "import plotly as py\n",
    "import plotly.graph_objs as go\n",
    "from plotly.offline import download_plotlyjs, init_notebook_mode, plot, iplot"
   ]
  },
  {
   "cell_type": "code",
   "execution_count": 101,
   "metadata": {},
   "outputs": [],
   "source": [
    "\n",
    "\n",
    "#PCA with one principal component\n",
    "pca_1d = PCA(n_components=1)\n",
    "\n",
    "#PCA with two principal components\n",
    "pca_2d = PCA(n_components=2)\n",
    "\n",
    "#PCA with three principal components\n",
    "pca_3d = PCA(n_components=3)\n",
    "\n"
   ]
  },
  {
   "cell_type": "code",
   "execution_count": 102,
   "metadata": {},
   "outputs": [],
   "source": [
    "PCs_1d = pd.DataFrame(pca_1d.fit_transform(plotX.drop([\"Cluster\"], axis=1)))\n",
    "\n",
    "\n",
    "#for the 2-D visualization mentioned above\n",
    "PCs_2d = pd.DataFrame(pca_2d.fit_transform(plotX.drop([\"Cluster\"], axis=1)))\n",
    "\n",
    "\n",
    "# visualizing our clusters in 3-D\n",
    "PCs_3d = pd.DataFrame(pca_3d.fit_transform(plotX.drop([\"Cluster\"], axis=1)))"
   ]
  },
  {
   "cell_type": "code",
   "execution_count": 103,
   "metadata": {},
   "outputs": [],
   "source": [
    "PCs_1d.columns = [\"PC1_1d\"]\n",
    "\n",
    "#\"PC1_2d\" means: 'The first principal component of the components created for 2-D visualization, by PCA.'\n",
    "#And \"PC2_2d\" means: 'The second principal component of the components created for 2-D visualization, by PCA.'\n",
    "PCs_2d.columns = [\"PC1_2d\", \"PC2_2d\"]\n",
    "\n",
    "PCs_3d.columns = [\"PC1_3d\", \"PC2_3d\", \"PC3_3d\"]"
   ]
  },
  {
   "cell_type": "code",
   "execution_count": 104,
   "metadata": {},
   "outputs": [],
   "source": [
    "\n",
    "\n",
    "plotX = pd.concat([plotX,PCs_1d,PCs_2d,PCs_3d], axis=1, join='inner')\n",
    "\n"
   ]
  },
  {
   "cell_type": "code",
   "execution_count": 105,
   "metadata": {},
   "outputs": [],
   "source": [
    "plotX[\"dummy\"] = 0"
   ]
  },
  {
   "cell_type": "code",
   "execution_count": 106,
   "metadata": {},
   "outputs": [],
   "source": [
    "\n",
    "cluster0 = plotX[plotX[\"Cluster\"] == 0]\n",
    "cluster1 = plotX[plotX[\"Cluster\"] == 1]\n",
    "cluster2 = plotX[plotX[\"Cluster\"] == 2]"
   ]
  },
  {
   "cell_type": "code",
   "execution_count": 107,
   "metadata": {},
   "outputs": [
    {
     "data": {
      "text/html": [
       "        <script type=\"text/javascript\">\n",
       "        window.PlotlyConfig = {MathJaxConfig: 'local'};\n",
       "        if (window.MathJax && window.MathJax.Hub && window.MathJax.Hub.Config) {window.MathJax.Hub.Config({SVG: {font: \"STIX-Web\"}});}\n",
       "        if (typeof require !== 'undefined') {\n",
       "        require.undef(\"plotly\");\n",
       "        requirejs.config({\n",
       "            paths: {\n",
       "                'plotly': ['https://cdn.plot.ly/plotly-2.35.2.min']\n",
       "            }\n",
       "        });\n",
       "        require(['plotly'], function(Plotly) {\n",
       "            window._Plotly = Plotly;\n",
       "        });\n",
       "        }\n",
       "        </script>\n",
       "        "
      ]
     },
     "metadata": {},
     "output_type": "display_data"
    }
   ],
   "source": [
    "init_notebook_mode(connected=True)"
   ]
  },
  {
   "cell_type": "code",
   "execution_count": 128,
   "metadata": {},
   "outputs": [],
   "source": [
    "#trace1 is for 'Cluster 0'\n",
    "trace1 = go.Scatter(\n",
    "                    x = cluster0[\"PC1_2d\"],\n",
    "                    y = cluster0[\"PC2_2d\"],\n",
    "                    mode = \"markers\",\n",
    "                    name = \"Cluster 0\",\n",
    "                    marker = dict(color = 'rgba(255, 128, 255, 0.8)'),\n",
    "                    text = None)\n",
    "\n",
    "#trace2 is for 'Cluster 1'\n",
    "trace2 = go.Scatter(\n",
    "                    x = cluster1[\"PC1_2d\"],\n",
    "                    y = cluster1[\"PC2_2d\"],\n",
    "                    mode = \"markers\",\n",
    "                    name = \"Cluster 1\",\n",
    "                    marker = dict(color = 'rgba(255, 128, 2, 0.8)'),\n",
    "                    text = None)\n",
    "\n",
    "#trace3 is for 'Cluster 2'\n",
    "trace3 = go.Scatter(\n",
    "                    x = cluster2[\"PC1_2d\"],\n",
    "                    y = cluster2[\"PC2_2d\"],\n",
    "                    mode = \"markers\",\n",
    "                    name = \"Cluster 2\",\n",
    "                    marker = dict(color = 'rgba(0, 255, 200, 0.8)'),\n",
    "                    text = None)\n",
    "\n",
    "data = [trace1, trace2, trace3]\n",
    "\n"
   ]
  },
  {
   "cell_type": "code",
   "execution_count": 126,
   "metadata": {},
   "outputs": [
    {
     "name": "stdout",
     "output_type": "stream",
     "text": [
      "Requirement already satisfied: nbformat in d:\\workspace\\project beta samruddhi\\machine learning\\.ml_env\\lib\\site-packages (5.10.4)\n",
      "Requirement already satisfied: jupyter-core!=5.0.*,>=4.12 in d:\\workspace\\project beta samruddhi\\machine learning\\.ml_env\\lib\\site-packages (from nbformat) (5.7.2)\n",
      "Requirement already satisfied: jsonschema>=2.6 in d:\\workspace\\project beta samruddhi\\machine learning\\.ml_env\\lib\\site-packages (from nbformat) (4.23.0)\n",
      "Requirement already satisfied: fastjsonschema>=2.15 in d:\\workspace\\project beta samruddhi\\machine learning\\.ml_env\\lib\\site-packages (from nbformat) (2.20.0)\n",
      "Requirement already satisfied: traitlets>=5.1 in d:\\workspace\\project beta samruddhi\\machine learning\\.ml_env\\lib\\site-packages (from nbformat) (5.14.3)\n",
      "Requirement already satisfied: referencing>=0.28.4 in d:\\workspace\\project beta samruddhi\\machine learning\\.ml_env\\lib\\site-packages (from jsonschema>=2.6->nbformat) (0.35.1)\n",
      "Requirement already satisfied: rpds-py>=0.7.1 in d:\\workspace\\project beta samruddhi\\machine learning\\.ml_env\\lib\\site-packages (from jsonschema>=2.6->nbformat) (0.20.0)\n",
      "Requirement already satisfied: attrs>=22.2.0 in d:\\workspace\\project beta samruddhi\\machine learning\\.ml_env\\lib\\site-packages (from jsonschema>=2.6->nbformat) (24.2.0)\n",
      "Requirement already satisfied: jsonschema-specifications>=2023.03.6 in d:\\workspace\\project beta samruddhi\\machine learning\\.ml_env\\lib\\site-packages (from jsonschema>=2.6->nbformat) (2024.10.1)\n",
      "Requirement already satisfied: pywin32>=300 in d:\\workspace\\project beta samruddhi\\machine learning\\.ml_env\\lib\\site-packages (from jupyter-core!=5.0.*,>=4.12->nbformat) (308)\n",
      "Requirement already satisfied: platformdirs>=2.5 in d:\\workspace\\project beta samruddhi\\machine learning\\.ml_env\\lib\\site-packages (from jupyter-core!=5.0.*,>=4.12->nbformat) (4.3.6)\n"
     ]
    },
    {
     "name": "stderr",
     "output_type": "stream",
     "text": [
      "WARNING: You are using pip version 21.2.3; however, version 24.2 is available.\n",
      "You should consider upgrading via the 'D:\\WorkSpace\\Project Beta Samruddhi\\Machine Learning\\.ml_env\\Scripts\\python.exe -m pip install --upgrade pip' command.\n"
     ]
    }
   ],
   "source": [
    "! pip install -U nbformat"
   ]
  },
  {
   "cell_type": "code",
   "execution_count": 131,
   "metadata": {},
   "outputs": [
    {
     "ename": "ValueError",
     "evalue": "Mime type rendering requires nbformat>=4.2.0 but it is not installed",
     "output_type": "error",
     "traceback": [
      "\u001b[1;31m---------------------------------------------------------------------------\u001b[0m",
      "\u001b[1;31mValueError\u001b[0m                                Traceback (most recent call last)",
      "Cell \u001b[1;32mIn[131], line 10\u001b[0m\n\u001b[0;32m      3\u001b[0m layout \u001b[38;5;241m=\u001b[39m \u001b[38;5;28mdict\u001b[39m(title \u001b[38;5;241m=\u001b[39m title,\n\u001b[0;32m      4\u001b[0m               xaxis\u001b[38;5;241m=\u001b[39m \u001b[38;5;28mdict\u001b[39m(title\u001b[38;5;241m=\u001b[39m \u001b[38;5;124m'\u001b[39m\u001b[38;5;124mPC1\u001b[39m\u001b[38;5;124m'\u001b[39m,ticklen\u001b[38;5;241m=\u001b[39m \u001b[38;5;241m5\u001b[39m,zeroline\u001b[38;5;241m=\u001b[39m \u001b[38;5;28;01mFalse\u001b[39;00m),\n\u001b[0;32m      5\u001b[0m               yaxis\u001b[38;5;241m=\u001b[39m \u001b[38;5;28mdict\u001b[39m(title\u001b[38;5;241m=\u001b[39m \u001b[38;5;124m'\u001b[39m\u001b[38;5;124mPC2\u001b[39m\u001b[38;5;124m'\u001b[39m,ticklen\u001b[38;5;241m=\u001b[39m \u001b[38;5;241m5\u001b[39m,zeroline\u001b[38;5;241m=\u001b[39m \u001b[38;5;28;01mFalse\u001b[39;00m)\n\u001b[0;32m      6\u001b[0m              )\n\u001b[0;32m      8\u001b[0m fig \u001b[38;5;241m=\u001b[39m \u001b[38;5;28mdict\u001b[39m(data \u001b[38;5;241m=\u001b[39m data, layout \u001b[38;5;241m=\u001b[39m layout)\n\u001b[1;32m---> 10\u001b[0m \u001b[43miplot\u001b[49m\u001b[43m(\u001b[49m\u001b[43mfig\u001b[49m\u001b[43m)\u001b[49m\n",
      "File \u001b[1;32md:\\WorkSpace\\Project Beta Samruddhi\\Machine Learning\\.ml_env\\lib\\site-packages\\plotly\\offline\\offline.py:387\u001b[0m, in \u001b[0;36miplot\u001b[1;34m(figure_or_data, show_link, link_text, validate, image, filename, image_width, image_height, config, auto_play, animation_opts)\u001b[0m\n\u001b[0;32m    382\u001b[0m post_script \u001b[38;5;241m=\u001b[39m build_save_image_post_script(\n\u001b[0;32m    383\u001b[0m     image, filename, image_height, image_width, \u001b[38;5;124m\"\u001b[39m\u001b[38;5;124miplot\u001b[39m\u001b[38;5;124m\"\u001b[39m\n\u001b[0;32m    384\u001b[0m )\n\u001b[0;32m    386\u001b[0m \u001b[38;5;66;03m# Show figure\u001b[39;00m\n\u001b[1;32m--> 387\u001b[0m \u001b[43mpio\u001b[49m\u001b[38;5;241;43m.\u001b[39;49m\u001b[43mshow\u001b[49m\u001b[43m(\u001b[49m\n\u001b[0;32m    388\u001b[0m \u001b[43m    \u001b[49m\u001b[43mfigure\u001b[49m\u001b[43m,\u001b[49m\n\u001b[0;32m    389\u001b[0m \u001b[43m    \u001b[49m\u001b[43mvalidate\u001b[49m\u001b[38;5;241;43m=\u001b[39;49m\u001b[43mvalidate\u001b[49m\u001b[43m,\u001b[49m\n\u001b[0;32m    390\u001b[0m \u001b[43m    \u001b[49m\u001b[43mconfig\u001b[49m\u001b[38;5;241;43m=\u001b[39;49m\u001b[43mconfig\u001b[49m\u001b[43m,\u001b[49m\n\u001b[0;32m    391\u001b[0m \u001b[43m    \u001b[49m\u001b[43mauto_play\u001b[49m\u001b[38;5;241;43m=\u001b[39;49m\u001b[43mauto_play\u001b[49m\u001b[43m,\u001b[49m\n\u001b[0;32m    392\u001b[0m \u001b[43m    \u001b[49m\u001b[43mpost_script\u001b[49m\u001b[38;5;241;43m=\u001b[39;49m\u001b[43mpost_script\u001b[49m\u001b[43m,\u001b[49m\n\u001b[0;32m    393\u001b[0m \u001b[43m    \u001b[49m\u001b[43manimation_opts\u001b[49m\u001b[38;5;241;43m=\u001b[39;49m\u001b[43manimation_opts\u001b[49m\u001b[43m,\u001b[49m\n\u001b[0;32m    394\u001b[0m \u001b[43m\u001b[49m\u001b[43m)\u001b[49m\n",
      "File \u001b[1;32md:\\WorkSpace\\Project Beta Samruddhi\\Machine Learning\\.ml_env\\lib\\site-packages\\plotly\\io\\_renderers.py:394\u001b[0m, in \u001b[0;36mshow\u001b[1;34m(fig, renderer, validate, **kwargs)\u001b[0m\n\u001b[0;32m    389\u001b[0m         \u001b[38;5;28;01mraise\u001b[39;00m \u001b[38;5;167;01mValueError\u001b[39;00m(\n\u001b[0;32m    390\u001b[0m             \u001b[38;5;124m\"\u001b[39m\u001b[38;5;124mMime type rendering requires ipython but it is not installed\u001b[39m\u001b[38;5;124m\"\u001b[39m\n\u001b[0;32m    391\u001b[0m         )\n\u001b[0;32m    393\u001b[0m     \u001b[38;5;28;01mif\u001b[39;00m \u001b[38;5;129;01mnot\u001b[39;00m nbformat \u001b[38;5;129;01mor\u001b[39;00m Version(nbformat\u001b[38;5;241m.\u001b[39m__version__) \u001b[38;5;241m<\u001b[39m Version(\u001b[38;5;124m\"\u001b[39m\u001b[38;5;124m4.2.0\u001b[39m\u001b[38;5;124m\"\u001b[39m):\n\u001b[1;32m--> 394\u001b[0m         \u001b[38;5;28;01mraise\u001b[39;00m \u001b[38;5;167;01mValueError\u001b[39;00m(\n\u001b[0;32m    395\u001b[0m             \u001b[38;5;124m\"\u001b[39m\u001b[38;5;124mMime type rendering requires nbformat>=4.2.0 but it is not installed\u001b[39m\u001b[38;5;124m\"\u001b[39m\n\u001b[0;32m    396\u001b[0m         )\n\u001b[0;32m    398\u001b[0m     ipython_display\u001b[38;5;241m.\u001b[39mdisplay(bundle, raw\u001b[38;5;241m=\u001b[39m\u001b[38;5;28;01mTrue\u001b[39;00m)\n\u001b[0;32m    400\u001b[0m \u001b[38;5;66;03m# external renderers\u001b[39;00m\n",
      "\u001b[1;31mValueError\u001b[0m: Mime type rendering requires nbformat>=4.2.0 but it is not installed"
     ]
    }
   ],
   "source": [
    "title = \"Visualizing Clusters in Two Dimensions Using PCA\"\n",
    "\n",
    "layout = dict(title = title,\n",
    "              xaxis= dict(title= 'PC1',ticklen= 5,zeroline= False),\n",
    "              yaxis= dict(title= 'PC2',ticklen= 5,zeroline= False)\n",
    "             )\n",
    "\n",
    "fig = dict(data = data, layout = layout)\n",
    "\n",
    "iplot(fig)"
   ]
  },
  {
   "cell_type": "code",
   "execution_count": 117,
   "metadata": {},
   "outputs": [
    {
     "ename": "ValueError",
     "evalue": "Mime type rendering requires nbformat>=4.2.0 but it is not installed",
     "output_type": "error",
     "traceback": [
      "\u001b[1;31m---------------------------------------------------------------------------\u001b[0m",
      "\u001b[1;31mValueError\u001b[0m                                Traceback (most recent call last)",
      "Cell \u001b[1;32mIn[117], line 12\u001b[0m\n\u001b[0;32m      8\u001b[0m \u001b[38;5;66;03m# Plot using Plotly Express\u001b[39;00m\n\u001b[0;32m      9\u001b[0m fig \u001b[38;5;241m=\u001b[39m px\u001b[38;5;241m.\u001b[39mscatter(df_clusters, x\u001b[38;5;241m=\u001b[39m\u001b[38;5;124m\"\u001b[39m\u001b[38;5;124mPC1_2d\u001b[39m\u001b[38;5;124m\"\u001b[39m, y\u001b[38;5;241m=\u001b[39m\u001b[38;5;124m\"\u001b[39m\u001b[38;5;124mPC2_2d\u001b[39m\u001b[38;5;124m\"\u001b[39m, color\u001b[38;5;241m=\u001b[39m\u001b[38;5;124m\"\u001b[39m\u001b[38;5;124mcluster\u001b[39m\u001b[38;5;124m\"\u001b[39m,\n\u001b[0;32m     10\u001b[0m                  title\u001b[38;5;241m=\u001b[39m\u001b[38;5;124m\"\u001b[39m\u001b[38;5;124mVisualizing Clusters in Two Dimensions Using PCA\u001b[39m\u001b[38;5;124m\"\u001b[39m)\n\u001b[1;32m---> 12\u001b[0m \u001b[43mfig\u001b[49m\u001b[38;5;241;43m.\u001b[39;49m\u001b[43mshow\u001b[49m\u001b[43m(\u001b[49m\u001b[43m)\u001b[49m\n",
      "File \u001b[1;32md:\\WorkSpace\\Project Beta Samruddhi\\Machine Learning\\.ml_env\\lib\\site-packages\\plotly\\basedatatypes.py:3410\u001b[0m, in \u001b[0;36mBaseFigure.show\u001b[1;34m(self, *args, **kwargs)\u001b[0m\n\u001b[0;32m   3377\u001b[0m \u001b[38;5;250m\u001b[39m\u001b[38;5;124;03m\"\"\"\u001b[39;00m\n\u001b[0;32m   3378\u001b[0m \u001b[38;5;124;03mShow a figure using either the default renderer(s) or the renderer(s)\u001b[39;00m\n\u001b[0;32m   3379\u001b[0m \u001b[38;5;124;03mspecified by the renderer argument\u001b[39;00m\n\u001b[1;32m   (...)\u001b[0m\n\u001b[0;32m   3406\u001b[0m \u001b[38;5;124;03mNone\u001b[39;00m\n\u001b[0;32m   3407\u001b[0m \u001b[38;5;124;03m\"\"\"\u001b[39;00m\n\u001b[0;32m   3408\u001b[0m \u001b[38;5;28;01mimport\u001b[39;00m \u001b[38;5;21;01mplotly\u001b[39;00m\u001b[38;5;21;01m.\u001b[39;00m\u001b[38;5;21;01mio\u001b[39;00m \u001b[38;5;28;01mas\u001b[39;00m \u001b[38;5;21;01mpio\u001b[39;00m\n\u001b[1;32m-> 3410\u001b[0m \u001b[38;5;28;01mreturn\u001b[39;00m pio\u001b[38;5;241m.\u001b[39mshow(\u001b[38;5;28mself\u001b[39m, \u001b[38;5;241m*\u001b[39margs, \u001b[38;5;241m*\u001b[39m\u001b[38;5;241m*\u001b[39mkwargs)\n",
      "File \u001b[1;32md:\\WorkSpace\\Project Beta Samruddhi\\Machine Learning\\.ml_env\\lib\\site-packages\\plotly\\io\\_renderers.py:394\u001b[0m, in \u001b[0;36mshow\u001b[1;34m(fig, renderer, validate, **kwargs)\u001b[0m\n\u001b[0;32m    389\u001b[0m         \u001b[38;5;28;01mraise\u001b[39;00m \u001b[38;5;167;01mValueError\u001b[39;00m(\n\u001b[0;32m    390\u001b[0m             \u001b[38;5;124m\"\u001b[39m\u001b[38;5;124mMime type rendering requires ipython but it is not installed\u001b[39m\u001b[38;5;124m\"\u001b[39m\n\u001b[0;32m    391\u001b[0m         )\n\u001b[0;32m    393\u001b[0m     \u001b[38;5;28;01mif\u001b[39;00m \u001b[38;5;129;01mnot\u001b[39;00m nbformat \u001b[38;5;129;01mor\u001b[39;00m Version(nbformat\u001b[38;5;241m.\u001b[39m__version__) \u001b[38;5;241m<\u001b[39m Version(\u001b[38;5;124m\"\u001b[39m\u001b[38;5;124m4.2.0\u001b[39m\u001b[38;5;124m\"\u001b[39m):\n\u001b[1;32m--> 394\u001b[0m         \u001b[38;5;28;01mraise\u001b[39;00m \u001b[38;5;167;01mValueError\u001b[39;00m(\n\u001b[0;32m    395\u001b[0m             \u001b[38;5;124m\"\u001b[39m\u001b[38;5;124mMime type rendering requires nbformat>=4.2.0 but it is not installed\u001b[39m\u001b[38;5;124m\"\u001b[39m\n\u001b[0;32m    396\u001b[0m         )\n\u001b[0;32m    398\u001b[0m     ipython_display\u001b[38;5;241m.\u001b[39mdisplay(bundle, raw\u001b[38;5;241m=\u001b[39m\u001b[38;5;28;01mTrue\u001b[39;00m)\n\u001b[0;32m    400\u001b[0m \u001b[38;5;66;03m# external renderers\u001b[39;00m\n",
      "\u001b[1;31mValueError\u001b[0m: Mime type rendering requires nbformat>=4.2.0 but it is not installed"
     ]
    }
   ],
   "source": [
    "import plotly.express as px\n",
    "\n",
    "# Concatenate cluster data for plotting\n",
    "df_clusters = pd.concat([cluster0.assign(cluster=\"Cluster 0\"),\n",
    "                         cluster1.assign(cluster=\"Cluster 1\"),\n",
    "                         cluster2.assign(cluster=\"Cluster 2\")])\n",
    "\n",
    "# Plot using Plotly Express\n",
    "fig = px.scatter(df_clusters, x=\"PC1_2d\", y=\"PC2_2d\", color=\"cluster\",\n",
    "                 title=\"Visualizing Clusters in Two Dimensions Using PCA\")\n",
    "\n",
    "fig.show()\n"
   ]
  },
  {
   "cell_type": "code",
   "execution_count": 130,
   "metadata": {},
   "outputs": [
    {
     "name": "stdout",
     "output_type": "stream",
     "text": [
      "Collecting nbformat==4.2.0\n",
      "  Downloading nbformat-4.2.0-py2.py3-none-any.whl (153 kB)\n",
      "Requirement already satisfied: jupyter-core in d:\\workspace\\project beta samruddhi\\machine learning\\.ml_env\\lib\\site-packages (from nbformat==4.2.0) (5.7.2)\n",
      "Collecting ipython-genutils\n",
      "  Downloading ipython_genutils-0.2.0-py2.py3-none-any.whl (26 kB)\n",
      "Requirement already satisfied: jsonschema!=2.5.0,>=2.4 in d:\\workspace\\project beta samruddhi\\machine learning\\.ml_env\\lib\\site-packages (from nbformat==4.2.0) (4.23.0)\n",
      "Requirement already satisfied: traitlets>=4.1 in d:\\workspace\\project beta samruddhi\\machine learning\\.ml_env\\lib\\site-packages (from nbformat==4.2.0) (5.14.3)\n",
      "Requirement already satisfied: attrs>=22.2.0 in d:\\workspace\\project beta samruddhi\\machine learning\\.ml_env\\lib\\site-packages (from jsonschema!=2.5.0,>=2.4->nbformat==4.2.0) (24.2.0)\n",
      "Requirement already satisfied: referencing>=0.28.4 in d:\\workspace\\project beta samruddhi\\machine learning\\.ml_env\\lib\\site-packages (from jsonschema!=2.5.0,>=2.4->nbformat==4.2.0) (0.35.1)\n",
      "Requirement already satisfied: rpds-py>=0.7.1 in d:\\workspace\\project beta samruddhi\\machine learning\\.ml_env\\lib\\site-packages (from jsonschema!=2.5.0,>=2.4->nbformat==4.2.0) (0.20.0)\n",
      "Requirement already satisfied: jsonschema-specifications>=2023.03.6 in d:\\workspace\\project beta samruddhi\\machine learning\\.ml_env\\lib\\site-packages (from jsonschema!=2.5.0,>=2.4->nbformat==4.2.0) (2024.10.1)\n",
      "Requirement already satisfied: pywin32>=300 in d:\\workspace\\project beta samruddhi\\machine learning\\.ml_env\\lib\\site-packages (from jupyter-core->nbformat==4.2.0) (308)\n",
      "Requirement already satisfied: platformdirs>=2.5 in d:\\workspace\\project beta samruddhi\\machine learning\\.ml_env\\lib\\site-packages (from jupyter-core->nbformat==4.2.0) (4.3.6)\n",
      "Installing collected packages: ipython-genutils, nbformat\n",
      "  Attempting uninstall: nbformat\n",
      "    Found existing installation: nbformat 5.10.4\n",
      "    Uninstalling nbformat-5.10.4:\n",
      "      Successfully uninstalled nbformat-5.10.4\n",
      "Successfully installed ipython-genutils-0.2.0 nbformat-4.2.0\n"
     ]
    },
    {
     "name": "stderr",
     "output_type": "stream",
     "text": [
      "WARNING: You are using pip version 21.2.3; however, version 24.2 is available.\n",
      "You should consider upgrading via the 'D:\\WorkSpace\\Project Beta Samruddhi\\Machine Learning\\.ml_env\\Scripts\\python.exe -m pip install --upgrade pip' command.\n"
     ]
    }
   ],
   "source": [
    "! pip install  nbformat==4.2.0\n"
   ]
  },
  {
   "cell_type": "code",
   "execution_count": 118,
   "metadata": {},
   "outputs": [
    {
     "data": {
      "text/html": [
       "        <script type=\"text/javascript\">\n",
       "        window.PlotlyConfig = {MathJaxConfig: 'local'};\n",
       "        if (window.MathJax && window.MathJax.Hub && window.MathJax.Hub.Config) {window.MathJax.Hub.Config({SVG: {font: \"STIX-Web\"}});}\n",
       "        if (typeof require !== 'undefined') {\n",
       "        require.undef(\"plotly\");\n",
       "        requirejs.config({\n",
       "            paths: {\n",
       "                'plotly': ['https://cdn.plot.ly/plotly-2.35.2.min']\n",
       "            }\n",
       "        });\n",
       "        require(['plotly'], function(Plotly) {\n",
       "            window._Plotly = Plotly;\n",
       "        });\n",
       "        }\n",
       "        </script>\n",
       "        "
      ]
     },
     "metadata": {},
     "output_type": "display_data"
    },
    {
     "ename": "ValueError",
     "evalue": "Mime type rendering requires nbformat>=4.2.0 but it is not installed",
     "output_type": "error",
     "traceback": [
      "\u001b[1;31m---------------------------------------------------------------------------\u001b[0m",
      "\u001b[1;31mValueError\u001b[0m                                Traceback (most recent call last)",
      "Cell \u001b[1;32mIn[118], line 42\u001b[0m\n\u001b[0;32m     39\u001b[0m fig \u001b[38;5;241m=\u001b[39m \u001b[38;5;28mdict\u001b[39m(data \u001b[38;5;241m=\u001b[39m data, layout \u001b[38;5;241m=\u001b[39m layout)\n\u001b[0;32m     41\u001b[0m \u001b[38;5;66;03m# Plot offline\u001b[39;00m\n\u001b[1;32m---> 42\u001b[0m \u001b[43mpyo\u001b[49m\u001b[38;5;241;43m.\u001b[39;49m\u001b[43miplot\u001b[49m\u001b[43m(\u001b[49m\u001b[43mfig\u001b[49m\u001b[43m)\u001b[49m\n",
      "File \u001b[1;32md:\\WorkSpace\\Project Beta Samruddhi\\Machine Learning\\.ml_env\\lib\\site-packages\\plotly\\offline\\offline.py:387\u001b[0m, in \u001b[0;36miplot\u001b[1;34m(figure_or_data, show_link, link_text, validate, image, filename, image_width, image_height, config, auto_play, animation_opts)\u001b[0m\n\u001b[0;32m    382\u001b[0m post_script \u001b[38;5;241m=\u001b[39m build_save_image_post_script(\n\u001b[0;32m    383\u001b[0m     image, filename, image_height, image_width, \u001b[38;5;124m\"\u001b[39m\u001b[38;5;124miplot\u001b[39m\u001b[38;5;124m\"\u001b[39m\n\u001b[0;32m    384\u001b[0m )\n\u001b[0;32m    386\u001b[0m \u001b[38;5;66;03m# Show figure\u001b[39;00m\n\u001b[1;32m--> 387\u001b[0m \u001b[43mpio\u001b[49m\u001b[38;5;241;43m.\u001b[39;49m\u001b[43mshow\u001b[49m\u001b[43m(\u001b[49m\n\u001b[0;32m    388\u001b[0m \u001b[43m    \u001b[49m\u001b[43mfigure\u001b[49m\u001b[43m,\u001b[49m\n\u001b[0;32m    389\u001b[0m \u001b[43m    \u001b[49m\u001b[43mvalidate\u001b[49m\u001b[38;5;241;43m=\u001b[39;49m\u001b[43mvalidate\u001b[49m\u001b[43m,\u001b[49m\n\u001b[0;32m    390\u001b[0m \u001b[43m    \u001b[49m\u001b[43mconfig\u001b[49m\u001b[38;5;241;43m=\u001b[39;49m\u001b[43mconfig\u001b[49m\u001b[43m,\u001b[49m\n\u001b[0;32m    391\u001b[0m \u001b[43m    \u001b[49m\u001b[43mauto_play\u001b[49m\u001b[38;5;241;43m=\u001b[39;49m\u001b[43mauto_play\u001b[49m\u001b[43m,\u001b[49m\n\u001b[0;32m    392\u001b[0m \u001b[43m    \u001b[49m\u001b[43mpost_script\u001b[49m\u001b[38;5;241;43m=\u001b[39;49m\u001b[43mpost_script\u001b[49m\u001b[43m,\u001b[49m\n\u001b[0;32m    393\u001b[0m \u001b[43m    \u001b[49m\u001b[43manimation_opts\u001b[49m\u001b[38;5;241;43m=\u001b[39;49m\u001b[43manimation_opts\u001b[49m\u001b[43m,\u001b[49m\n\u001b[0;32m    394\u001b[0m \u001b[43m\u001b[49m\u001b[43m)\u001b[49m\n",
      "File \u001b[1;32md:\\WorkSpace\\Project Beta Samruddhi\\Machine Learning\\.ml_env\\lib\\site-packages\\plotly\\io\\_renderers.py:394\u001b[0m, in \u001b[0;36mshow\u001b[1;34m(fig, renderer, validate, **kwargs)\u001b[0m\n\u001b[0;32m    389\u001b[0m         \u001b[38;5;28;01mraise\u001b[39;00m \u001b[38;5;167;01mValueError\u001b[39;00m(\n\u001b[0;32m    390\u001b[0m             \u001b[38;5;124m\"\u001b[39m\u001b[38;5;124mMime type rendering requires ipython but it is not installed\u001b[39m\u001b[38;5;124m\"\u001b[39m\n\u001b[0;32m    391\u001b[0m         )\n\u001b[0;32m    393\u001b[0m     \u001b[38;5;28;01mif\u001b[39;00m \u001b[38;5;129;01mnot\u001b[39;00m nbformat \u001b[38;5;129;01mor\u001b[39;00m Version(nbformat\u001b[38;5;241m.\u001b[39m__version__) \u001b[38;5;241m<\u001b[39m Version(\u001b[38;5;124m\"\u001b[39m\u001b[38;5;124m4.2.0\u001b[39m\u001b[38;5;124m\"\u001b[39m):\n\u001b[1;32m--> 394\u001b[0m         \u001b[38;5;28;01mraise\u001b[39;00m \u001b[38;5;167;01mValueError\u001b[39;00m(\n\u001b[0;32m    395\u001b[0m             \u001b[38;5;124m\"\u001b[39m\u001b[38;5;124mMime type rendering requires nbformat>=4.2.0 but it is not installed\u001b[39m\u001b[38;5;124m\"\u001b[39m\n\u001b[0;32m    396\u001b[0m         )\n\u001b[0;32m    398\u001b[0m     ipython_display\u001b[38;5;241m.\u001b[39mdisplay(bundle, raw\u001b[38;5;241m=\u001b[39m\u001b[38;5;28;01mTrue\u001b[39;00m)\n\u001b[0;32m    400\u001b[0m \u001b[38;5;66;03m# external renderers\u001b[39;00m\n",
      "\u001b[1;31mValueError\u001b[0m: Mime type rendering requires nbformat>=4.2.0 but it is not installed"
     ]
    }
   ],
   "source": [
    "import plotly.offline as pyo\n",
    "import plotly.graph_objs as go\n",
    "\n",
    "# Set notebook mode to offline\n",
    "pyo.init_notebook_mode(connected=True)\n",
    "\n",
    "# Define traces\n",
    "trace1 = go.Scatter(\n",
    "                    x = cluster0[\"PC1_2d\"],\n",
    "                    y = cluster0[\"PC2_2d\"],\n",
    "                    mode = \"markers\",\n",
    "                    name = \"Cluster 0\",\n",
    "                    marker = dict(color = 'rgba(255, 128, 255, 0.8)'),\n",
    "                    text = None)\n",
    "\n",
    "trace2 = go.Scatter(\n",
    "                    x = cluster1[\"PC1_2d\"],\n",
    "                    y = cluster1[\"PC2_2d\"],\n",
    "                    mode = \"markers\",\n",
    "                    name = \"Cluster 1\",\n",
    "                    marker = dict(color = 'rgba(255, 128, 2, 0.8)'),\n",
    "                    text = None)\n",
    "\n",
    "trace3 = go.Scatter(\n",
    "                    x = cluster2[\"PC1_2d\"],\n",
    "                    y = cluster2[\"PC2_2d\"],\n",
    "                    mode = \"markers\",\n",
    "                    name = \"Cluster 2\",\n",
    "                    marker = dict(color = 'rgba(0, 255, 200, 0.8)'),\n",
    "                    text = None)\n",
    "\n",
    "# Data and layout\n",
    "data = [trace1, trace2, trace3]\n",
    "layout = dict(title = \"Visualizing Clusters in Two Dimensions Using PCA\",\n",
    "              xaxis= dict(title= 'PC1',ticklen= 5,zeroline= False),\n",
    "              yaxis= dict(title= 'PC2',ticklen= 5,zeroline= False))\n",
    "\n",
    "# Create figure\n",
    "fig = dict(data = data, layout = layout)\n",
    "\n",
    "# Plot offline\n",
    "pyo.iplot(fig)\n"
   ]
  },
  {
   "cell_type": "code",
   "execution_count": null,
   "metadata": {},
   "outputs": [],
   "source": []
  }
 ],
 "metadata": {
  "kernelspec": {
   "display_name": ".ml_env",
   "language": "python",
   "name": "python3"
  },
  "language_info": {
   "codemirror_mode": {
    "name": "ipython",
    "version": 3
   },
   "file_extension": ".py",
   "mimetype": "text/x-python",
   "name": "python",
   "nbconvert_exporter": "python",
   "pygments_lexer": "ipython3",
   "version": "3.10.0"
  }
 },
 "nbformat": 4,
 "nbformat_minor": 2
}
